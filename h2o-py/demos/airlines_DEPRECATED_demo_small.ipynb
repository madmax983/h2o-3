{
 "cells": [
  {
   "cell_type": "code",
   "execution_count": 1,
   "metadata": {
    "collapsed": true
   },
   "outputs": [],
   "source": [
    "import h2o\n",
    "import pandas\n",
    "import pprint\n",
    "import operator\n",
    "import matplotlib\n",
    "from tabulate import tabulate"
   ]
  },
  {
   "cell_type": "code",
   "execution_count": 2,
   "metadata": {
    "collapsed": false
   },
   "outputs": [
    {
     "name": "stdout",
     "output_type": "stream",
     "text": [
      "Warning: Version mismatch. H2O is version (unknown), but the python package is version UNKNOWN.\n"
     ]
    },
    {
     "data": {
      "text/html": [
       "<div style=\"overflow:auto\"><table style=\"width:50%\"><tr><td>H2O cluster uptime: </td>\n",
       "<td>9 minutes 43 seconds 331 milliseconds </td></tr>\n",
       "<tr><td>H2O cluster version: </td>\n",
       "<td>(unknown)</td></tr>\n",
       "<tr><td>H2O cluster name: </td>\n",
       "<td>spIdea</td></tr>\n",
       "<tr><td>H2O cluster total nodes: </td>\n",
       "<td>1</td></tr>\n",
       "<tr><td>H2O cluster total memory: </td>\n",
       "<td>12.44 GB</td></tr>\n",
       "<tr><td>H2O cluster total cores: </td>\n",
       "<td>8</td></tr>\n",
       "<tr><td>H2O cluster allowed cores: </td>\n",
       "<td>8</td></tr>\n",
       "<tr><td>H2O cluster healthy: </td>\n",
       "<td>True</td></tr>\n",
       "<tr><td>H2O Connection ip: </td>\n",
       "<td>127.0.0.1</td></tr>\n",
       "<tr><td>H2O Connection port: </td>\n",
       "<td>54321</td></tr></table></div>"
      ],
      "text/plain": [
       "--------------------------  -------------------------------------\n",
       "H2O cluster uptime:         9 minutes 43 seconds 331 milliseconds\n",
       "H2O cluster version:        (unknown)\n",
       "H2O cluster name:           spIdea\n",
       "H2O cluster total nodes:    1\n",
       "H2O cluster total memory:   12.44 GB\n",
       "H2O cluster total cores:    8\n",
       "H2O cluster allowed cores:  8\n",
       "H2O cluster healthy:        True\n",
       "H2O Connection ip:          127.0.0.1\n",
       "H2O Connection port:        54321\n",
       "--------------------------  -------------------------------------"
      ]
     },
     "metadata": {},
     "output_type": "display_data"
    }
   ],
   "source": [
    "# Connect to a cluster\n",
    "h2o.init()"
   ]
  },
  {
   "cell_type": "code",
   "execution_count": 3,
   "metadata": {
    "collapsed": true
   },
   "outputs": [],
   "source": [
    "# set this to True if interactive (matplotlib) plots are desired\n",
    "interactive = False\n",
    "if not interactive: matplotlib.use('Agg', warn=False)\n",
    "import matplotlib.pyplot as plt"
   ]
  },
  {
   "cell_type": "code",
   "execution_count": 4,
   "metadata": {
    "collapsed": false
   },
   "outputs": [
    {
     "name": "stdout",
     "output_type": "stream",
     "text": [
      "Import and Parse airlines data\n",
      "\n",
      "Parse Progress: [##################################################] 100%\n",
      "Rows:43,978 Cols:31\n",
      "\n",
      "Chunk compression summary:\n"
     ]
    },
    {
     "data": {
      "text/html": [
       "<div style=\"overflow:auto\"><table style=\"width:50%\"><tr><td><b>chunk_type</b></td>\n",
       "<td><b>chunk_name</b></td>\n",
       "<td><b>count</b></td>\n",
       "<td><b>count_percentage</b></td>\n",
       "<td><b>size</b></td>\n",
       "<td><b>size_percentage</b></td></tr>\n",
       "<tr><td>C0L</td>\n",
       "<td>Constant Integers</td>\n",
       "<td>10</td>\n",
       "<td>5.376344</td>\n",
       "<td>    800  B</td>\n",
       "<td>0.1</td></tr>\n",
       "<tr><td>C0D</td>\n",
       "<td>Constant Reals</td>\n",
       "<td>23</td>\n",
       "<td>12.365591</td>\n",
       "<td>    1.8 KB</td>\n",
       "<td>0.1</td></tr>\n",
       "<tr><td>CBS</td>\n",
       "<td>Bits</td>\n",
       "<td>2</td>\n",
       "<td>1.0752689</td>\n",
       "<td>    2.0 KB</td>\n",
       "<td>0.1</td></tr>\n",
       "<tr><td>CX0</td>\n",
       "<td>Sparse Bits</td>\n",
       "<td>10</td>\n",
       "<td>5.376344</td>\n",
       "<td>    1.9 KB</td>\n",
       "<td>0.1</td></tr>\n",
       "<tr><td>C1</td>\n",
       "<td>1-Byte Integers</td>\n",
       "<td>40</td>\n",
       "<td>21.505377</td>\n",
       "<td>  287.8 KB</td>\n",
       "<td>18.564957</td></tr>\n",
       "<tr><td>C1N</td>\n",
       "<td>1-Byte Integers (w/o NAs)</td>\n",
       "<td>19</td>\n",
       "<td>10.215054</td>\n",
       "<td>  133.1 KB</td>\n",
       "<td>8.58617</td></tr>\n",
       "<tr><td>C1S</td>\n",
       "<td>1-Byte Fractions</td>\n",
       "<td>6</td>\n",
       "<td>3.2258065</td>\n",
       "<td>   43.4 KB</td>\n",
       "<td>2.8024976</td></tr>\n",
       "<tr><td>C2</td>\n",
       "<td>2-Byte Integers</td>\n",
       "<td>76</td>\n",
       "<td>40.860214</td>\n",
       "<td>    1.1 MB</td>\n",
       "<td>69.628105</td></tr></table></div>"
      ],
      "text/plain": [
       "chunk_type    chunk_name                 count    count_percentage    size      size_percentage\n",
       "------------  -------------------------  -------  ------------------  --------  -----------------\n",
       "C0L           Constant Integers          10       5.37634             800  B    0.0504024\n",
       "C0D           Constant Reals             23       12.3656             1.8 KB    0.115925\n",
       "CBS           Bits                       2        1.07527             2.0 KB    0.127203\n",
       "CX0           Sparse Bits                10       5.37634             1.9 KB    0.124746\n",
       "C1            1-Byte Integers            40       21.5054             287.8 KB  18.565\n",
       "C1N           1-Byte Integers (w/o NAs)  19       10.2151             133.1 KB  8.58617\n",
       "C1S           1-Byte Fractions           6        3.22581             43.4 KB   2.8025\n",
       "C2            2-Byte Integers            76       40.8602             1.1 MB    69.6281"
      ]
     },
     "metadata": {},
     "output_type": "display_data"
    },
    {
     "name": "stdout",
     "output_type": "stream",
     "text": [
      "\n",
      "Frame distribution summary:\n"
     ]
    },
    {
     "data": {
      "text/html": [
       "<div style=\"overflow:auto\"><table style=\"width:50%\"><tr><td><b></b></td>\n",
       "<td><b>size</b></td>\n",
       "<td><b>number_of_rows</b></td>\n",
       "<td><b>number_of_chunks_per_column</b></td>\n",
       "<td><b>number_of_chunks</b></td></tr>\n",
       "<tr><td>172.16.2.52:54321</td>\n",
       "<td>    1.5 MB</td>\n",
       "<td>43978.0</td>\n",
       "<td>6.0</td>\n",
       "<td>186.0</td></tr>\n",
       "<tr><td>mean</td>\n",
       "<td>    1.5 MB</td>\n",
       "<td>43978.0</td>\n",
       "<td>6.0</td>\n",
       "<td>186.0</td></tr>\n",
       "<tr><td>min</td>\n",
       "<td>    1.5 MB</td>\n",
       "<td>43978.0</td>\n",
       "<td>6.0</td>\n",
       "<td>186.0</td></tr>\n",
       "<tr><td>max</td>\n",
       "<td>    1.5 MB</td>\n",
       "<td>43978.0</td>\n",
       "<td>6.0</td>\n",
       "<td>186.0</td></tr>\n",
       "<tr><td>stddev</td>\n",
       "<td>      0  B</td>\n",
       "<td>0.0</td>\n",
       "<td>0.0</td>\n",
       "<td>0.0</td></tr>\n",
       "<tr><td>total</td>\n",
       "<td>    1.5 MB</td>\n",
       "<td>43978.0</td>\n",
       "<td>6.0</td>\n",
       "<td>186.0</td></tr></table></div>"
      ],
      "text/plain": [
       "                   size    number_of_rows    number_of_chunks_per_column    number_of_chunks\n",
       "-----------------  ------  ----------------  -----------------------------  ------------------\n",
       "172.16.2.52:54321  1.5 MB  43978             6                              186\n",
       "mean               1.5 MB  43978             6                              186\n",
       "min                1.5 MB  43978             6                              186\n",
       "max                1.5 MB  43978             6                              186\n",
       "stddev             0  B    0                 0                              0\n",
       "total              1.5 MB  43978             6                              186"
      ]
     },
     "metadata": {},
     "output_type": "display_data"
    },
    {
     "name": "stdout",
     "output_type": "stream",
     "text": [
      "\n",
      "\n"
     ]
    },
    {
     "data": {
      "text/html": [
       "<table>\n",
       "<tr><th>       </th><th>Year         </th><th>Month        </th><th>DayofMonth   </th><th>DayOfWeek    </th><th>DepTime      </th><th>CRSDepTime   </th><th>ArrTime      </th><th>CRSArrTime   </th><th>UniqueCarrier  </th><th>FlightNum    </th><th>TailNum  </th><th>ActualElapsedTime  </th><th>CRSElapsedTime  </th><th>AirTime      </th><th>ArrDelay     </th><th>DepDelay     </th><th>Origin  </th><th>Dest  </th><th>Distance     </th><th>TaxiIn       </th><th>TaxiOut      </th><th>Cancelled      </th><th>CancellationCode  </th><th>Diverted        </th><th>CarrierDelay  </th><th>WeatherDelay  </th><th>NASDelay     </th><th>SecurityDelay  </th><th>LateAircraftDelay  </th><th>IsArrDelayed  </th><th>IsDepDelayed  </th></tr>\n",
       "<tr><td>type   </td><td>int          </td><td>int          </td><td>int          </td><td>int          </td><td>int          </td><td>int          </td><td>int          </td><td>int          </td><td>enum           </td><td>int          </td><td>enum     </td><td>int                </td><td>int             </td><td>int          </td><td>int          </td><td>int          </td><td>enum    </td><td>enum  </td><td>int          </td><td>int          </td><td>int          </td><td>int            </td><td>enum              </td><td>int             </td><td>int           </td><td>int           </td><td>int          </td><td>int            </td><td>int                </td><td>enum          </td><td>enum          </td></tr>\n",
       "<tr><td>mins   </td><td>1987.0       </td><td>1.0          </td><td>1.0          </td><td>1.0          </td><td>1.0          </td><td>0.0          </td><td>1.0          </td><td>0.0          </td><td>0.0            </td><td>1.0          </td><td>0.0      </td><td>16.0               </td><td>17.0            </td><td>14.0         </td><td>-63.0        </td><td>-16.0        </td><td>0.0     </td><td>0.0   </td><td>11.0         </td><td>0.0          </td><td>0.0          </td><td>0.0            </td><td>0.0               </td><td>0.0             </td><td>0.0           </td><td>0.0           </td><td>0.0          </td><td>0.0            </td><td>0.0                </td><td>0.0           </td><td>0.0           </td></tr>\n",
       "<tr><td>mean   </td><td>1997.5       </td><td>1.40909090909</td><td>14.6010732639</td><td>3.82061485288</td><td>1345.84666138</td><td>1313.22286143</td><td>1504.63413038</td><td>1485.28916731</td><td>NaN            </td><td>818.842989677</td><td>NaN      </td><td>124.814529135      </td><td>125.021562607   </td><td>114.316111091</td><td>9.31711193698</td><td>10.0073906556</td><td>NaN     </td><td>NaN   </td><td>730.182190565</td><td>5.38136805953</td><td>14.1686341847</td><td>0.0246941652645</td><td>NaN               </td><td>0.00247851198326</td><td>4.04780029106 </td><td>0.289376469271</td><td>4.85503190418</td><td>0.0170155602821</td><td>7.62006045002      </td><td>0.555755150302</td><td>0.525057983537</td></tr>\n",
       "<tr><td>maxs   </td><td>2008.0       </td><td>10.0         </td><td>31.0         </td><td>7.0          </td><td>2400.0       </td><td>2359.0       </td><td>2400.0       </td><td>2359.0       </td><td>9.0            </td><td>3949.0       </td><td>3500.0   </td><td>475.0              </td><td>437.0           </td><td>402.0        </td><td>475.0        </td><td>473.0        </td><td>131.0   </td><td>133.0 </td><td>3365.0       </td><td>128.0        </td><td>254.0        </td><td>1.0            </td><td>3.0               </td><td>1.0             </td><td>369.0         </td><td>201.0         </td><td>323.0        </td><td>14.0           </td><td>373.0              </td><td>1.0           </td><td>1.0           </td></tr>\n",
       "<tr><td>sigma  </td><td>6.34436090171</td><td>1.87471137134</td><td>9.17579042586</td><td>1.90501311913</td><td>465.340899124</td><td>476.251139993</td><td>484.347487904</td><td>492.750434123</td><td>NaN            </td><td>777.404369164</td><td>NaN      </td><td>73.9744416606      </td><td>73.40159463     </td><td>69.6363295151</td><td>29.8402219624</td><td>26.4388090429</td><td>NaN     </td><td>NaN   </td><td>578.43800823 </td><td>4.20197993986</td><td>9.9050857472 </td><td>0.155193141358 </td><td>NaN               </td><td>0.0497234872189 </td><td>16.2057299045 </td><td>4.41677989873 </td><td>18.6197762215</td><td>0.403940182102 </td><td>23.4875658741      </td><td>0.496887288343</td><td>0.499377380318</td></tr>\n",
       "<tr><td>zeros  </td><td>0            </td><td>0            </td><td>0            </td><td>0            </td><td>0            </td><td>569          </td><td>0            </td><td>569          </td><td>724            </td><td>0            </td><td>2        </td><td>0                  </td><td>0               </td><td>-8878        </td><td>1514         </td><td>6393         </td><td>59      </td><td>172   </td><td>0            </td><td>-8255        </td><td>-8321        </td><td>42892          </td><td>81                </td><td>43869           </td><td>-23296        </td><td>-21800        </td><td>-23252       </td><td>-21726         </td><td>-23500             </td><td>19537         </td><td>20887         </td></tr>\n",
       "<tr><td>missing</td><td>0            </td><td>0            </td><td>0            </td><td>0            </td><td>1086         </td><td>0            </td><td>1195         </td><td>0            </td><td>0              </td><td>0            </td><td>32       </td><td>1195               </td><td>13              </td><td>16649        </td><td>1195         </td><td>1086         </td><td>0       </td><td>0     </td><td>35           </td><td>16026        </td><td>16024        </td><td>0              </td><td>9774              </td><td>0               </td><td>35045         </td><td>35045         </td><td>35045        </td><td>35045          </td><td>35045              </td><td>0             </td><td>0             </td></tr>\n",
       "<tr><td>0      </td><td>1987.0       </td><td>10.0         </td><td>14.0         </td><td>3.0          </td><td>741.0        </td><td>730.0        </td><td>912.0        </td><td>849.0        </td><td>PS             </td><td>1451.0       </td><td>NA       </td><td>91.0               </td><td>79.0            </td><td>nan          </td><td>23.0         </td><td>11.0         </td><td>SAN     </td><td>SFO   </td><td>447.0        </td><td>nan          </td><td>nan          </td><td>0.0            </td><td>NA                </td><td>0.0             </td><td>nan           </td><td>nan           </td><td>nan          </td><td>nan            </td><td>nan                </td><td>YES           </td><td>YES           </td></tr>\n",
       "<tr><td>1      </td><td>1987.0       </td><td>10.0         </td><td>15.0         </td><td>4.0          </td><td>729.0        </td><td>730.0        </td><td>903.0        </td><td>849.0        </td><td>PS             </td><td>1451.0       </td><td>NA       </td><td>94.0               </td><td>79.0            </td><td>nan          </td><td>14.0         </td><td>-1.0         </td><td>SAN     </td><td>SFO   </td><td>447.0        </td><td>nan          </td><td>nan          </td><td>0.0            </td><td>NA                </td><td>0.0             </td><td>nan           </td><td>nan           </td><td>nan          </td><td>nan            </td><td>nan                </td><td>YES           </td><td>NO            </td></tr>\n",
       "<tr><td>2      </td><td>1987.0       </td><td>10.0         </td><td>17.0         </td><td>6.0          </td><td>741.0        </td><td>730.0        </td><td>918.0        </td><td>849.0        </td><td>PS             </td><td>1451.0       </td><td>NA       </td><td>97.0               </td><td>79.0            </td><td>nan          </td><td>29.0         </td><td>11.0         </td><td>SAN     </td><td>SFO   </td><td>447.0        </td><td>nan          </td><td>nan          </td><td>0.0            </td><td>NA                </td><td>0.0             </td><td>nan           </td><td>nan           </td><td>nan          </td><td>nan            </td><td>nan                </td><td>YES           </td><td>YES           </td></tr>\n",
       "<tr><td>3      </td><td>1987.0       </td><td>10.0         </td><td>18.0         </td><td>7.0          </td><td>729.0        </td><td>730.0        </td><td>847.0        </td><td>849.0        </td><td>PS             </td><td>1451.0       </td><td>NA       </td><td>78.0               </td><td>79.0            </td><td>nan          </td><td>-2.0         </td><td>-1.0         </td><td>SAN     </td><td>SFO   </td><td>447.0        </td><td>nan          </td><td>nan          </td><td>0.0            </td><td>NA                </td><td>0.0             </td><td>nan           </td><td>nan           </td><td>nan          </td><td>nan            </td><td>nan                </td><td>NO            </td><td>NO            </td></tr>\n",
       "<tr><td>4      </td><td>1987.0       </td><td>10.0         </td><td>19.0         </td><td>1.0          </td><td>749.0        </td><td>730.0        </td><td>922.0        </td><td>849.0        </td><td>PS             </td><td>1451.0       </td><td>NA       </td><td>93.0               </td><td>79.0            </td><td>nan          </td><td>33.0         </td><td>19.0         </td><td>SAN     </td><td>SFO   </td><td>447.0        </td><td>nan          </td><td>nan          </td><td>0.0            </td><td>NA                </td><td>0.0             </td><td>nan           </td><td>nan           </td><td>nan          </td><td>nan            </td><td>nan                </td><td>YES           </td><td>YES           </td></tr>\n",
       "<tr><td>5      </td><td>1987.0       </td><td>10.0         </td><td>21.0         </td><td>3.0          </td><td>728.0        </td><td>730.0        </td><td>848.0        </td><td>849.0        </td><td>PS             </td><td>1451.0       </td><td>NA       </td><td>80.0               </td><td>79.0            </td><td>nan          </td><td>-1.0         </td><td>-2.0         </td><td>SAN     </td><td>SFO   </td><td>447.0        </td><td>nan          </td><td>nan          </td><td>0.0            </td><td>NA                </td><td>0.0             </td><td>nan           </td><td>nan           </td><td>nan          </td><td>nan            </td><td>nan                </td><td>NO            </td><td>NO            </td></tr>\n",
       "<tr><td>6      </td><td>1987.0       </td><td>10.0         </td><td>22.0         </td><td>4.0          </td><td>728.0        </td><td>730.0        </td><td>852.0        </td><td>849.0        </td><td>PS             </td><td>1451.0       </td><td>NA       </td><td>84.0               </td><td>79.0            </td><td>nan          </td><td>3.0          </td><td>-2.0         </td><td>SAN     </td><td>SFO   </td><td>447.0        </td><td>nan          </td><td>nan          </td><td>0.0            </td><td>NA                </td><td>0.0             </td><td>nan           </td><td>nan           </td><td>nan          </td><td>nan            </td><td>nan                </td><td>YES           </td><td>NO            </td></tr>\n",
       "<tr><td>7      </td><td>1987.0       </td><td>10.0         </td><td>23.0         </td><td>5.0          </td><td>731.0        </td><td>730.0        </td><td>902.0        </td><td>849.0        </td><td>PS             </td><td>1451.0       </td><td>NA       </td><td>91.0               </td><td>79.0            </td><td>nan          </td><td>13.0         </td><td>1.0          </td><td>SAN     </td><td>SFO   </td><td>447.0        </td><td>nan          </td><td>nan          </td><td>0.0            </td><td>NA                </td><td>0.0             </td><td>nan           </td><td>nan           </td><td>nan          </td><td>nan            </td><td>nan                </td><td>YES           </td><td>YES           </td></tr>\n",
       "<tr><td>8      </td><td>1987.0       </td><td>10.0         </td><td>24.0         </td><td>6.0          </td><td>744.0        </td><td>730.0        </td><td>908.0        </td><td>849.0        </td><td>PS             </td><td>1451.0       </td><td>NA       </td><td>84.0               </td><td>79.0            </td><td>nan          </td><td>19.0         </td><td>14.0         </td><td>SAN     </td><td>SFO   </td><td>447.0        </td><td>nan          </td><td>nan          </td><td>0.0            </td><td>NA                </td><td>0.0             </td><td>nan           </td><td>nan           </td><td>nan          </td><td>nan            </td><td>nan                </td><td>YES           </td><td>YES           </td></tr>\n",
       "<tr><td>9      </td><td>1987.0       </td><td>10.0         </td><td>25.0         </td><td>7.0          </td><td>729.0        </td><td>730.0        </td><td>851.0        </td><td>849.0        </td><td>PS             </td><td>1451.0       </td><td>NA       </td><td>82.0               </td><td>79.0            </td><td>nan          </td><td>2.0          </td><td>-1.0         </td><td>SAN     </td><td>SFO   </td><td>447.0        </td><td>nan          </td><td>nan          </td><td>0.0            </td><td>NA                </td><td>0.0             </td><td>nan           </td><td>nan           </td><td>nan          </td><td>nan            </td><td>nan                </td><td>YES           </td><td>NO            </td></tr>\n",
       "</table>"
      ]
     },
     "metadata": {},
     "output_type": "display_data"
    }
   ],
   "source": [
    "from h2o.h2o import _locate # private function. used to find files within h2o git project directory.\n",
    "# air_path = [_locate(\"bigdata/laptop/airlines_all.05p.csv\")]\n",
    "# air_path = [_locate(\"bigdata/laptop/flights-nyc/flights14.csv.zip\")]\n",
    "air_path = [_locate(\"smalldata/airlines/allyears2k_headers.zip\")]\n",
    "\n",
    "# ----------\n",
    "\n",
    "# 1- Load data - 1 row per flight.  Has columns showing the origin,\n",
    "# destination, departure and arrival time, carrier information, and\n",
    "# whether the flight was delayed.\n",
    "print \"Import and Parse airlines data\"\n",
    "data = h2o.import_file(path=air_path)\n",
    "data.describe()"
   ]
  },
  {
   "cell_type": "code",
   "execution_count": 5,
   "metadata": {
    "collapsed": false
   },
   "outputs": [
    {
     "name": "stdout",
     "output_type": "stream",
     "text": [
      "\n",
      "glm Model Build Progress: [##################################################] 100%\n"
     ]
    },
    {
     "name": "stderr",
     "output_type": "stream",
     "text": [
      "/Library/Python/2.7/site-packages/IPython/kernel/__main__.py:9: DeprecationWarning: `h2o.glm` is deprecated. Use the estimators sub module to build an H2OGeneralizedLinearEstimator.\n"
     ]
    }
   ],
   "source": [
    "# ----------\n",
    "\n",
    "# 2- Data exploration and munging. Generate scatter plots \n",
    "# of various columns and plot fitted GLM model.\n",
    "\n",
    "# Function to fit a GLM model and plot the fitted (x,y) values\n",
    "def scatter_plot(data, x, y, max_points = 1000, fit = True):\n",
    "    if(fit):\n",
    "        lr = h2o.glm(x = data[[x]], y = data[y], family = \"gaussian\")\n",
    "        coeff = lr.coef()\n",
    "    df = data[[x,y]]\n",
    "    runif = df[y].runif()\n",
    "    df_subset = df[runif < float(max_points)/data.nrow]\n",
    "    df_py = h2o.as_list(df_subset)\n",
    "    \n",
    "    if(fit): h2o.remove(lr._id)\n",
    "\n",
    "    # If x variable is string, generate box-and-whisker plot\n",
    "    if(df_py[x].dtype == \"object\"):\n",
    "        if interactive: df_py.boxplot(column = y, by = x)\n",
    "    # Otherwise, generate a scatter plot\n",
    "    else:\n",
    "        if interactive: df_py.plot(x = x, y = y, kind = \"scatter\")\n",
    "    \n",
    "    if(fit):\n",
    "        x_min = min(df_py[x])\n",
    "        x_max = max(df_py[x])\n",
    "        y_min = coeff[\"Intercept\"] + coeff[x]*x_min\n",
    "        y_max = coeff[\"Intercept\"] + coeff[x]*x_max\n",
    "        plt.plot([x_min, x_max], [y_min, y_max], \"k-\")\n",
    "    if interactive: plt.show()\n",
    "\n",
    "scatter_plot(data, \"Distance\", \"AirTime\", fit = True)\n",
    "scatter_plot(data, \"UniqueCarrier\", \"ArrDelay\", max_points = 5000, fit = False)"
   ]
  },
  {
   "cell_type": "code",
   "execution_count": 6,
   "metadata": {
    "collapsed": false
   },
   "outputs": [
    {
     "data": {
      "text/html": [
       "<table>\n",
       "<tr><th style=\"text-align: right;\">  Month</th><th style=\"text-align: right;\">  sum_Cancelled</th><th style=\"text-align: right;\">  nrow_Year</th></tr>\n",
       "<tr><td style=\"text-align: right;\">     10</td><td style=\"text-align: right;\">             19</td><td style=\"text-align: right;\">       1999</td></tr>\n",
       "<tr><td style=\"text-align: right;\">      1</td><td style=\"text-align: right;\">           1067</td><td style=\"text-align: right;\">      41979</td></tr>\n",
       "</table>"
      ]
     },
     "metadata": {},
     "output_type": "display_data"
    },
    {
     "name": "stdout",
     "output_type": "stream",
     "text": [
      "Rows:2 Cols:3\n",
      "\n",
      "Chunk compression summary:\n"
     ]
    },
    {
     "data": {
      "text/html": [
       "<div style=\"overflow:auto\"><table style=\"width:50%\"><tr><td><b>chunk_type</b></td>\n",
       "<td><b>chunk_name</b></td>\n",
       "<td><b>count</b></td>\n",
       "<td><b>count_percentage</b></td>\n",
       "<td><b>size</b></td>\n",
       "<td><b>size_percentage</b></td></tr>\n",
       "<tr><td>C1N</td>\n",
       "<td>1-Byte Integers (w/o NAs)</td>\n",
       "<td>1</td>\n",
       "<td>33.333336</td>\n",
       "<td>     70  B</td>\n",
       "<td>30.434782</td></tr>\n",
       "<tr><td>C2</td>\n",
       "<td>2-Byte Integers</td>\n",
       "<td>1</td>\n",
       "<td>33.333336</td>\n",
       "<td>     72  B</td>\n",
       "<td>31.304348</td></tr>\n",
       "<tr><td>C2S</td>\n",
       "<td>2-Byte Fractions</td>\n",
       "<td>1</td>\n",
       "<td>33.333336</td>\n",
       "<td>     88  B</td>\n",
       "<td>38.260868</td></tr></table></div>"
      ],
      "text/plain": [
       "chunk_type    chunk_name                 count    count_percentage    size    size_percentage\n",
       "------------  -------------------------  -------  ------------------  ------  -----------------\n",
       "C1N           1-Byte Integers (w/o NAs)  1        33.3333             70  B   30.4348\n",
       "C2            2-Byte Integers            1        33.3333             72  B   31.3043\n",
       "C2S           2-Byte Fractions           1        33.3333             88  B   38.2609"
      ]
     },
     "metadata": {},
     "output_type": "display_data"
    },
    {
     "name": "stdout",
     "output_type": "stream",
     "text": [
      "\n",
      "Frame distribution summary:\n"
     ]
    },
    {
     "data": {
      "text/html": [
       "<div style=\"overflow:auto\"><table style=\"width:50%\"><tr><td><b></b></td>\n",
       "<td><b>size</b></td>\n",
       "<td><b>number_of_rows</b></td>\n",
       "<td><b>number_of_chunks_per_column</b></td>\n",
       "<td><b>number_of_chunks</b></td></tr>\n",
       "<tr><td>172.16.2.52:54321</td>\n",
       "<td>    230  B</td>\n",
       "<td>2.0</td>\n",
       "<td>1.0</td>\n",
       "<td>3.0</td></tr>\n",
       "<tr><td>mean</td>\n",
       "<td>    230  B</td>\n",
       "<td>2.0</td>\n",
       "<td>1.0</td>\n",
       "<td>3.0</td></tr>\n",
       "<tr><td>min</td>\n",
       "<td>    230  B</td>\n",
       "<td>2.0</td>\n",
       "<td>1.0</td>\n",
       "<td>3.0</td></tr>\n",
       "<tr><td>max</td>\n",
       "<td>    230  B</td>\n",
       "<td>2.0</td>\n",
       "<td>1.0</td>\n",
       "<td>3.0</td></tr>\n",
       "<tr><td>stddev</td>\n",
       "<td>      0  B</td>\n",
       "<td>0.0</td>\n",
       "<td>0.0</td>\n",
       "<td>0.0</td></tr>\n",
       "<tr><td>total</td>\n",
       "<td>    230  B</td>\n",
       "<td>2.0</td>\n",
       "<td>1.0</td>\n",
       "<td>3.0</td></tr></table></div>"
      ],
      "text/plain": [
       "                   size    number_of_rows    number_of_chunks_per_column    number_of_chunks\n",
       "-----------------  ------  ----------------  -----------------------------  ------------------\n",
       "172.16.2.52:54321  230  B  2                 1                              3\n",
       "mean               230  B  2                 1                              3\n",
       "min                230  B  2                 1                              3\n",
       "max                230  B  2                 1                              3\n",
       "stddev             0  B    0                 0                              0\n",
       "total              230  B  2                 1                              3"
      ]
     },
     "metadata": {},
     "output_type": "display_data"
    },
    {
     "name": "stdout",
     "output_type": "stream",
     "text": [
      "\n",
      "\n"
     ]
    },
    {
     "data": {
      "text/html": [
       "<table>\n",
       "<tr><th>       </th><th>Month        </th><th>sum_Cancelled  </th><th>nrow_Year    </th></tr>\n",
       "<tr><td>type   </td><td>int          </td><td>int            </td><td>int          </td></tr>\n",
       "<tr><td>mins   </td><td>1.0          </td><td>19.0           </td><td>1999.0       </td></tr>\n",
       "<tr><td>mean   </td><td>5.5          </td><td>543.0          </td><td>21989.0      </td></tr>\n",
       "<tr><td>maxs   </td><td>10.0         </td><td>1067.0         </td><td>41979.0      </td></tr>\n",
       "<tr><td>sigma  </td><td>6.36396103068</td><td>741.047906684  </td><td>28270.1291118</td></tr>\n",
       "<tr><td>zeros  </td><td>0            </td><td>0              </td><td>0            </td></tr>\n",
       "<tr><td>missing</td><td>0            </td><td>0              </td><td>0            </td></tr>\n",
       "<tr><td>0      </td><td>10.0         </td><td>19.0           </td><td>1999.0       </td></tr>\n",
       "<tr><td>1      </td><td>1.0          </td><td>1067.0         </td><td>41979.0      </td></tr>\n",
       "</table>"
      ]
     },
     "metadata": {},
     "output_type": "display_data"
    }
   ],
   "source": [
    "# Group flights by month\n",
    "grouped = data.group_by(\"Month\")\n",
    "bpd = grouped.count().sum(\"Cancelled\").frame\n",
    "bpd.show()\n",
    "bpd.describe()\n",
    "bpd.dim\n",
    "\n",
    "# Convert columns to factors\n",
    "data[\"Year\"]      = data[\"Year\"]     .asfactor()\n",
    "data[\"Month\"]     = data[\"Month\"]    .asfactor()\n",
    "data[\"DayOfWeek\"] = data[\"DayOfWeek\"].asfactor()\n",
    "data[\"Cancelled\"] = data[\"Cancelled\"].asfactor()"
   ]
  },
  {
   "cell_type": "code",
   "execution_count": 8,
   "metadata": {
    "collapsed": false
   },
   "outputs": [
    {
     "name": "stdout",
     "output_type": "stream",
     "text": [
      "\n",
      "Parse Progress: [##################################################] 100%\n",
      "\n",
      "glm Model Build Progress: [##################################################] 100%\n"
     ]
    },
    {
     "name": "stderr",
     "output_type": "stream",
     "text": [
      "/Library/Python/2.7/site-packages/IPython/kernel/__main__.py:9: DeprecationWarning: `h2o.glm` is deprecated. Use the estimators sub module to build an H2OGeneralizedLinearEstimator.\n"
     ]
    }
   ],
   "source": [
    "# Calculate and plot travel time\n",
    "hour1 = data[\"CRSArrTime\"] / 100\n",
    "mins1 = data[\"CRSArrTime\"] % 100\n",
    "arrTime = hour1*60 + mins1\n",
    "\n",
    "hour2 = data[\"CRSDepTime\"] / 100\n",
    "mins2 = data[\"CRSDepTime\"] % 100\n",
    "depTime = hour2*60 + mins2\n",
    "\n",
    "# TODO: Replace this once list comprehension is supported. See PUBDEV-1286.\n",
    "# data[\"TravelTime\"] = [x if x > 0 else None for x in (arrTime - depTime)]\n",
    "data[\"TravelTime\"] = (arrTime-depTime > 0).ifelse((arrTime-depTime), h2o.H2OFrame([None]*data.nrow))\n",
    "scatter_plot(data, \"Distance\", \"TravelTime\")"
   ]
  },
  {
   "cell_type": "code",
   "execution_count": 9,
   "metadata": {
    "collapsed": false
   },
   "outputs": [
    {
     "name": "stdout",
     "output_type": "stream",
     "text": [
      "\n",
      "glm Model Build Progress: [##################################################] 100%\n"
     ]
    },
    {
     "name": "stderr",
     "output_type": "stream",
     "text": [
      "/Library/Python/2.7/site-packages/IPython/kernel/__main__.py:9: DeprecationWarning: `h2o.glm` is deprecated. Use the estimators sub module to build an H2OGeneralizedLinearEstimator.\n"
     ]
    }
   ],
   "source": [
    "# Impute missing travel times and re-plot\n",
    "data.impute(column = \"Distance\", by = [\"Origin\", \"Dest\"])\n",
    "scatter_plot(data, \"Distance\", \"TravelTime\")"
   ]
  },
  {
   "cell_type": "code",
   "execution_count": 10,
   "metadata": {
    "collapsed": false
   },
   "outputs": [
    {
     "name": "stdout",
     "output_type": "stream",
     "text": [
      "\n",
      "glm Model Build Progress: [##################################################] 100%"
     ]
    },
    {
     "name": "stderr",
     "output_type": "stream",
     "text": [
      "/Library/Python/2.7/site-packages/IPython/kernel/__main__.py:19: DeprecationWarning: `h2o.glm` is deprecated. Use the estimators sub module to build an H2OGeneralizedLinearEstimator.\n",
      "/Library/Python/2.7/site-packages/IPython/kernel/__main__.py:31: DeprecationWarning: `h2o.gbm` is deprecated. Use the estimators sub module to build an H2OGradientBoostedEstimator.\n"
     ]
    },
    {
     "name": "stdout",
     "output_type": "stream",
     "text": [
      "\n",
      "\n",
      "gbm Model Build Progress: [##################################################] 100%\n",
      "\n",
      "gbm Model Build Progress: [##################################################] 100%"
     ]
    },
    {
     "name": "stderr",
     "output_type": "stream",
     "text": [
      "/Library/Python/2.7/site-packages/IPython/kernel/__main__.py:43: DeprecationWarning: `h2o.gbm` is deprecated. Use the estimators sub module to build an H2OGradientBoostedEstimator.\n",
      "/Library/Python/2.7/site-packages/IPython/kernel/__main__.py:52: DeprecationWarning: `h2o.random_forest` is deprecated. Use the estimators sub module to build an H2ORandomForestEstimator.\n"
     ]
    },
    {
     "name": "stdout",
     "output_type": "stream",
     "text": [
      "\n",
      "\n",
      "drf Model Build Progress: [##################################################] 100%\n",
      "\n",
      "drf Model Build Progress: [##################################################] 100%"
     ]
    },
    {
     "name": "stderr",
     "output_type": "stream",
     "text": [
      "/Library/Python/2.7/site-packages/IPython/kernel/__main__.py:61: DeprecationWarning: `h2o.random_forest` is deprecated. Use the estimators sub module to build an H2ORandomForestEstimator.\n",
      "/Library/Python/2.7/site-packages/IPython/kernel/__main__.py:72: DeprecationWarning: `h2o.deeplearning` is deprecated. Use the estimators sub module to build an H2ODeepLearningEstimator.\n"
     ]
    },
    {
     "name": "stdout",
     "output_type": "stream",
     "text": [
      "\n",
      "\n",
      "deeplearning Model Build Progress: [##################################################] 100%\n"
     ]
    }
   ],
   "source": [
    "# ----------\n",
    "# 3- Fit a model on train; using test as validation\n",
    "\n",
    "# Create test/train split\n",
    "s = data[\"Year\"].runif()\n",
    "train = data[s <= 0.75]\n",
    "test  = data[s > 0.75]\n",
    "\n",
    "# Set predictor and response variables\n",
    "myY = \"IsDepDelayed\"\n",
    "myX = [\"Origin\", \"Dest\", \"Year\", \"UniqueCarrier\", \"DayOfWeek\", \"Month\", \"Distance\", \"FlightNum\"]\n",
    "\n",
    "# Simple GLM - Predict Delays\n",
    "data_glm = h2o.glm(x           =train[myX],\n",
    "                   y           =train[myY],\n",
    "                   validation_x=test [myX],\n",
    "                   validation_y=test [myY],\n",
    "                   family      =\"binomial\",\n",
    "                   standardize =True)\n",
    "\n",
    "# Simple GBM\n",
    "data_gbm = h2o.gbm(x              =train[myX],\n",
    "                   y              =train[myY],\n",
    "                   validation_x   =test [myX],\n",
    "                   validation_y   =test [myY],\n",
    "                   balance_classes=True,\n",
    "                   ntrees         =3,\n",
    "                   max_depth      =1,\n",
    "                   distribution   =\"bernoulli\",\n",
    "                   learn_rate     =0.1,\n",
    "                   min_rows       =2)\n",
    "\n",
    "# Complex GBM\n",
    "data_gbm2 = h2o.gbm(x              =train[myX],\n",
    "                    y              =train[myY],\n",
    "                    validation_x   =test [myX],\n",
    "                    validation_y   =test [myY],\n",
    "                    balance_classes=True,\n",
    "                    ntrees         =50,\n",
    "                    max_depth      =5,\n",
    "                    distribution   =\"bernoulli\",\n",
    "                    learn_rate     =0.1,\n",
    "                    min_rows       =2)\n",
    "\n",
    "# Simple Random Forest\n",
    "data_rf = h2o.random_forest(x              =train[myX],\n",
    "                            y              =train[myY],\n",
    "                            validation_x   =test [myX],\n",
    "                            validation_y   =test [myY],\n",
    "                            ntrees         =5,\n",
    "                            max_depth      =2,\n",
    "                            balance_classes=True)\n",
    "\n",
    "# Complex Random Forest\n",
    "data_rf2 = h2o.random_forest(x              =train[myX], \n",
    "                             y              =train[myY],\n",
    "                             validation_x   =test [myX],\n",
    "                             validation_y   =test [myY],\n",
    "                             ntrees         =10,\n",
    "                             max_depth      =5,\n",
    "                             balance_classes=True)\n",
    "\n",
    "# Deep Learning with 5 epochs\n",
    "data_dl = h2o.deeplearning(x                   =train[myX],\n",
    "                           y                   =train[myY],\n",
    "                           validation_x        =test [myX],\n",
    "                           validation_y        =test [myY],\n",
    "                           hidden              =[10,10],\n",
    "                           epochs              =5,\n",
    "                           variable_importances=True,\n",
    "                           balance_classes     =True,\n",
    "                           loss                =\"Automatic\")"
   ]
  },
  {
   "cell_type": "code",
   "execution_count": 11,
   "metadata": {
    "collapsed": false
   },
   "outputs": [
    {
     "name": "stdout",
     "output_type": "stream",
     "text": [
      "Variable Importances:\n",
      "\n",
      "| Predictor        |   Normalized Coefficient |\n",
      "|------------------+--------------------------|\n",
      "| Year.2008        |               2.32909    |\n",
      "| Year.2003        |               1.58602    |\n",
      "| Origin.LIH       |               1.52262    |\n",
      "| Origin.MDW       |               1.51511    |\n",
      "| Dest.LYH         |               1.49099    |\n",
      "| Year.2007        |               1.46821    |\n",
      "| Origin.HPN       |               1.43102    |\n",
      "| Origin.TLH       |               1.42092    |\n",
      "| Origin.LBB       |               1.40506    |\n",
      "| Origin.CAE       |               1.39381    |\n",
      "| Origin.ERI       |               1.31974    |\n",
      "| UniqueCarrier.HP |               1.23449    |\n",
      "| Origin.TRI       |               1.10814    |\n",
      "| Origin.SAV       |               1.04866    |\n",
      "| Origin.BTV       |               1.03496    |\n",
      "| Year.2001        |               1.02026    |\n",
      "| Origin.LEX       |               1.00824    |\n",
      "| Year.2002        |               0.991165   |\n",
      "| Dest.HTS         |               0.985988   |\n",
      "| UniqueCarrier.TW |               0.977311   |\n",
      "| Origin.CRP       |               0.94316    |\n",
      "| Origin.MIA       |               0.94088    |\n",
      "| Origin.ATL       |               0.901622   |\n",
      "| Origin.HNL       |               0.878897   |\n",
      "| Origin.SRQ       |               0.843496   |\n",
      "| Origin.PBI       |               0.831153   |\n",
      "| Dest.EYW         |               0.820526   |\n",
      "| Year.1994        |               0.81828    |\n",
      "| Origin.IAH       |               0.812985   |\n",
      "| Origin.ACY       |               0.811903   |\n",
      "| Year.2006        |               0.80505    |\n",
      "| Origin.ORD       |               0.803985   |\n",
      "| Dest.ICT         |               0.791497   |\n",
      "| Dest.DAY         |               0.787073   |\n",
      "| Year.2004        |               0.782058   |\n",
      "| Origin.CHO       |               0.773375   |\n",
      "| Origin.OGG       |               0.771396   |\n",
      "| Origin.TYS       |               0.768322   |\n",
      "| Dest.CHO         |               0.750908   |\n",
      "| Origin.LYH       |               0.750908   |\n",
      "| Origin.MAF       |               0.708144   |\n",
      "| Dest.FLL         |               0.705287   |\n",
      "| Dest.TOL         |               0.702964   |\n",
      "| Origin.ALB       |               0.679838   |\n",
      "| Origin.EYW       |               0.673705   |\n",
      "| Origin.MSY       |               0.665379   |\n",
      "| Origin.MLB       |               0.665287   |\n",
      "| Origin.MRY       |               0.654559   |\n",
      "| Origin.CMH       |               0.652942   |\n",
      "| Dest.LBB         |               0.647455   |\n",
      "| Year.1990        |               0.646123   |\n",
      "| Origin.PSP       |               0.638068   |\n",
      "| Origin.MYR       |               0.632499   |\n",
      "| Dest.HRL         |               0.617397   |\n",
      "| Dest.PSP         |               0.614558   |\n",
      "| Origin.STL       |               0.609371   |\n",
      "| Dest.ISP         |               0.604767   |\n",
      "| Origin.AUS       |               0.602786   |\n",
      "| Origin.TUL       |               0.593501   |\n",
      "| Dest.GSO         |               0.592771   |\n",
      "| Origin.ROA       |               0.589523   |\n",
      "| Origin.PIT       |               0.588031   |\n",
      "| Origin.CRW       |               0.58274    |\n",
      "| Origin.GSO       |               0.578391   |\n",
      "| Origin.JAX       |               0.570429   |\n",
      "| Dest.PBI         |               0.569639   |\n",
      "| Dest.LIH         |               0.566506   |\n",
      "| Origin.TUS       |               0.545989   |\n",
      "| Origin.GRR       |               0.54505    |\n",
      "| Dest.OGG         |               0.544613   |\n",
      "| Dest.TPA         |               0.543403   |\n",
      "| UniqueCarrier.WN |               0.54302    |\n",
      "| Origin.SLC       |               0.537536   |\n",
      "| Origin.OMA       |               0.536219   |\n",
      "| Dest.IND         |               0.526445   |\n",
      "| Origin.BGM       |               0.512694   |\n",
      "| Year.1996        |               0.505915   |\n",
      "| Dest.SFO         |               0.502705   |\n",
      "| Dest.FAY         |               0.502571   |\n",
      "| Origin.LAX       |               0.50092    |\n",
      "| Dest.BDL         |               0.480933   |\n",
      "| Origin.PHL       |               0.467753   |\n",
      "| Origin.FLL       |               0.467648   |\n",
      "| Dest.OAJ         |               0.465443   |\n",
      "| Dest.IAH         |               0.465309   |\n",
      "| Origin.SYR       |               0.460764   |\n",
      "| Origin.MCO       |               0.455878   |\n",
      "| Origin.SDF       |               0.454177   |\n",
      "| Dest.CRP         |               0.444166   |\n",
      "| Origin.IND       |               0.439275   |\n",
      "| Dest.SAT         |               0.435934   |\n",
      "| Year.2005        |               0.427336   |\n",
      "| UniqueCarrier.CO |               0.426534   |\n",
      "| Origin.BOI       |               0.425995   |\n",
      "| Origin.LGA       |               0.419963   |\n",
      "| Origin.OKC       |               0.405915   |\n",
      "| Origin.MEM       |               0.398872   |\n",
      "| UniqueCarrier.PI |               0.393996   |\n",
      "| Origin.OAK       |               0.393077   |\n",
      "| Year.1997        |               0.38711    |\n",
      "| Dest.BGM         |               0.385668   |\n",
      "| Dest.MIA         |               0.384297   |\n",
      "| Dest.BHM         |               0.381656   |\n",
      "| Origin.PWM       |               0.381013   |\n",
      "| Dest.STL         |               0.363011   |\n",
      "| Dest.CLE         |               0.355422   |\n",
      "| Origin.ELP       |               0.348199   |\n",
      "| Origin.BDL       |               0.339765   |\n",
      "| Dest.ALB         |               0.336874   |\n",
      "| Dest.BUF         |               0.329391   |\n",
      "| Origin.DFW       |               0.328583   |\n",
      "| Origin.RNO       |               0.32767    |\n",
      "| Origin.PDX       |               0.323056   |\n",
      "| Origin.IAD       |               0.317755   |\n",
      "| Year.1992        |               0.316751   |\n",
      "| Origin.ABE       |               0.314883   |\n",
      "| Dest.CHS         |               0.312367   |\n",
      "| Origin.ROC       |               0.310369   |\n",
      "| Origin.BHM       |               0.308438   |\n",
      "| Origin.EGE       |               0.30736    |\n",
      "| Origin.MCI       |               0.302764   |\n",
      "| Origin.CLT       |               0.298978   |\n",
      "| Year.1991        |               0.294257   |\n",
      "| Dest.PWM         |               0.292541   |\n",
      "| Dest.CAK         |               0.28878    |\n",
      "| Year.1995        |               0.287829   |\n",
      "| Dest.EUG         |               0.277207   |\n",
      "| Origin.BWI       |               0.27248    |\n",
      "| Origin.SAN       |               0.269065   |\n",
      "| Dest.PNS         |               0.269013   |\n",
      "| Origin.SWF       |               0.267978   |\n",
      "| Origin.ISP       |               0.264563   |\n",
      "| Origin.STX       |               0.262968   |\n",
      "| UniqueCarrier.US |               0.261129   |\n",
      "| Origin.BUF       |               0.260776   |\n",
      "| Dest.FNT         |               0.259389   |\n",
      "| Dest.FAT         |               0.259131   |\n",
      "| Dest.SBN         |               0.25807    |\n",
      "| Origin.DEN       |               0.257953   |\n",
      "| Dest.AVL         |               0.252749   |\n",
      "| Dest.SEA         |               0.250817   |\n",
      "| Dest.CMH         |               0.250197   |\n",
      "| Origin.CLE       |               0.248514   |\n",
      "| Dest.PHX         |               0.247179   |\n",
      "| Dest.RIC         |               0.246128   |\n",
      "| DayOfWeek.5      |               0.244885   |\n",
      "| Origin.BUR       |               0.243037   |\n",
      "| Dest.MAF         |               0.23684    |\n",
      "| Origin.DAY       |               0.236086   |\n",
      "| Origin.DSM       |               0.234868   |\n",
      "| Dest.ACY         |               0.22949    |\n",
      "| Origin.MKE       |               0.226907   |\n",
      "| UniqueCarrier.AA |               0.221893   |\n",
      "| Origin.BOS       |               0.22173    |\n",
      "| Origin.TPA       |               0.22126    |\n",
      "| Dest.ORF         |               0.217326   |\n",
      "| Dest.CAE         |               0.214417   |\n",
      "| Origin.JFK       |               0.211024   |\n",
      "| Dest.EWR         |               0.204522   |\n",
      "| Year.1987        |               0.204327   |\n",
      "| Month.10         |               0.204327   |\n",
      "| Dest.GEG         |               0.202752   |\n",
      "| Dest.GRR         |               0.202414   |\n",
      "| Dest.BTV         |               0.201767   |\n",
      "| Origin.SFO       |               0.197402   |\n",
      "| Origin.ONT       |               0.195393   |\n",
      "| Dest.OKC         |               0.193209   |\n",
      "| Origin.RIC       |               0.192843   |\n",
      "| Origin.MSP       |               0.192299   |\n",
      "| Dest.AUS         |               0.189116   |\n",
      "| Year.1999        |               0.188015   |\n",
      "| DayOfWeek.2      |               0.186682   |\n",
      "| Dest.MCO         |               0.18663    |\n",
      "| Dest.LAX         |               0.185541   |\n",
      "| Origin.SJC       |               0.185346   |\n",
      "| Year.1993        |               0.184239   |\n",
      "| Dest.ABQ         |               0.183639   |\n",
      "| Dest.JAX         |               0.182933   |\n",
      "| Origin.PHX       |               0.176828   |\n",
      "| Origin.HRL       |               0.168418   |\n",
      "| Dest.OAK         |               0.166368   |\n",
      "| DayOfWeek.6      |               0.166242   |\n",
      "| Year.1989        |               0.16571    |\n",
      "| Dest.MCI         |               0.164261   |\n",
      "| Dest.BWI         |               0.157173   |\n",
      "| Dest.BUR         |               0.151132   |\n",
      "| Dest.DFW         |               0.149876   |\n",
      "| Distance         |               0.141787   |\n",
      "| Dest.LAS         |               0.139533   |\n",
      "| Dest.IAD         |               0.136137   |\n",
      "| Dest.OMA         |               0.130675   |\n",
      "| Origin.RDU       |               0.128901   |\n",
      "| Origin.PVD       |               0.126506   |\n",
      "| Origin.BNA       |               0.126127   |\n",
      "| Dest.PVD         |               0.120904   |\n",
      "| Dest.CVG         |               0.120002   |\n",
      "| Year.1998        |               0.119616   |\n",
      "| Dest.SNA         |               0.118181   |\n",
      "| Dest.MHT         |               0.1154     |\n",
      "| Origin.SMF       |               0.1152     |\n",
      "| Dest.CLT         |               0.11334    |\n",
      "| Dest.PDX         |               0.112725   |\n",
      "| Dest.ATL         |               0.112372   |\n",
      "| Dest.KOA         |               0.111871   |\n",
      "| Origin.ORF       |               0.109896   |\n",
      "| Dest.SLC         |               0.105991   |\n",
      "| Month.1          |               0.105322   |\n",
      "| Year.2000        |               0.103907   |\n",
      "| DayOfWeek.4      |               0.103593   |\n",
      "| Dest.TUL         |               0.101233   |\n",
      "| Dest.HOU         |               0.101205   |\n",
      "| Dest.LGA         |               0.0986903  |\n",
      "| Dest.MDW         |               0.0984498  |\n",
      "| Origin.SJU       |               0.0933868  |\n",
      "| Dest.RNO         |               0.09181    |\n",
      "| Dest.ORD         |               0.0876702  |\n",
      "| Origin.ICT       |               0.0875178  |\n",
      "| Dest.TUS         |               0.0871986  |\n",
      "| Dest.ABE         |               0.085817   |\n",
      "| Dest.HNL         |               0.0833162  |\n",
      "| Dest.SAN         |               0.0805696  |\n",
      "| Origin.COS       |               0.0793754  |\n",
      "| Dest.PHL         |               0.0769116  |\n",
      "| Dest.DTW         |               0.0735575  |\n",
      "| DayOfWeek.7      |               0.0702998  |\n",
      "| Origin.DAL       |               0.068293   |\n",
      "| UniqueCarrier.DL |               0.0671625  |\n",
      "| Dest.SYR         |               0.0645953  |\n",
      "| Origin.SCK       |               0.062638   |\n",
      "| Origin.JAN       |               0.0620125  |\n",
      "| Dest.STT         |               0.0574638  |\n",
      "| Dest.DCA         |               0.0543437  |\n",
      "| Dest.BNA         |               0.0516433  |\n",
      "| UniqueCarrier.UA |               0.0500982  |\n",
      "| Dest.RSW         |               0.0499947  |\n",
      "| Origin.EWR       |               0.0468324  |\n",
      "| Origin.SNA       |               0.0468281  |\n",
      "| Origin.SEA       |               0.0438454  |\n",
      "| Origin.ABQ       |               0.0405749  |\n",
      "| Origin.KOA       |               0.0403563  |\n",
      "| Dest.MDT         |               0.0387199  |\n",
      "| Dest.RDU         |               0.0343743  |\n",
      "| Dest.HPN         |               0.0326688  |\n",
      "| FlightNum        |               0.0314507  |\n",
      "| Dest.DEN         |               0.0275815  |\n",
      "| Origin.DCA       |               0.0273375  |\n",
      "| DayOfWeek.3      |               0.0259223  |\n",
      "| Dest.ONT         |               0.025527   |\n",
      "| Dest.JFK         |               0.0236515  |\n",
      "| Dest.BOS         |               0.0235103  |\n",
      "| Dest.PIT         |               0.019948   |\n",
      "| Dest.DAL         |               0.0198705  |\n",
      "| Origin.DTW       |               0.0185183  |\n",
      "| Dest.ELM         |               0.0167056  |\n",
      "| Year.1988        |               0.016543   |\n",
      "| Origin.LAS       |               0.0160909  |\n",
      "| Origin.AVP       |               0.0156962  |\n",
      "| Origin.PHF       |               0.0137917  |\n",
      "| Intercept        |               0.0131142  |\n",
      "| Dest.UCA         |               0.0101947  |\n",
      "| Origin.LAN       |               0.00957813 |\n",
      "| Dest.COS         |               0.00811531 |\n",
      "| Dest.SJC         |               0.00792548 |\n",
      "| Dest.MSY         |               0.00733655 |\n",
      "| Dest.MSP         |               0.00661902 |\n",
      "| Origin.MHT       |               0.0050723  |\n",
      "| Origin.CVG       |               0.00391065 |\n",
      "| Origin.CHS       |               0.00238382 |\n",
      "| Origin.MDT       |               0.00115688 |\n",
      "| Dest.LIT         |               0          |\n",
      "| Dest.ORH         |               0          |\n",
      "| Origin.ANC       |               0          |\n",
      "| Dest.SRQ         |               0          |\n",
      "| Dest.MRY         |               0          |\n",
      "| Dest.SJU         |               0          |\n",
      "| Origin.RSW       |               0          |\n",
      "| Origin.SAT       |               0          |\n",
      "| Dest.DSM         |               0          |\n",
      "| Dest.MKE         |               0          |\n",
      "| Origin.LIT       |               0          |\n",
      "| Dest.SWF         |               0          |\n",
      "| Origin.UCA       |               0          |\n",
      "| Origin.HOU       |               0          |\n",
      "| Origin.AMA       |               0          |\n",
      "| Dest.ERI         |               0          |\n",
      "| Dest.ROC         |               0          |\n",
      "| Dest.GSP         |               0          |\n",
      "| Origin.MFR       |               0          |\n",
      "| Dest.JAN         |               0          |\n",
      "| Origin.STT       |               0          |\n",
      "| Dest.ELP         |               0          |\n",
      "| Dest.CHA         |               0          |\n",
      "| Origin.SBN       |               0          |\n",
      "| Origin.GNV       |               0          |\n",
      "| Dest.AMA         |               0          |\n",
      "| Dest.LEX         |               0          |\n",
      "| Dest.BOI         |               0          |\n",
      "| Dest.ROA         |               0          |\n",
      "| UniqueCarrier.PS |               0          |\n",
      "| Dest.ILM         |               0          |\n",
      "| Dest.SDF         |               0          |\n",
      "| Dest.PHF         |               0          |\n",
      "| Dest.ANC         |               0          |\n",
      "| Dest.AVP         |               0          |\n",
      "| DayOfWeek.1      |               0          |\n",
      "| Dest.SMF         |               0          |\n",
      "| Origin.GEG       |               0          |\n",
      "| Dest.MYR         |               0          |\n",
      "| Dest.SCK         |               0          |\n",
      "| Origin.BIL       |               0          |\n",
      "\n",
      "Variable Importances:\n"
     ]
    },
    {
     "data": {
      "text/html": [
       "<div style=\"overflow:auto\"><table style=\"width:50%\"><tr><td><b>variable</b></td>\n",
       "<td><b>relative_importance</b></td>\n",
       "<td><b>scaled_importance</b></td>\n",
       "<td><b>percentage</b></td></tr>\n",
       "<tr><td>Year</td>\n",
       "<td>1205.6</td>\n",
       "<td>1.0</td>\n",
       "<td>1.0</td></tr>\n",
       "<tr><td>Origin</td>\n",
       "<td>0.0</td>\n",
       "<td>0.0</td>\n",
       "<td>0.0</td></tr>\n",
       "<tr><td>Dest</td>\n",
       "<td>0.0</td>\n",
       "<td>0.0</td>\n",
       "<td>0.0</td></tr>\n",
       "<tr><td>UniqueCarrier</td>\n",
       "<td>0.0</td>\n",
       "<td>0.0</td>\n",
       "<td>0.0</td></tr>\n",
       "<tr><td>DayOfWeek</td>\n",
       "<td>0.0</td>\n",
       "<td>0.0</td>\n",
       "<td>0.0</td></tr>\n",
       "<tr><td>Month</td>\n",
       "<td>0.0</td>\n",
       "<td>0.0</td>\n",
       "<td>0.0</td></tr>\n",
       "<tr><td>Distance</td>\n",
       "<td>0.0</td>\n",
       "<td>0.0</td>\n",
       "<td>0.0</td></tr>\n",
       "<tr><td>FlightNum</td>\n",
       "<td>0.0</td>\n",
       "<td>0.0</td>\n",
       "<td>0.0</td></tr></table></div>"
      ],
      "text/plain": [
       "variable       relative_importance    scaled_importance    percentage\n",
       "-------------  ---------------------  -------------------  ------------\n",
       "Year           1205.58                1                    1\n",
       "Origin         0                      0                    0\n",
       "Dest           0                      0                    0\n",
       "UniqueCarrier  0                      0                    0\n",
       "DayOfWeek      0                      0                    0\n",
       "Month          0                      0                    0\n",
       "Distance       0                      0                    0\n",
       "FlightNum      0                      0                    0"
      ]
     },
     "metadata": {},
     "output_type": "display_data"
    },
    {
     "name": "stdout",
     "output_type": "stream",
     "text": [
      "\n",
      "Variable Importances:\n"
     ]
    },
    {
     "data": {
      "text/html": [
       "<div style=\"overflow:auto\"><table style=\"width:50%\"><tr><td><b>variable</b></td>\n",
       "<td><b>relative_importance</b></td>\n",
       "<td><b>scaled_importance</b></td>\n",
       "<td><b>percentage</b></td></tr>\n",
       "<tr><td>Year</td>\n",
       "<td>1211.3</td>\n",
       "<td>1.0</td>\n",
       "<td>0.5</td></tr>\n",
       "<tr><td>Origin</td>\n",
       "<td>544.0</td>\n",
       "<td>0.4</td>\n",
       "<td>0.2</td></tr>\n",
       "<tr><td>Dest</td>\n",
       "<td>343.0</td>\n",
       "<td>0.3</td>\n",
       "<td>0.1</td></tr>\n",
       "<tr><td>UniqueCarrier</td>\n",
       "<td>159.0</td>\n",
       "<td>0.1</td>\n",
       "<td>0.1</td></tr>\n",
       "<tr><td>FlightNum</td>\n",
       "<td>67.9</td>\n",
       "<td>0.1</td>\n",
       "<td>0.0</td></tr>\n",
       "<tr><td>DayOfWeek</td>\n",
       "<td>0.0</td>\n",
       "<td>0.0</td>\n",
       "<td>0.0</td></tr>\n",
       "<tr><td>Month</td>\n",
       "<td>0.0</td>\n",
       "<td>0.0</td>\n",
       "<td>0.0</td></tr>\n",
       "<tr><td>Distance</td>\n",
       "<td>0.0</td>\n",
       "<td>0.0</td>\n",
       "<td>0.0</td></tr></table></div>"
      ],
      "text/plain": [
       "variable       relative_importance    scaled_importance    percentage\n",
       "-------------  ---------------------  -------------------  ------------\n",
       "Year           1211.31                1                    0.520934\n",
       "Origin         544.023                0.449121             0.233962\n",
       "Dest           343.006                0.28317              0.147513\n",
       "UniqueCarrier  159.009                0.13127              0.0683833\n",
       "FlightNum      67.915                 0.0560675            0.0292075\n",
       "DayOfWeek      0                      0                    0\n",
       "Month          0                      0                    0\n",
       "Distance       0                      0                    0"
      ]
     },
     "metadata": {},
     "output_type": "display_data"
    }
   ],
   "source": [
    "# Variable importances from each algorithm\n",
    "# Calculate magnitude of normalized GLM coefficients\n",
    "glm_varimp = data_glm.coef_norm()\n",
    "for k,v in glm_varimp.iteritems():\n",
    "    glm_varimp[k] = abs(glm_varimp[k])\n",
    "    \n",
    "# Sort in descending order by magnitude\n",
    "glm_sorted = sorted(glm_varimp.items(), key = operator.itemgetter(1), reverse = True)\n",
    "table = tabulate(glm_sorted, headers = [\"Predictor\", \"Normalized Coefficient\"], tablefmt = \"orgtbl\")\n",
    "print \"Variable Importances:\\n\\n\" + table\n",
    "\n",
    "data_gbm.varimp()\n",
    "data_rf.varimp()"
   ]
  },
  {
   "cell_type": "code",
   "execution_count": 12,
   "metadata": {
    "collapsed": false
   },
   "outputs": [
    {
     "name": "stdout",
     "output_type": "stream",
     "text": [
      "\n",
      "ModelMetricsBinomial: gbm\n",
      "** Reported on test data. **\n",
      "\n",
      "MSE: 0.20601352191\n",
      "R^2: 0.174364205256\n",
      "LogLoss: 0.598874249831\n",
      "AUC: 0.741511687629\n",
      "Gini: 0.483023375259\n",
      "\n",
      "Confusion Matrix (Act/Pred) for max f1 @ threshold = 0.38952159377:\n"
     ]
    },
    {
     "data": {
      "text/html": [
       "<div style=\"overflow:auto\"><table style=\"width:50%\"><tr><td><b></b></td>\n",
       "<td><b>NO</b></td>\n",
       "<td><b>YES</b></td>\n",
       "<td><b>Error</b></td>\n",
       "<td><b>Rate</b></td></tr>\n",
       "<tr><td>NO</td>\n",
       "<td>2351.0</td>\n",
       "<td>2936.0</td>\n",
       "<td>0.5553</td>\n",
       "<td> (2936.0/5287.0)</td></tr>\n",
       "<tr><td>YES</td>\n",
       "<td>888.0</td>\n",
       "<td>4883.0</td>\n",
       "<td>0.1539</td>\n",
       "<td> (888.0/5771.0)</td></tr>\n",
       "<tr><td>Total</td>\n",
       "<td>3239.0</td>\n",
       "<td>7819.0</td>\n",
       "<td>0.3458</td>\n",
       "<td> (3824.0/11058.0)</td></tr></table></div>"
      ],
      "text/plain": [
       "       NO    YES    Error    Rate\n",
       "-----  ----  -----  -------  ----------------\n",
       "NO     2351  2936   0.5553   (2936.0/5287.0)\n",
       "YES    888   4883   0.1539   (888.0/5771.0)\n",
       "Total  3239  7819   0.3458   (3824.0/11058.0)"
      ]
     },
     "metadata": {},
     "output_type": "display_data"
    },
    {
     "name": "stdout",
     "output_type": "stream",
     "text": [
      "\n",
      "Maximum Metrics: Maximum metrics at their respective thresholds\n",
      "\n"
     ]
    },
    {
     "data": {
      "text/html": [
       "<div style=\"overflow:auto\"><table style=\"width:50%\"><tr><td><b>metric</b></td>\n",
       "<td><b>threshold</b></td>\n",
       "<td><b>value</b></td>\n",
       "<td><b>idx</b></td></tr>\n",
       "<tr><td>max f1</td>\n",
       "<td>0.4</td>\n",
       "<td>0.7</td>\n",
       "<td>268.0</td></tr>\n",
       "<tr><td>max f2</td>\n",
       "<td>0.2</td>\n",
       "<td>0.8</td>\n",
       "<td>372.0</td></tr>\n",
       "<tr><td>max f0point5</td>\n",
       "<td>0.6</td>\n",
       "<td>0.7</td>\n",
       "<td>168.0</td></tr>\n",
       "<tr><td>max accuracy</td>\n",
       "<td>0.5</td>\n",
       "<td>0.7</td>\n",
       "<td>202.0</td></tr>\n",
       "<tr><td>max precision</td>\n",
       "<td>1.0</td>\n",
       "<td>1.0</td>\n",
       "<td>0.0</td></tr>\n",
       "<tr><td>max absolute_MCC</td>\n",
       "<td>0.5</td>\n",
       "<td>0.4</td>\n",
       "<td>190.0</td></tr>\n",
       "<tr><td>max min_per_class_accuracy</td>\n",
       "<td>0.5</td>\n",
       "<td>0.7</td>\n",
       "<td>204.0</td></tr></table></div>"
      ],
      "text/plain": [
       "metric                      threshold    value     idx\n",
       "--------------------------  -----------  --------  -----\n",
       "max f1                      0.389522     0.718617  268\n",
       "max f2                      0.18196      0.846408  372\n",
       "max f0point5                0.5883       0.702996  168\n",
       "max accuracy                0.519865     0.683668  202\n",
       "max precision               0.959886     1         0\n",
       "max absolute_MCC            0.542025     0.368649  190\n",
       "max min_per_class_accuracy  0.515127     0.681294  204"
      ]
     },
     "metadata": {},
     "output_type": "display_data"
    },
    {
     "data": {
      "text/plain": []
     },
     "execution_count": 12,
     "metadata": {},
     "output_type": "execute_result"
    }
   ],
   "source": [
    "# Model performance of GBM model on test data\n",
    "data_gbm2.model_performance(test)"
   ]
  }
 ],
 "metadata": {
  "kernelspec": {
   "display_name": "Python 2",
   "language": "python",
   "name": "python2"
  },
  "language_info": {
   "codemirror_mode": {
    "name": "ipython",
    "version": 2
   },
   "file_extension": ".py",
   "mimetype": "text/x-python",
   "name": "python",
   "nbconvert_exporter": "python",
   "pygments_lexer": "ipython2",
   "version": "2.7.9"
  }
 },
 "nbformat": 4,
 "nbformat_minor": 0
}
