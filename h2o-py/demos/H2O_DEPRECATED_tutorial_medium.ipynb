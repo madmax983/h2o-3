{
 "cells": [
  {
   "cell_type": "markdown",
   "metadata": {},
   "source": [
    "# H2O Tutorial\n",
    "\n",
    "Author: Spencer Aiello\n",
    "\n",
    "Contact: spencer@h2oai.com\n",
    "\n",
    "This tutorial steps through a quick introduction to H2O's Python API. The goal of this tutorial is to introduce through a complete example H2O's capabilities from Python. Also, to help those that are accustomed to Scikit Learn and Pandas, the demo will be specific call outs for differences between H2O and those packages; this is intended to help anyone that needs to do machine learning on really Big Data make the transition. It is not meant to be a tutorial on machine learning or algorithms.\n",
    "\n",
    "Detailed documentation about H2O's and the Python API is available at http://docs.h2o.ai."
   ]
  },
  {
   "cell_type": "markdown",
   "metadata": {},
   "source": [
    "## Setting up your system for this demo"
   ]
  },
  {
   "cell_type": "markdown",
   "metadata": {},
   "source": [
    "The following code creates two csv files using data from the [Boston Housing dataset](https://archive.ics.uci.edu/ml/datasets/Housing) which is built into scikit-learn and adds them to the local directory"
   ]
  },
  {
   "cell_type": "code",
   "execution_count": 240,
   "metadata": {
    "collapsed": false
   },
   "outputs": [
    {
     "name": "stdout",
     "output_type": "stream",
     "text": [
      "Warning: Version mismatch. H2O is version 3.5.0.99999, but the python package is version UNKNOWN.\n"
     ]
    },
    {
     "data": {
      "text/html": [
       "<div style=\"overflow:auto\"><table style=\"width:50%\"><tr><td>H2O cluster uptime: </td>\n",
       "<td>3 hours 13 minutes 19 seconds 211 milliseconds </td></tr>\n",
       "<tr><td>H2O cluster version: </td>\n",
       "<td>3.5.0.99999</td></tr>\n",
       "<tr><td>H2O cluster name: </td>\n",
       "<td>ludirehak</td></tr>\n",
       "<tr><td>H2O cluster total nodes: </td>\n",
       "<td>1</td></tr>\n",
       "<tr><td>H2O cluster total memory: </td>\n",
       "<td>3.56 GB</td></tr>\n",
       "<tr><td>H2O cluster total cores: </td>\n",
       "<td>8</td></tr>\n",
       "<tr><td>H2O cluster allowed cores: </td>\n",
       "<td>8</td></tr>\n",
       "<tr><td>H2O cluster healthy: </td>\n",
       "<td>True</td></tr>\n",
       "<tr><td>H2O Connection ip: </td>\n",
       "<td>127.0.0.1</td></tr>\n",
       "<tr><td>H2O Connection port: </td>\n",
       "<td>54321</td></tr></table></div>"
      ],
      "text/plain": [
       "--------------------------  ----------------------------------------------\n",
       "H2O cluster uptime:         3 hours 13 minutes 19 seconds 211 milliseconds\n",
       "H2O cluster version:        3.5.0.99999\n",
       "H2O cluster name:           ludirehak\n",
       "H2O cluster total nodes:    1\n",
       "H2O cluster total memory:   3.56 GB\n",
       "H2O cluster total cores:    8\n",
       "H2O cluster allowed cores:  8\n",
       "H2O cluster healthy:        True\n",
       "H2O Connection ip:          127.0.0.1\n",
       "H2O Connection port:        54321\n",
       "--------------------------  ----------------------------------------------"
      ]
     },
     "metadata": {},
     "output_type": "display_data"
    }
   ],
   "source": [
    "import pandas as pd\n",
    "import numpy\n",
    "from numpy.random import choice\n",
    "from sklearn.datasets import load_boston\n",
    "\n",
    "import h2o\n",
    "h2o.init()"
   ]
  },
  {
   "cell_type": "code",
   "execution_count": 241,
   "metadata": {
    "collapsed": false
   },
   "outputs": [],
   "source": [
    "# transfer the boston data from pandas to H2O\n",
    "boston_data = load_boston()\n",
    "X = pd.DataFrame(data=boston_data.data, columns=boston_data.feature_names)\n",
    "X[\"Median_value\"] = boston_data.target\n",
    "X = h2o.H2OFrame.from_python(X.to_dict(\"list\"))"
   ]
  },
  {
   "cell_type": "code",
   "execution_count": 242,
   "metadata": {
    "collapsed": true
   },
   "outputs": [],
   "source": [
    "# select 10% for valdation\n",
    "r = X.runif(seed=123456789)\n",
    "train = X[r < 0.9,:]\n",
    "valid = X[r >= 0.9,:]\n",
    "\n",
    "h2o.export_file(train, \"Boston_housing_train.csv\", force=True)\n",
    "h2o.export_file(valid, \"Boston_housing_test.csv\", force=True)"
   ]
  },
  {
   "cell_type": "markdown",
   "metadata": {},
   "source": [
    "Enable inline plotting in the Jupyter Notebook"
   ]
  },
  {
   "cell_type": "code",
   "execution_count": 243,
   "metadata": {
    "collapsed": true
   },
   "outputs": [],
   "source": [
    "%matplotlib inline\n",
    "import matplotlib.pyplot as plt"
   ]
  },
  {
   "cell_type": "markdown",
   "metadata": {},
   "source": [
    "## Intro to H2O Data Munging"
   ]
  },
  {
   "cell_type": "markdown",
   "metadata": {},
   "source": [
    "Read csv data into H2O. This loads the data into the H2O column compressed, in-memory, key-value store."
   ]
  },
  {
   "cell_type": "code",
   "execution_count": 244,
   "metadata": {
    "collapsed": false
   },
   "outputs": [],
   "source": [
    "fr = h2o.import_file(\"Boston_housing_train.csv\")"
   ]
  },
  {
   "cell_type": "markdown",
   "metadata": {},
   "source": [
    "View the top of the H2O frame."
   ]
  },
  {
   "cell_type": "code",
   "execution_count": 245,
   "metadata": {
    "collapsed": false
   },
   "outputs": [
    {
     "data": {
      "text/html": [
       "<table>\n",
       "<tr><th style=\"text-align: right;\">   CRIM</th><th style=\"text-align: right;\">  ZN</th><th style=\"text-align: right;\">     B</th><th style=\"text-align: right;\">  LSTAT</th><th style=\"text-align: right;\">  Median_value</th><th style=\"text-align: right;\">  AGE</th><th style=\"text-align: right;\">  TAX</th><th style=\"text-align: right;\">  RAD</th><th style=\"text-align: right;\">  CHAS</th><th style=\"text-align: right;\">  NOX</th><th style=\"text-align: right;\">   RM</th><th style=\"text-align: right;\">  INDUS</th><th style=\"text-align: right;\">  PTRATIO</th><th style=\"text-align: right;\">   DIS</th></tr>\n",
       "<tr><td style=\"text-align: right;\">0.00632</td><td style=\"text-align: right;\">18  </td><td style=\"text-align: right;\">396.9 </td><td style=\"text-align: right;\">   4.98</td><td style=\"text-align: right;\">          24  </td><td style=\"text-align: right;\"> 65.2</td><td style=\"text-align: right;\">  296</td><td style=\"text-align: right;\">    1</td><td style=\"text-align: right;\">     0</td><td style=\"text-align: right;\">0.538</td><td style=\"text-align: right;\">6.575</td><td style=\"text-align: right;\">   2.31</td><td style=\"text-align: right;\">     15.3</td><td style=\"text-align: right;\">4.09  </td></tr>\n",
       "<tr><td style=\"text-align: right;\">0.02729</td><td style=\"text-align: right;\"> 0  </td><td style=\"text-align: right;\">392.83</td><td style=\"text-align: right;\">   4.03</td><td style=\"text-align: right;\">          34.7</td><td style=\"text-align: right;\"> 61.1</td><td style=\"text-align: right;\">  242</td><td style=\"text-align: right;\">    2</td><td style=\"text-align: right;\">     0</td><td style=\"text-align: right;\">0.469</td><td style=\"text-align: right;\">7.185</td><td style=\"text-align: right;\">   7.07</td><td style=\"text-align: right;\">     17.8</td><td style=\"text-align: right;\">4.9671</td></tr>\n",
       "<tr><td style=\"text-align: right;\">0.03237</td><td style=\"text-align: right;\"> 0  </td><td style=\"text-align: right;\">394.63</td><td style=\"text-align: right;\">   2.94</td><td style=\"text-align: right;\">          33.4</td><td style=\"text-align: right;\"> 45.8</td><td style=\"text-align: right;\">  222</td><td style=\"text-align: right;\">    3</td><td style=\"text-align: right;\">     0</td><td style=\"text-align: right;\">0.458</td><td style=\"text-align: right;\">6.998</td><td style=\"text-align: right;\">   2.18</td><td style=\"text-align: right;\">     18.7</td><td style=\"text-align: right;\">6.0622</td></tr>\n",
       "<tr><td style=\"text-align: right;\">0.06905</td><td style=\"text-align: right;\"> 0  </td><td style=\"text-align: right;\">396.9 </td><td style=\"text-align: right;\">   5.33</td><td style=\"text-align: right;\">          36.2</td><td style=\"text-align: right;\"> 54.2</td><td style=\"text-align: right;\">  222</td><td style=\"text-align: right;\">    3</td><td style=\"text-align: right;\">     0</td><td style=\"text-align: right;\">0.458</td><td style=\"text-align: right;\">7.147</td><td style=\"text-align: right;\">   2.18</td><td style=\"text-align: right;\">     18.7</td><td style=\"text-align: right;\">6.0622</td></tr>\n",
       "<tr><td style=\"text-align: right;\">0.02985</td><td style=\"text-align: right;\"> 0  </td><td style=\"text-align: right;\">394.12</td><td style=\"text-align: right;\">   5.21</td><td style=\"text-align: right;\">          28.7</td><td style=\"text-align: right;\"> 58.7</td><td style=\"text-align: right;\">  222</td><td style=\"text-align: right;\">    3</td><td style=\"text-align: right;\">     0</td><td style=\"text-align: right;\">0.458</td><td style=\"text-align: right;\">6.43 </td><td style=\"text-align: right;\">   2.18</td><td style=\"text-align: right;\">     18.7</td><td style=\"text-align: right;\">6.0622</td></tr>\n",
       "<tr><td style=\"text-align: right;\">0.08829</td><td style=\"text-align: right;\">12.5</td><td style=\"text-align: right;\">395.6 </td><td style=\"text-align: right;\">  12.43</td><td style=\"text-align: right;\">          22.9</td><td style=\"text-align: right;\"> 66.6</td><td style=\"text-align: right;\">  311</td><td style=\"text-align: right;\">    5</td><td style=\"text-align: right;\">     0</td><td style=\"text-align: right;\">0.524</td><td style=\"text-align: right;\">6.012</td><td style=\"text-align: right;\">   7.87</td><td style=\"text-align: right;\">     15.2</td><td style=\"text-align: right;\">5.5605</td></tr>\n",
       "<tr><td style=\"text-align: right;\">0.14455</td><td style=\"text-align: right;\">12.5</td><td style=\"text-align: right;\">396.9 </td><td style=\"text-align: right;\">  19.15</td><td style=\"text-align: right;\">          27.1</td><td style=\"text-align: right;\"> 96.1</td><td style=\"text-align: right;\">  311</td><td style=\"text-align: right;\">    5</td><td style=\"text-align: right;\">     0</td><td style=\"text-align: right;\">0.524</td><td style=\"text-align: right;\">6.172</td><td style=\"text-align: right;\">   7.87</td><td style=\"text-align: right;\">     15.2</td><td style=\"text-align: right;\">5.9505</td></tr>\n",
       "<tr><td style=\"text-align: right;\">0.21124</td><td style=\"text-align: right;\">12.5</td><td style=\"text-align: right;\">386.63</td><td style=\"text-align: right;\">  29.93</td><td style=\"text-align: right;\">          16.5</td><td style=\"text-align: right;\">100  </td><td style=\"text-align: right;\">  311</td><td style=\"text-align: right;\">    5</td><td style=\"text-align: right;\">     0</td><td style=\"text-align: right;\">0.524</td><td style=\"text-align: right;\">5.631</td><td style=\"text-align: right;\">   7.87</td><td style=\"text-align: right;\">     15.2</td><td style=\"text-align: right;\">6.0821</td></tr>\n",
       "<tr><td style=\"text-align: right;\">0.17004</td><td style=\"text-align: right;\">12.5</td><td style=\"text-align: right;\">386.71</td><td style=\"text-align: right;\">  17.1 </td><td style=\"text-align: right;\">          18.9</td><td style=\"text-align: right;\"> 85.9</td><td style=\"text-align: right;\">  311</td><td style=\"text-align: right;\">    5</td><td style=\"text-align: right;\">     0</td><td style=\"text-align: right;\">0.524</td><td style=\"text-align: right;\">6.004</td><td style=\"text-align: right;\">   7.87</td><td style=\"text-align: right;\">     15.2</td><td style=\"text-align: right;\">6.5921</td></tr>\n",
       "<tr><td style=\"text-align: right;\">0.22489</td><td style=\"text-align: right;\">12.5</td><td style=\"text-align: right;\">392.52</td><td style=\"text-align: right;\">  20.45</td><td style=\"text-align: right;\">          15  </td><td style=\"text-align: right;\"> 94.3</td><td style=\"text-align: right;\">  311</td><td style=\"text-align: right;\">    5</td><td style=\"text-align: right;\">     0</td><td style=\"text-align: right;\">0.524</td><td style=\"text-align: right;\">6.377</td><td style=\"text-align: right;\">   7.87</td><td style=\"text-align: right;\">     15.2</td><td style=\"text-align: right;\">6.3467</td></tr>\n",
       "</table>"
      ]
     },
     "metadata": {},
     "output_type": "display_data"
    },
    {
     "data": {
      "text/plain": []
     },
     "execution_count": 245,
     "metadata": {},
     "output_type": "execute_result"
    }
   ],
   "source": [
    "fr.head()"
   ]
  },
  {
   "cell_type": "markdown",
   "metadata": {},
   "source": [
    "View the bottom of the H2O Frame"
   ]
  },
  {
   "cell_type": "code",
   "execution_count": 246,
   "metadata": {
    "collapsed": false
   },
   "outputs": [
    {
     "data": {
      "text/html": [
       "<table>\n",
       "<tr><th style=\"text-align: right;\">   CRIM</th><th style=\"text-align: right;\">  ZN</th><th style=\"text-align: right;\">     B</th><th style=\"text-align: right;\">  LSTAT</th><th style=\"text-align: right;\">  Median_value</th><th style=\"text-align: right;\">  AGE</th><th style=\"text-align: right;\">  TAX</th><th style=\"text-align: right;\">  RAD</th><th style=\"text-align: right;\">  CHAS</th><th style=\"text-align: right;\">  NOX</th><th style=\"text-align: right;\">   RM</th><th style=\"text-align: right;\">  INDUS</th><th style=\"text-align: right;\">  PTRATIO</th><th style=\"text-align: right;\">   DIS</th></tr>\n",
       "<tr><td style=\"text-align: right;\">0.2896 </td><td style=\"text-align: right;\">   0</td><td style=\"text-align: right;\">396.9 </td><td style=\"text-align: right;\">  21.14</td><td style=\"text-align: right;\">          19.7</td><td style=\"text-align: right;\"> 72.9</td><td style=\"text-align: right;\">  391</td><td style=\"text-align: right;\">    6</td><td style=\"text-align: right;\">     0</td><td style=\"text-align: right;\">0.585</td><td style=\"text-align: right;\">5.39 </td><td style=\"text-align: right;\">   9.69</td><td style=\"text-align: right;\">     19.2</td><td style=\"text-align: right;\">2.7986</td></tr>\n",
       "<tr><td style=\"text-align: right;\">0.26838</td><td style=\"text-align: right;\">   0</td><td style=\"text-align: right;\">396.9 </td><td style=\"text-align: right;\">  14.1 </td><td style=\"text-align: right;\">          18.3</td><td style=\"text-align: right;\"> 70.6</td><td style=\"text-align: right;\">  391</td><td style=\"text-align: right;\">    6</td><td style=\"text-align: right;\">     0</td><td style=\"text-align: right;\">0.585</td><td style=\"text-align: right;\">5.794</td><td style=\"text-align: right;\">   9.69</td><td style=\"text-align: right;\">     19.2</td><td style=\"text-align: right;\">2.8927</td></tr>\n",
       "<tr><td style=\"text-align: right;\">0.23912</td><td style=\"text-align: right;\">   0</td><td style=\"text-align: right;\">396.9 </td><td style=\"text-align: right;\">  12.92</td><td style=\"text-align: right;\">          21.2</td><td style=\"text-align: right;\"> 65.3</td><td style=\"text-align: right;\">  391</td><td style=\"text-align: right;\">    6</td><td style=\"text-align: right;\">     0</td><td style=\"text-align: right;\">0.585</td><td style=\"text-align: right;\">6.019</td><td style=\"text-align: right;\">   9.69</td><td style=\"text-align: right;\">     19.2</td><td style=\"text-align: right;\">2.4091</td></tr>\n",
       "<tr><td style=\"text-align: right;\">0.17783</td><td style=\"text-align: right;\">   0</td><td style=\"text-align: right;\">395.77</td><td style=\"text-align: right;\">  15.1 </td><td style=\"text-align: right;\">          17.5</td><td style=\"text-align: right;\"> 73.5</td><td style=\"text-align: right;\">  391</td><td style=\"text-align: right;\">    6</td><td style=\"text-align: right;\">     0</td><td style=\"text-align: right;\">0.585</td><td style=\"text-align: right;\">5.569</td><td style=\"text-align: right;\">   9.69</td><td style=\"text-align: right;\">     19.2</td><td style=\"text-align: right;\">2.3999</td></tr>\n",
       "<tr><td style=\"text-align: right;\">0.22438</td><td style=\"text-align: right;\">   0</td><td style=\"text-align: right;\">396.9 </td><td style=\"text-align: right;\">  14.33</td><td style=\"text-align: right;\">          16.8</td><td style=\"text-align: right;\"> 79.7</td><td style=\"text-align: right;\">  391</td><td style=\"text-align: right;\">    6</td><td style=\"text-align: right;\">     0</td><td style=\"text-align: right;\">0.585</td><td style=\"text-align: right;\">6.027</td><td style=\"text-align: right;\">   9.69</td><td style=\"text-align: right;\">     19.2</td><td style=\"text-align: right;\">2.4982</td></tr>\n",
       "<tr><td style=\"text-align: right;\">0.06263</td><td style=\"text-align: right;\">   0</td><td style=\"text-align: right;\">391.99</td><td style=\"text-align: right;\">   9.67</td><td style=\"text-align: right;\">          22.4</td><td style=\"text-align: right;\"> 69.1</td><td style=\"text-align: right;\">  273</td><td style=\"text-align: right;\">    1</td><td style=\"text-align: right;\">     0</td><td style=\"text-align: right;\">0.573</td><td style=\"text-align: right;\">6.593</td><td style=\"text-align: right;\">  11.93</td><td style=\"text-align: right;\">     21  </td><td style=\"text-align: right;\">2.4786</td></tr>\n",
       "<tr><td style=\"text-align: right;\">0.04527</td><td style=\"text-align: right;\">   0</td><td style=\"text-align: right;\">396.9 </td><td style=\"text-align: right;\">   9.08</td><td style=\"text-align: right;\">          20.6</td><td style=\"text-align: right;\"> 76.7</td><td style=\"text-align: right;\">  273</td><td style=\"text-align: right;\">    1</td><td style=\"text-align: right;\">     0</td><td style=\"text-align: right;\">0.573</td><td style=\"text-align: right;\">6.12 </td><td style=\"text-align: right;\">  11.93</td><td style=\"text-align: right;\">     21  </td><td style=\"text-align: right;\">2.2875</td></tr>\n",
       "<tr><td style=\"text-align: right;\">0.06076</td><td style=\"text-align: right;\">   0</td><td style=\"text-align: right;\">396.9 </td><td style=\"text-align: right;\">   5.64</td><td style=\"text-align: right;\">          23.9</td><td style=\"text-align: right;\"> 91  </td><td style=\"text-align: right;\">  273</td><td style=\"text-align: right;\">    1</td><td style=\"text-align: right;\">     0</td><td style=\"text-align: right;\">0.573</td><td style=\"text-align: right;\">6.976</td><td style=\"text-align: right;\">  11.93</td><td style=\"text-align: right;\">     21  </td><td style=\"text-align: right;\">2.1675</td></tr>\n",
       "<tr><td style=\"text-align: right;\">0.10959</td><td style=\"text-align: right;\">   0</td><td style=\"text-align: right;\">393.45</td><td style=\"text-align: right;\">   6.48</td><td style=\"text-align: right;\">          22  </td><td style=\"text-align: right;\"> 89.3</td><td style=\"text-align: right;\">  273</td><td style=\"text-align: right;\">    1</td><td style=\"text-align: right;\">     0</td><td style=\"text-align: right;\">0.573</td><td style=\"text-align: right;\">6.794</td><td style=\"text-align: right;\">  11.93</td><td style=\"text-align: right;\">     21  </td><td style=\"text-align: right;\">2.3889</td></tr>\n",
       "<tr><td style=\"text-align: right;\">0.04741</td><td style=\"text-align: right;\">   0</td><td style=\"text-align: right;\">396.9 </td><td style=\"text-align: right;\">   7.88</td><td style=\"text-align: right;\">          11.9</td><td style=\"text-align: right;\"> 80.8</td><td style=\"text-align: right;\">  273</td><td style=\"text-align: right;\">    1</td><td style=\"text-align: right;\">     0</td><td style=\"text-align: right;\">0.573</td><td style=\"text-align: right;\">6.03 </td><td style=\"text-align: right;\">  11.93</td><td style=\"text-align: right;\">     21  </td><td style=\"text-align: right;\">2.505 </td></tr>\n",
       "</table>"
      ]
     },
     "metadata": {},
     "output_type": "display_data"
    },
    {
     "data": {
      "text/plain": []
     },
     "execution_count": 246,
     "metadata": {},
     "output_type": "execute_result"
    }
   ],
   "source": [
    "fr.tail()"
   ]
  },
  {
   "cell_type": "markdown",
   "metadata": {},
   "source": [
    "Select a column\n",
    "\n",
    "fr[\"VAR_NAME\"]"
   ]
  },
  {
   "cell_type": "code",
   "execution_count": 247,
   "metadata": {
    "collapsed": false
   },
   "outputs": [
    {
     "data": {
      "text/html": [
       "<table>\n",
       "<tr><th style=\"text-align: right;\">   CRIM</th></tr>\n",
       "<tr><td style=\"text-align: right;\">0.00632</td></tr>\n",
       "<tr><td style=\"text-align: right;\">0.02729</td></tr>\n",
       "<tr><td style=\"text-align: right;\">0.03237</td></tr>\n",
       "<tr><td style=\"text-align: right;\">0.06905</td></tr>\n",
       "<tr><td style=\"text-align: right;\">0.02985</td></tr>\n",
       "<tr><td style=\"text-align: right;\">0.08829</td></tr>\n",
       "<tr><td style=\"text-align: right;\">0.14455</td></tr>\n",
       "<tr><td style=\"text-align: right;\">0.21124</td></tr>\n",
       "<tr><td style=\"text-align: right;\">0.17004</td></tr>\n",
       "<tr><td style=\"text-align: right;\">0.22489</td></tr>\n",
       "</table>"
      ]
     },
     "metadata": {},
     "output_type": "display_data"
    },
    {
     "data": {
      "text/plain": []
     },
     "execution_count": 247,
     "metadata": {},
     "output_type": "execute_result"
    }
   ],
   "source": [
    "fr[\"CRIM\"].head() # Tab completes"
   ]
  },
  {
   "cell_type": "markdown",
   "metadata": {},
   "source": [
    "Select a few columns"
   ]
  },
  {
   "cell_type": "code",
   "execution_count": 248,
   "metadata": {
    "collapsed": false
   },
   "outputs": [
    {
     "data": {
      "text/html": [
       "<table>\n",
       "<tr><th style=\"text-align: right;\">   CRIM</th><th style=\"text-align: right;\">   RM</th><th style=\"text-align: right;\">  RAD</th></tr>\n",
       "<tr><td style=\"text-align: right;\">0.00632</td><td style=\"text-align: right;\">6.575</td><td style=\"text-align: right;\">    1</td></tr>\n",
       "<tr><td style=\"text-align: right;\">0.02729</td><td style=\"text-align: right;\">7.185</td><td style=\"text-align: right;\">    2</td></tr>\n",
       "<tr><td style=\"text-align: right;\">0.03237</td><td style=\"text-align: right;\">6.998</td><td style=\"text-align: right;\">    3</td></tr>\n",
       "<tr><td style=\"text-align: right;\">0.06905</td><td style=\"text-align: right;\">7.147</td><td style=\"text-align: right;\">    3</td></tr>\n",
       "<tr><td style=\"text-align: right;\">0.02985</td><td style=\"text-align: right;\">6.43 </td><td style=\"text-align: right;\">    3</td></tr>\n",
       "<tr><td style=\"text-align: right;\">0.08829</td><td style=\"text-align: right;\">6.012</td><td style=\"text-align: right;\">    5</td></tr>\n",
       "<tr><td style=\"text-align: right;\">0.14455</td><td style=\"text-align: right;\">6.172</td><td style=\"text-align: right;\">    5</td></tr>\n",
       "<tr><td style=\"text-align: right;\">0.21124</td><td style=\"text-align: right;\">5.631</td><td style=\"text-align: right;\">    5</td></tr>\n",
       "<tr><td style=\"text-align: right;\">0.17004</td><td style=\"text-align: right;\">6.004</td><td style=\"text-align: right;\">    5</td></tr>\n",
       "<tr><td style=\"text-align: right;\">0.22489</td><td style=\"text-align: right;\">6.377</td><td style=\"text-align: right;\">    5</td></tr>\n",
       "</table>"
      ]
     },
     "metadata": {},
     "output_type": "display_data"
    },
    {
     "data": {
      "text/plain": []
     },
     "execution_count": 248,
     "metadata": {},
     "output_type": "execute_result"
    }
   ],
   "source": [
    "columns = [\"CRIM\", \"RM\", \"RAD\"]\n",
    "fr[columns].head()"
   ]
  },
  {
   "cell_type": "markdown",
   "metadata": {},
   "source": [
    "Select a subset of rows\n",
    "\n",
    "Unlike in Pandas, columns may be identified by index or column name. **Therefore, when subsetting by rows, you must also pass the column selection.**"
   ]
  },
  {
   "cell_type": "code",
   "execution_count": 249,
   "metadata": {
    "collapsed": false
   },
   "outputs": [
    {
     "data": {
      "text/html": [
       "<table>\n",
       "<tr><th style=\"text-align: right;\">   CRIM</th><th style=\"text-align: right;\">  ZN</th><th style=\"text-align: right;\">     B</th><th style=\"text-align: right;\">  LSTAT</th><th style=\"text-align: right;\">  Median_value</th><th style=\"text-align: right;\">  AGE</th><th style=\"text-align: right;\">  TAX</th><th style=\"text-align: right;\">  RAD</th><th style=\"text-align: right;\">  CHAS</th><th style=\"text-align: right;\">  NOX</th><th style=\"text-align: right;\">   RM</th><th style=\"text-align: right;\">  INDUS</th><th style=\"text-align: right;\">  PTRATIO</th><th style=\"text-align: right;\">   DIS</th></tr>\n",
       "<tr><td style=\"text-align: right;\">0.03237</td><td style=\"text-align: right;\"> 0  </td><td style=\"text-align: right;\">394.63</td><td style=\"text-align: right;\">   2.94</td><td style=\"text-align: right;\">          33.4</td><td style=\"text-align: right;\"> 45.8</td><td style=\"text-align: right;\">  222</td><td style=\"text-align: right;\">    3</td><td style=\"text-align: right;\">     0</td><td style=\"text-align: right;\">0.458</td><td style=\"text-align: right;\">6.998</td><td style=\"text-align: right;\">   2.18</td><td style=\"text-align: right;\">     18.7</td><td style=\"text-align: right;\">6.0622</td></tr>\n",
       "<tr><td style=\"text-align: right;\">0.06905</td><td style=\"text-align: right;\"> 0  </td><td style=\"text-align: right;\">396.9 </td><td style=\"text-align: right;\">   5.33</td><td style=\"text-align: right;\">          36.2</td><td style=\"text-align: right;\"> 54.2</td><td style=\"text-align: right;\">  222</td><td style=\"text-align: right;\">    3</td><td style=\"text-align: right;\">     0</td><td style=\"text-align: right;\">0.458</td><td style=\"text-align: right;\">7.147</td><td style=\"text-align: right;\">   2.18</td><td style=\"text-align: right;\">     18.7</td><td style=\"text-align: right;\">6.0622</td></tr>\n",
       "<tr><td style=\"text-align: right;\">0.02985</td><td style=\"text-align: right;\"> 0  </td><td style=\"text-align: right;\">394.12</td><td style=\"text-align: right;\">   5.21</td><td style=\"text-align: right;\">          28.7</td><td style=\"text-align: right;\"> 58.7</td><td style=\"text-align: right;\">  222</td><td style=\"text-align: right;\">    3</td><td style=\"text-align: right;\">     0</td><td style=\"text-align: right;\">0.458</td><td style=\"text-align: right;\">6.43 </td><td style=\"text-align: right;\">   2.18</td><td style=\"text-align: right;\">     18.7</td><td style=\"text-align: right;\">6.0622</td></tr>\n",
       "<tr><td style=\"text-align: right;\">0.08829</td><td style=\"text-align: right;\">12.5</td><td style=\"text-align: right;\">395.6 </td><td style=\"text-align: right;\">  12.43</td><td style=\"text-align: right;\">          22.9</td><td style=\"text-align: right;\"> 66.6</td><td style=\"text-align: right;\">  311</td><td style=\"text-align: right;\">    5</td><td style=\"text-align: right;\">     0</td><td style=\"text-align: right;\">0.524</td><td style=\"text-align: right;\">6.012</td><td style=\"text-align: right;\">   7.87</td><td style=\"text-align: right;\">     15.2</td><td style=\"text-align: right;\">5.5605</td></tr>\n",
       "<tr><td style=\"text-align: right;\">0.14455</td><td style=\"text-align: right;\">12.5</td><td style=\"text-align: right;\">396.9 </td><td style=\"text-align: right;\">  19.15</td><td style=\"text-align: right;\">          27.1</td><td style=\"text-align: right;\"> 96.1</td><td style=\"text-align: right;\">  311</td><td style=\"text-align: right;\">    5</td><td style=\"text-align: right;\">     0</td><td style=\"text-align: right;\">0.524</td><td style=\"text-align: right;\">6.172</td><td style=\"text-align: right;\">   7.87</td><td style=\"text-align: right;\">     15.2</td><td style=\"text-align: right;\">5.9505</td></tr>\n",
       "</table>"
      ]
     },
     "metadata": {},
     "output_type": "display_data"
    },
    {
     "data": {
      "text/plain": []
     },
     "execution_count": 249,
     "metadata": {},
     "output_type": "execute_result"
    }
   ],
   "source": [
    "fr[2:7,:]  # explicitly select all columns with :"
   ]
  },
  {
   "cell_type": "markdown",
   "metadata": {},
   "source": [
    "Key attributes:\n",
    "      * columns, names, col_names\n",
    "      * len, shape, dim, nrow, ncol\n",
    "      * types\n",
    "      \n",
    "Note: \n",
    "\n",
    "Since the data is _not_ in local python memory\n",
    "there is no \"values\" attribute. If you want to \n",
    "pull all of the data into the local python memory\n",
    "then do so explicitly with h2o.export_file and\n",
    "reading the data into python memory from disk."
   ]
  },
  {
   "cell_type": "code",
   "execution_count": 250,
   "metadata": {
    "collapsed": false
   },
   "outputs": [
    {
     "name": "stdout",
     "output_type": "stream",
     "text": [
      "Columns: [u'CRIM', u'ZN', u'B', u'LSTAT', u'Median_value', u'AGE', u'TAX', u'RAD', u'CHAS', u'NOX', u'RM', u'INDUS', u'PTRATIO', u'DIS'] \n",
      "\n",
      "Columns: [u'CRIM', u'ZN', u'B', u'LSTAT', u'Median_value', u'AGE', u'TAX', u'RAD', u'CHAS', u'NOX', u'RM', u'INDUS', u'PTRATIO', u'DIS'] \n",
      "\n",
      "Columns: [u'CRIM', u'ZN', u'B', u'LSTAT', u'Median_value', u'AGE', u'TAX', u'RAD', u'CHAS', u'NOX', u'RM', u'INDUS', u'PTRATIO', u'DIS'] \n",
      "\n",
      "length: 462 \n",
      "\n",
      "shape: (462, 14) \n",
      "\n",
      "dim: [462, 14] \n",
      "\n",
      "nrow: 462 \n",
      "\n",
      "ncol: 14 \n",
      "\n",
      "types: {u'CRIM': u'real', u'ZN': u'real', u'B': u'real', u'LSTAT': u'real', u'TAX': u'int', u'AGE': u'real', u'Median_value': u'real', u'RAD': u'int', u'CHAS': u'int', u'NOX': u'real', u'RM': u'real', u'INDUS': u'real', u'PTRATIO': u'real', u'DIS': u'real'} \n",
      "\n"
     ]
    }
   ],
   "source": [
    "# The columns attribute is exactly like Pandas\n",
    "print \"Columns:\", fr.columns, \"\\n\"\n",
    "print \"Columns:\", fr.names, \"\\n\"\n",
    "print \"Columns:\", fr.col_names, \"\\n\"\n",
    "\n",
    "# There are a number of attributes to get at the shape\n",
    "print \"length:\", str( len(fr) ), \"\\n\"\n",
    "print \"shape:\", fr.shape, \"\\n\"\n",
    "print \"dim:\", fr.dim, \"\\n\"\n",
    "print \"nrow:\", fr.nrow, \"\\n\"\n",
    "print \"ncol:\", fr.ncol, \"\\n\"\n",
    "\n",
    "# Use the \"types\" attribute to list the column types\n",
    "print \"types:\", fr.types, \"\\n\""
   ]
  },
  {
   "cell_type": "markdown",
   "metadata": {},
   "source": [
    "Select rows based on value"
   ]
  },
  {
   "cell_type": "code",
   "execution_count": 251,
   "metadata": {
    "collapsed": false
   },
   "outputs": [
    {
     "data": {
      "text/plain": [
       "(462, 14)"
      ]
     },
     "execution_count": 251,
     "metadata": {},
     "output_type": "execute_result"
    }
   ],
   "source": [
    "fr.shape"
   ]
  },
  {
   "cell_type": "markdown",
   "metadata": {},
   "source": [
    "Boolean masks can be used to subselect rows based on a criteria."
   ]
  },
  {
   "cell_type": "code",
   "execution_count": 252,
   "metadata": {
    "collapsed": false
   },
   "outputs": [
    {
     "data": {
      "text/plain": [
       "(155, 14)"
      ]
     },
     "execution_count": 252,
     "metadata": {},
     "output_type": "execute_result"
    }
   ],
   "source": [
    "mask = fr[\"CRIM\"]>1\n",
    "fr[mask,:].shape"
   ]
  },
  {
   "cell_type": "markdown",
   "metadata": {},
   "source": [
    "Get summary statistics of the data and additional data distribution information."
   ]
  },
  {
   "cell_type": "code",
   "execution_count": 253,
   "metadata": {
    "collapsed": false
   },
   "outputs": [
    {
     "name": "stdout",
     "output_type": "stream",
     "text": [
      "Rows:462 Cols:14\n",
      "\n",
      "Chunk compression summary:\n"
     ]
    },
    {
     "data": {
      "text/html": [
       "<div style=\"overflow:auto\"><table style=\"width:50%\"><tr><td><b>chunk_type</b></td>\n",
       "<td><b>chunk_name</b></td>\n",
       "<td><b>count</b></td>\n",
       "<td><b>count_percentage</b></td>\n",
       "<td><b>size</b></td>\n",
       "<td><b>size_percentage</b></td></tr>\n",
       "<tr><td>CBS</td>\n",
       "<td>Bits</td>\n",
       "<td>1</td>\n",
       "<td>7.1428576</td>\n",
       "<td>    128  B</td>\n",
       "<td>0.4</td></tr>\n",
       "<tr><td>C1N</td>\n",
       "<td>1-Byte Integers (w/o NAs)</td>\n",
       "<td>1</td>\n",
       "<td>7.1428576</td>\n",
       "<td>    530  B</td>\n",
       "<td>1.6260661</td></tr>\n",
       "<tr><td>C2</td>\n",
       "<td>2-Byte Integers</td>\n",
       "<td>1</td>\n",
       "<td>7.1428576</td>\n",
       "<td>    992  B</td>\n",
       "<td>3.043505</td></tr>\n",
       "<tr><td>C2S</td>\n",
       "<td>2-Byte Fractions</td>\n",
       "<td>1</td>\n",
       "<td>7.1428576</td>\n",
       "<td>   1008  B</td>\n",
       "<td>3.0925937</td></tr>\n",
       "<tr><td>CUD</td>\n",
       "<td>Unique Reals</td>\n",
       "<td>4</td>\n",
       "<td>28.57143</td>\n",
       "<td>    7.2 KB</td>\n",
       "<td>22.5563</td></tr>\n",
       "<tr><td>C8D</td>\n",
       "<td>64-bit Reals</td>\n",
       "<td>6</td>\n",
       "<td>42.857143</td>\n",
       "<td>   22.1 KB</td>\n",
       "<td>69.288826</td></tr></table></div>"
      ],
      "text/plain": [
       "chunk_type    chunk_name                 count    count_percentage    size     size_percentage\n",
       "------------  -------------------------  -------  ------------------  -------  -----------------\n",
       "CBS           Bits                       1        7.14286             128  B   0.39271\n",
       "C1N           1-Byte Integers (w/o NAs)  1        7.14286             530  B   1.62607\n",
       "C2            2-Byte Integers            1        7.14286             992  B   3.04351\n",
       "C2S           2-Byte Fractions           1        7.14286             1008  B  3.09259\n",
       "CUD           Unique Reals               4        28.5714             7.2 KB   22.5563\n",
       "C8D           64-bit Reals               6        42.8571             22.1 KB  69.2888"
      ]
     },
     "metadata": {},
     "output_type": "display_data"
    },
    {
     "name": "stdout",
     "output_type": "stream",
     "text": [
      "\n",
      "Frame distribution summary:\n"
     ]
    },
    {
     "data": {
      "text/html": [
       "<div style=\"overflow:auto\"><table style=\"width:50%\"><tr><td><b></b></td>\n",
       "<td><b>size</b></td>\n",
       "<td><b>number_of_rows</b></td>\n",
       "<td><b>number_of_chunks_per_column</b></td>\n",
       "<td><b>number_of_chunks</b></td></tr>\n",
       "<tr><td>172.16.2.40:54321</td>\n",
       "<td>   31.8 KB</td>\n",
       "<td>462.0</td>\n",
       "<td>1.0</td>\n",
       "<td>14.0</td></tr>\n",
       "<tr><td>mean</td>\n",
       "<td>   31.8 KB</td>\n",
       "<td>462.0</td>\n",
       "<td>1.0</td>\n",
       "<td>14.0</td></tr>\n",
       "<tr><td>min</td>\n",
       "<td>   31.8 KB</td>\n",
       "<td>462.0</td>\n",
       "<td>1.0</td>\n",
       "<td>14.0</td></tr>\n",
       "<tr><td>max</td>\n",
       "<td>   31.8 KB</td>\n",
       "<td>462.0</td>\n",
       "<td>1.0</td>\n",
       "<td>14.0</td></tr>\n",
       "<tr><td>stddev</td>\n",
       "<td>      0  B</td>\n",
       "<td>0.0</td>\n",
       "<td>0.0</td>\n",
       "<td>0.0</td></tr>\n",
       "<tr><td>total</td>\n",
       "<td>   31.8 KB</td>\n",
       "<td>462.0</td>\n",
       "<td>1.0</td>\n",
       "<td>14.0</td></tr></table></div>"
      ],
      "text/plain": [
       "                   size     number_of_rows    number_of_chunks_per_column    number_of_chunks\n",
       "-----------------  -------  ----------------  -----------------------------  ------------------\n",
       "172.16.2.40:54321  31.8 KB  462               1                              14\n",
       "mean               31.8 KB  462               1                              14\n",
       "min                31.8 KB  462               1                              14\n",
       "max                31.8 KB  462               1                              14\n",
       "stddev             0  B     0                 0                              0\n",
       "total              31.8 KB  462               1                              14"
      ]
     },
     "metadata": {},
     "output_type": "display_data"
    },
    {
     "name": "stdout",
     "output_type": "stream",
     "text": [
      "\n",
      "\n"
     ]
    },
    {
     "data": {
      "text/html": [
       "<table>\n",
       "<tr><th>       </th><th>CRIM         </th><th>ZN           </th><th>B            </th><th>LSTAT        </th><th>Median_value  </th><th>AGE          </th><th>TAX          </th><th>RAD          </th><th>CHAS           </th><th>NOX           </th><th>RM            </th><th>INDUS        </th><th>PTRATIO      </th><th>DIS          </th></tr>\n",
       "<tr><td>type   </td><td>real         </td><td>real         </td><td>real         </td><td>real         </td><td>real          </td><td>real         </td><td>int          </td><td>int          </td><td>int            </td><td>real          </td><td>real          </td><td>real         </td><td>real         </td><td>real         </td></tr>\n",
       "<tr><td>mins   </td><td>0.00632      </td><td>0.0          </td><td>0.32         </td><td>1.73         </td><td>5.0           </td><td>6.0          </td><td>187.0        </td><td>1.0          </td><td>0.0            </td><td>0.385         </td><td>3.561         </td><td>0.46         </td><td>12.6         </td><td>1.1296       </td></tr>\n",
       "<tr><td>mean   </td><td>3.56810333333</td><td>11.0865800866</td><td>357.205194805</td><td>12.6678787879</td><td>22.6028138528 </td><td>68.911038961 </td><td>407.554112554</td><td>9.44155844156</td><td>0.0627705627706</td><td>0.555068831169</td><td>6.28235930736 </td><td>11.1380519481</td><td>18.45995671  </td><td>3.79056731602</td></tr>\n",
       "<tr><td>maxs   </td><td>88.9762      </td><td>100.0        </td><td>396.9        </td><td>37.97        </td><td>50.0          </td><td>100.0        </td><td>711.0        </td><td>24.0         </td><td>1.0            </td><td>0.871         </td><td>8.78          </td><td>27.74        </td><td>22.0         </td><td>12.1265      </td></tr>\n",
       "<tr><td>sigma  </td><td>8.68268014543</td><td>23.2086423052</td><td>90.7500779002</td><td>7.1419482934 </td><td>9.21258527358 </td><td>27.9631409743</td><td>167.460295078</td><td>8.64357146773</td><td>0.242812755044 </td><td>0.115349440715</td><td>0.707139172922</td><td>6.85982058776</td><td>2.16522966932</td><td>2.11032018051</td></tr>\n",
       "<tr><td>zeros  </td><td>0            </td><td>343          </td><td>0            </td><td>0            </td><td>0             </td><td>0            </td><td>0            </td><td>0            </td><td>433            </td><td>0             </td><td>0             </td><td>0            </td><td>0            </td><td>0            </td></tr>\n",
       "<tr><td>missing</td><td>0            </td><td>0            </td><td>0            </td><td>0            </td><td>0             </td><td>0            </td><td>0            </td><td>0            </td><td>0              </td><td>0             </td><td>0             </td><td>0            </td><td>0            </td><td>0            </td></tr>\n",
       "<tr><td>0      </td><td>0.00632      </td><td>18.0         </td><td>396.9        </td><td>4.98         </td><td>24.0          </td><td>65.2         </td><td>296.0        </td><td>1.0          </td><td>0.0            </td><td>0.538         </td><td>6.575         </td><td>2.31         </td><td>15.3         </td><td>4.09         </td></tr>\n",
       "<tr><td>1      </td><td>0.02729      </td><td>0.0          </td><td>392.83       </td><td>4.03         </td><td>34.7          </td><td>61.1         </td><td>242.0        </td><td>2.0          </td><td>0.0            </td><td>0.469         </td><td>7.185         </td><td>7.07         </td><td>17.8         </td><td>4.9671       </td></tr>\n",
       "<tr><td>2      </td><td>0.03237      </td><td>0.0          </td><td>394.63       </td><td>2.94         </td><td>33.4          </td><td>45.8         </td><td>222.0        </td><td>3.0          </td><td>0.0            </td><td>0.458         </td><td>6.998         </td><td>2.18         </td><td>18.7         </td><td>6.0622       </td></tr>\n",
       "<tr><td>3      </td><td>0.06905      </td><td>0.0          </td><td>396.9        </td><td>5.33         </td><td>36.2          </td><td>54.2         </td><td>222.0        </td><td>3.0          </td><td>0.0            </td><td>0.458         </td><td>7.147         </td><td>2.18         </td><td>18.7         </td><td>6.0622       </td></tr>\n",
       "<tr><td>4      </td><td>0.02985      </td><td>0.0          </td><td>394.12       </td><td>5.21         </td><td>28.7          </td><td>58.7         </td><td>222.0        </td><td>3.0          </td><td>0.0            </td><td>0.458         </td><td>6.43          </td><td>2.18         </td><td>18.7         </td><td>6.0622       </td></tr>\n",
       "<tr><td>5      </td><td>0.08829      </td><td>12.5         </td><td>395.6        </td><td>12.43        </td><td>22.9          </td><td>66.6         </td><td>311.0        </td><td>5.0          </td><td>0.0            </td><td>0.524         </td><td>6.012         </td><td>7.87         </td><td>15.2         </td><td>5.5605       </td></tr>\n",
       "<tr><td>6      </td><td>0.14455      </td><td>12.5         </td><td>396.9        </td><td>19.15        </td><td>27.1          </td><td>96.1         </td><td>311.0        </td><td>5.0          </td><td>0.0            </td><td>0.524         </td><td>6.172         </td><td>7.87         </td><td>15.2         </td><td>5.9505       </td></tr>\n",
       "<tr><td>7      </td><td>0.21124      </td><td>12.5         </td><td>386.63       </td><td>29.93        </td><td>16.5          </td><td>100.0        </td><td>311.0        </td><td>5.0          </td><td>0.0            </td><td>0.524         </td><td>5.631         </td><td>7.87         </td><td>15.2         </td><td>6.0821       </td></tr>\n",
       "<tr><td>8      </td><td>0.17004      </td><td>12.5         </td><td>386.71       </td><td>17.1         </td><td>18.9          </td><td>85.9         </td><td>311.0        </td><td>5.0          </td><td>0.0            </td><td>0.524         </td><td>6.004         </td><td>7.87         </td><td>15.2         </td><td>6.5921       </td></tr>\n",
       "<tr><td>9      </td><td>0.22489      </td><td>12.5         </td><td>392.52       </td><td>20.45        </td><td>15.0          </td><td>94.3         </td><td>311.0        </td><td>5.0          </td><td>0.0            </td><td>0.524         </td><td>6.377         </td><td>7.87         </td><td>15.2         </td><td>6.3467       </td></tr>\n",
       "</table>"
      ]
     },
     "metadata": {},
     "output_type": "display_data"
    }
   ],
   "source": [
    "fr.describe()"
   ]
  },
  {
   "cell_type": "markdown",
   "metadata": {},
   "source": [
    "Set up the predictor and response column names\n",
    "\n",
    "Using H2O algorithms, it's easier to reference predictor and response columns\n",
    "by name in a single frame (i.e., don't split up X and y)"
   ]
  },
  {
   "cell_type": "code",
   "execution_count": 254,
   "metadata": {
    "collapsed": true
   },
   "outputs": [],
   "source": [
    "x = fr.names[:]\n",
    "y=\"Median_value\"\n",
    "x.remove(y)"
   ]
  },
  {
   "cell_type": "markdown",
   "metadata": {},
   "source": [
    "## Machine Learning With H2O"
   ]
  },
  {
   "cell_type": "markdown",
   "metadata": {},
   "source": [
    "H2O is a machine learning library built in Java with interfaces in Python, R, Scala, and Javascript. It is [open source](http://github.com/h2oai) and [well-documented](http://docs.h2o.ai).\n",
    "\n",
    "Unlike Scikit-learn, H2O allows for categorical and missing data.\n",
    "\n",
    "The basic work flow is as follows:\n",
    "* Fit the training data with a machine learning algorithm\n",
    "* Predict on the testing data"
   ]
  },
  {
   "cell_type": "markdown",
   "metadata": {},
   "source": [
    "### Simple model"
   ]
  },
  {
   "cell_type": "code",
   "execution_count": 255,
   "metadata": {
    "collapsed": false
   },
   "outputs": [
    {
     "name": "stderr",
     "output_type": "stream",
     "text": [
      "/Library/Python/2.7/site-packages/ipykernel/__main__.py:1: DeprecationWarning: `h2o.random_forest` is deprecated. Use the estimators sub module to build an H2ORandomForestEstimator.\n",
      "  if __name__ == '__main__':\n"
     ]
    }
   ],
   "source": [
    "model = h2o.random_forest(x=fr[:400,x],y=fr[:400,y],seed=42) # Define and fit first 400 points"
   ]
  },
  {
   "cell_type": "code",
   "execution_count": 256,
   "metadata": {
    "collapsed": false
   },
   "outputs": [
    {
     "data": {
      "text/html": [
       "<table>\n",
       "<tr><th style=\"text-align: right;\">  predict</th></tr>\n",
       "<tr><td style=\"text-align: right;\">   12.736</td></tr>\n",
       "<tr><td style=\"text-align: right;\">   10.1  </td></tr>\n",
       "<tr><td style=\"text-align: right;\">   10.048</td></tr>\n",
       "<tr><td style=\"text-align: right;\">   12.742</td></tr>\n",
       "<tr><td style=\"text-align: right;\">   10.498</td></tr>\n",
       "<tr><td style=\"text-align: right;\">   14.902</td></tr>\n",
       "<tr><td style=\"text-align: right;\">   17.218</td></tr>\n",
       "<tr><td style=\"text-align: right;\">   15.148</td></tr>\n",
       "<tr><td style=\"text-align: right;\">   14.738</td></tr>\n",
       "<tr><td style=\"text-align: right;\">   16.491</td></tr>\n",
       "</table>"
      ]
     },
     "metadata": {},
     "output_type": "display_data"
    },
    {
     "data": {
      "text/plain": []
     },
     "execution_count": 256,
     "metadata": {},
     "output_type": "execute_result"
    }
   ],
   "source": [
    "model.predict(fr[400:fr.nrow,:])        # Predict the rest"
   ]
  },
  {
   "cell_type": "markdown",
   "metadata": {},
   "source": [
    "The performance of the model can be checked using the holdout dataset"
   ]
  },
  {
   "cell_type": "code",
   "execution_count": 257,
   "metadata": {
    "collapsed": false
   },
   "outputs": [
    {
     "name": "stdout",
     "output_type": "stream",
     "text": [
      "\n",
      "ModelMetricsRegression: drf\n",
      "** Reported on test data. **\n",
      "\n",
      "MSE: 13.4756382476\n",
      "R^2: 0.405996106866\n",
      "Mean Residual Deviance: 13.4756382476\n"
     ]
    },
    {
     "data": {
      "text/plain": []
     },
     "execution_count": 257,
     "metadata": {},
     "output_type": "execute_result"
    }
   ],
   "source": [
    "perf = model.model_performance(fr[400:fr.nrow,:])\n",
    "perf.r2()      # get the r2 on the holdout data\n",
    "perf.mse()     # get the mse on the holdout data\n",
    "perf           # display the performance object"
   ]
  },
  {
   "cell_type": "markdown",
   "metadata": {},
   "source": [
    "### Train-Test Split"
   ]
  },
  {
   "cell_type": "markdown",
   "metadata": {},
   "source": [
    "Instead of taking the first 400 observations for training, we can use H2O to create a random test train split of the data."
   ]
  },
  {
   "cell_type": "code",
   "execution_count": 258,
   "metadata": {
    "collapsed": false
   },
   "outputs": [
    {
     "name": "stderr",
     "output_type": "stream",
     "text": [
      "/Library/Python/2.7/site-packages/ipykernel/__main__.py:5: DeprecationWarning: `h2o.random_forest` is deprecated. Use the estimators sub module to build an H2ORandomForestEstimator.\n"
     ]
    },
    {
     "data": {
      "text/plain": [
       "0.8530416308371256"
      ]
     },
     "execution_count": 258,
     "metadata": {},
     "output_type": "execute_result"
    }
   ],
   "source": [
    "r = fr.runif(seed=12345)   # build random uniform column over [0,1]\n",
    "train= fr[r<0.75,:]     # perform a 75-25 split\n",
    "test = fr[r>=0.75,:]\n",
    "\n",
    "model = h2o.random_forest(x=train[x],y=train[y],seed=42)\n",
    "\n",
    "perf = model.model_performance(test)\n",
    "perf.r2()"
   ]
  },
  {
   "cell_type": "markdown",
   "metadata": {},
   "source": [
    "There was a massive jump in the R^2 value. This is because the original data is not shuffled."
   ]
  },
  {
   "cell_type": "markdown",
   "metadata": {},
   "source": [
    "### Cross validation"
   ]
  },
  {
   "cell_type": "markdown",
   "metadata": {},
   "source": [
    "H2O's machine learning algorithms take an optional parameter **nfolds** to specify the number of cross-validation folds to build. H2O's cross-validation uses an internal weight vector to build the folds in an efficient manner (instead of physically building the splits)."
   ]
  },
  {
   "cell_type": "markdown",
   "metadata": {},
   "source": [
    "In conjunction with the **nfolds** parameter, a user may specify the way in which observations are assigned to each fold with the **fold_assignment** parameter, which can be set to either:\n",
    "        * AUTO:  Perform random assignment\n",
    "        * Random: Each row has a equal (1/nfolds) chance of being in any fold.\n",
    "        * Modulo: Observations are in/out of the fold based by modding on nfolds"
   ]
  },
  {
   "cell_type": "code",
   "execution_count": 259,
   "metadata": {
    "collapsed": false
   },
   "outputs": [
    {
     "name": "stderr",
     "output_type": "stream",
     "text": [
      "/Library/Python/2.7/site-packages/ipykernel/__main__.py:1: DeprecationWarning: `h2o.random_forest` is deprecated. Use the estimators sub module to build an H2ORandomForestEstimator.\n",
      "  if __name__ == '__main__':\n"
     ]
    }
   ],
   "source": [
    "model = h2o.random_forest(x=fr[x],y=fr[y], nfolds=10) # build a 10-fold cross-validated model"
   ]
  },
  {
   "cell_type": "code",
   "execution_count": 260,
   "metadata": {
    "collapsed": false
   },
   "outputs": [
    {
     "name": "stdout",
     "output_type": "stream",
     "text": [
      "Expected R^2: 0.88 +/- 0.02 \n",
      "\n",
      "Scores: [ 0.89  0.88  0.88  0.87  0.87  0.87  0.87  0.9   0.86  0.88]\n"
     ]
    }
   ],
   "source": [
    "scores = numpy.array([m.r2() for m in model.xvals]) # iterate over the xval models using the xvals attribute\n",
    "print \"Expected R^2: %.2f +/- %.2f \\n\" % (scores.mean(), scores.std()*1.96)\n",
    "print \"Scores:\", scores.round(2)"
   ]
  },
  {
   "cell_type": "markdown",
   "metadata": {},
   "source": [
    "However, you can still make use of the cross_val_score from Scikit-Learn"
   ]
  },
  {
   "cell_type": "markdown",
   "metadata": {},
   "source": [
    "### Cross validation: H2O and Scikit-Learn"
   ]
  },
  {
   "cell_type": "code",
   "execution_count": 261,
   "metadata": {
    "collapsed": true
   },
   "outputs": [],
   "source": [
    "from sklearn.cross_validation import cross_val_score\n",
    "from h2o.cross_validation import H2OKFold\n",
    "from h2o.estimators.random_forest import H2ORandomForestEstimator\n",
    "from h2o.model.regression import h2o_r2_score\n",
    "from sklearn.metrics.scorer import make_scorer"
   ]
  },
  {
   "cell_type": "markdown",
   "metadata": {},
   "source": [
    "You still must use H2O to make the folds. Currently, there is no H2OStratifiedKFold. Additionally, the H2ORandomForestEstimator is analgous to the scikit-learn RandomForestRegressor object with its own ``fit`` method"
   ]
  },
  {
   "cell_type": "code",
   "execution_count": 262,
   "metadata": {
    "collapsed": true
   },
   "outputs": [],
   "source": [
    "model = H2ORandomForestEstimator(seed=42)"
   ]
  },
  {
   "cell_type": "code",
   "execution_count": 263,
   "metadata": {
    "collapsed": false
   },
   "outputs": [
    {
     "name": "stdout",
     "output_type": "stream",
     "text": [
      "Expected R^2: 0.86 +/- 0.13 \n",
      "\n",
      "Scores: [ 0.83  0.88  0.88  0.94  0.76  0.72  0.89  0.92  0.91  0.9 ]\n"
     ]
    }
   ],
   "source": [
    "scorer = make_scorer(h2o_r2_score)   # make h2o_r2_score into a scikit_learn scorer\n",
    "custom_cv = H2OKFold(fr, n_folds=10, seed=42) # make a cv \n",
    "scores = cross_val_score(model, fr[x], fr[y], scoring=scorer, cv=custom_cv)\n",
    "\n",
    "print \"Expected R^2: %.2f +/- %.2f \\n\" % (scores.mean(), scores.std()*1.96)\n",
    "print \"Scores:\", scores.round(2)"
   ]
  },
  {
   "cell_type": "markdown",
   "metadata": {},
   "source": [
    "There isn't much difference in the R^2 value since the fold strategy is exactly the same. However, there was a major difference in terms of computation time and memory usage."
   ]
  },
  {
   "cell_type": "markdown",
   "metadata": {},
   "source": [
    "Since the progress bar print out gets annoying let's disable that"
   ]
  },
  {
   "cell_type": "code",
   "execution_count": 264,
   "metadata": {
    "collapsed": true
   },
   "outputs": [],
   "source": [
    "h2o.__PROGRESS_BAR__=False\n",
    "h2o.no_progress()"
   ]
  },
  {
   "cell_type": "markdown",
   "metadata": {},
   "source": [
    "### Grid Search"
   ]
  },
  {
   "cell_type": "markdown",
   "metadata": {},
   "source": [
    "Grid search in H2O is still under active development and it will be available very soon. However, it is possible to make use of Scikit's grid search infrastructure (with some performance penalties)"
   ]
  },
  {
   "cell_type": "markdown",
   "metadata": {},
   "source": [
    "### Randomized grid search: H2O and Scikit-Learn"
   ]
  },
  {
   "cell_type": "code",
   "execution_count": 265,
   "metadata": {
    "collapsed": false
   },
   "outputs": [
    {
     "name": "stdout",
     "output_type": "stream",
     "text": [
      "0.16.1\n"
     ]
    }
   ],
   "source": [
    "from sklearn import __version__\n",
    "sklearn_version = __version__\n",
    "print sklearn_version"
   ]
  },
  {
   "cell_type": "markdown",
   "metadata": {},
   "source": [
    "If you have 0.16.1, then your system can't handle complex randomized grid searches (it works in every other version of sklearn, including the soon to be released 0.16.2 and the older versions).\n",
    "\n",
    "The steps to perform a randomized grid search:\n",
    "1. Import model and RandomizedSearchCV\n",
    "2. Define model\n",
    "3. Specify parameters to test\n",
    "4. Define grid search object\n",
    "5. Fit data to grid search object\n",
    "6. Collect scores\n",
    "\n",
    "All the steps will be repeated from above.\n",
    "\n",
    "Because 0.16.1 is installed, we use scipy to define specific distributions"
   ]
  },
  {
   "cell_type": "markdown",
   "metadata": {},
   "source": [
    "ADVANCED TIP:\n",
    "\n",
    "Turn off reference counting for spawning jobs in parallel (n_jobs=-1, or n_jobs > 1).\n",
    "We'll turn it back on again in the aftermath of a Parallel job.\n",
    "\n",
    "If you don't want to run jobs in parallel, don't turn off the reference counting.\n",
    "\n",
    "Pattern is:\n",
    "         >>> h2o.turn_off_ref_cnts()\n",
    "         >>> .... parallel job ....\n",
    "         >>> h2o.turn_on_ref_cnts()"
   ]
  },
  {
   "cell_type": "code",
   "execution_count": 266,
   "metadata": {
    "collapsed": false
   },
   "outputs": [
    {
     "name": "stdout",
     "output_type": "stream",
     "text": [
      "Best R^2: 0.850518287996 \n",
      "\n",
      "Best params: {'mtries': 6, 'ntrees': 28, 'min_rows': 2, 'max_depth': 8}\n",
      "CPU times: user 1min 18s, sys: 2.46 s, total: 1min 20s\n",
      "Wall time: 3min 46s\n"
     ]
    }
   ],
   "source": [
    "%%time\n",
    "from h2o.estimators.random_forest import H2ORandomForestEstimator  # Import model\n",
    "from sklearn.grid_search import RandomizedSearchCV  # Import grid search\n",
    "from scipy.stats import randint, uniform\n",
    "\n",
    "model = H2ORandomForestEstimator(seed=42)        # Define model\n",
    "\n",
    "params = {\"ntrees\": randint(20,50),\n",
    "          \"max_depth\": randint(1,10),\n",
    "          \"min_rows\": randint(1,10),    # scikit's  min_samples_leaf\n",
    "          \"mtries\": randint(2,fr[x].shape[1]),} # Specify parameters to test\n",
    "\n",
    "scorer = make_scorer(h2o_r2_score)   # make h2o_r2_score into a scikit_learn scorer\n",
    "custom_cv = H2OKFold(fr, n_folds=10, seed=42) # make a cv \n",
    "random_search = RandomizedSearchCV(model, params, \n",
    "                                   n_iter=30, \n",
    "                                   scoring=scorer, \n",
    "                                   cv=custom_cv, \n",
    "                                   random_state=42,\n",
    "                                   n_jobs=1)       # Define grid search object\n",
    "\n",
    "random_search.fit(fr[x], fr[y])\n",
    "\n",
    "print \"Best R^2:\", random_search.best_score_, \"\\n\"\n",
    "print \"Best params:\", random_search.best_params_"
   ]
  },
  {
   "cell_type": "markdown",
   "metadata": {},
   "source": [
    "We might be tempted to think that we just had a large improvement; however we must be cautious. The function below creates a more detailed report."
   ]
  },
  {
   "cell_type": "code",
   "execution_count": 267,
   "metadata": {
    "collapsed": true
   },
   "outputs": [],
   "source": [
    "def report_grid_score_detail(random_search, charts=True):\n",
    "    \"\"\"Input fit grid search estimator. Returns df of scores with details\"\"\"\n",
    "    df_list = []\n",
    "\n",
    "    for line in random_search.grid_scores_:\n",
    "        results_dict = dict(line.parameters)\n",
    "        results_dict[\"score\"] = line.mean_validation_score\n",
    "        results_dict[\"std\"] = line.cv_validation_scores.std()*1.96\n",
    "        df_list.append(results_dict)\n",
    "\n",
    "    result_df = pd.DataFrame(df_list)\n",
    "    result_df = result_df.sort(\"score\", ascending=False)\n",
    "    \n",
    "    if charts:\n",
    "        for col in get_numeric(result_df):\n",
    "            if col not in [\"score\", \"std\"]:\n",
    "                plt.scatter(result_df[col], result_df.score)\n",
    "                plt.title(col)\n",
    "                plt.show()\n",
    "\n",
    "        for col in list(result_df.columns[result_df.dtypes == \"object\"]):\n",
    "            cat_plot = result_df.score.groupby(result_df[col]).mean()[0]\n",
    "            cat_plot.sort()\n",
    "            cat_plot.plot(kind=\"barh\", xlim=(.5, None), figsize=(7, cat_plot.shape[0]/2))\n",
    "            plt.show()\n",
    "    return result_df\n",
    "\n",
    "def get_numeric(X):\n",
    "    \"\"\"Return list of numeric dtypes variables\"\"\"\n",
    "    return X.dtypes[X.dtypes.apply(lambda x: str(x).startswith((\"float\", \"int\", \"bool\")))].index.tolist()"
   ]
  },
  {
   "cell_type": "code",
   "execution_count": 268,
   "metadata": {
    "collapsed": false
   },
   "outputs": [
    {
     "data": {
      "image/png": "[encoded data removed]",
      "text/plain": [
       "<matplotlib.figure.Figure at 0x105b063d0>"
      ]
     },
     "metadata": {},
     "output_type": "display_data"
    },
    {
     "data": {
      "image/png": "[encoded data removed]",
      "text/plain": [
       "<matplotlib.figure.Figure at 0x1066705d0>"
      ]
     },
     "metadata": {},
     "output_type": "display_data"
    },
    {
     "data": {
      "image/png": "[encoded data removed]",
      "text/plain": [
       "<matplotlib.figure.Figure at 0x106660990>"
      ]
     },
     "metadata": {},
     "output_type": "display_data"
    },
    {
     "data": {
      "image/png": "[encoded data removed]",
      "text/plain": [
       "<matplotlib.figure.Figure at 0x105ad3410>"
      ]
     },
     "metadata": {},
     "output_type": "display_data"
    },
    {
     "data": {
      "text/html": [
       "<div>\n",
       "<table border=\"1\" class=\"dataframe\">\n",
       "  <thead>\n",
       "    <tr style=\"text-align: right;\">\n",
       "      <th></th>\n",
       "      <th>max_depth</th>\n",
       "      <th>min_rows</th>\n",
       "      <th>mtries</th>\n",
       "      <th>ntrees</th>\n",
       "      <th>score</th>\n",
       "      <th>std</th>\n",
       "    </tr>\n",
       "  </thead>\n",
       "  <tbody>\n",
       "    <tr>\n",
       "      <th>10</th>\n",
       "      <td>8</td>\n",
       "      <td>2</td>\n",
       "      <td>6</td>\n",
       "      <td>28</td>\n",
       "      <td>0.850518</td>\n",
       "      <td>0.120836</td>\n",
       "    </tr>\n",
       "    <tr>\n",
       "      <th>3</th>\n",
       "      <td>7</td>\n",
       "      <td>1</td>\n",
       "      <td>10</td>\n",
       "      <td>28</td>\n",
       "      <td>0.835159</td>\n",
       "      <td>0.139861</td>\n",
       "    </tr>\n",
       "    <tr>\n",
       "      <th>27</th>\n",
       "      <td>9</td>\n",
       "      <td>2</td>\n",
       "      <td>3</td>\n",
       "      <td>27</td>\n",
       "      <td>0.829555</td>\n",
       "      <td>0.170419</td>\n",
       "    </tr>\n",
       "    <tr>\n",
       "      <th>14</th>\n",
       "      <td>8</td>\n",
       "      <td>5</td>\n",
       "      <td>6</td>\n",
       "      <td>28</td>\n",
       "      <td>0.828114</td>\n",
       "      <td>0.136624</td>\n",
       "    </tr>\n",
       "    <tr>\n",
       "      <th>18</th>\n",
       "      <td>8</td>\n",
       "      <td>4</td>\n",
       "      <td>8</td>\n",
       "      <td>48</td>\n",
       "      <td>0.823520</td>\n",
       "      <td>0.153358</td>\n",
       "    </tr>\n",
       "  </tbody>\n",
       "</table>\n",
       "</div>"
      ],
      "text/plain": [
       "    max_depth  min_rows  mtries  ntrees     score       std\n",
       "10          8         2       6      28  0.850518  0.120836\n",
       "3           7         1      10      28  0.835159  0.139861\n",
       "27          9         2       3      27  0.829555  0.170419\n",
       "14          8         5       6      28  0.828114  0.136624\n",
       "18          8         4       8      48  0.823520  0.153358"
      ]
     },
     "execution_count": 268,
     "metadata": {},
     "output_type": "execute_result"
    }
   ],
   "source": [
    "report_grid_score_detail(random_search).head()"
   ]
  },
  {
   "cell_type": "markdown",
   "metadata": {},
   "source": [
    "Based on the grid search report, we can narrow the parameters to search and rerun the analysis. The parameters below were chosen after a few runs:"
   ]
  },
  {
   "cell_type": "code",
   "execution_count": 269,
   "metadata": {
    "collapsed": false
   },
   "outputs": [
    {
     "name": "stdout",
     "output_type": "stream",
     "text": [
      "Best R^2: 0.861172952855 \n",
      "\n",
      "Best params: {'mtries': 6, 'ntrees': 36, 'max_depth': 9}\n"
     ]
    },
    {
     "data": {
      "image/png": "[encoded data removed]",
      "text/plain": [
       "<matplotlib.figure.Figure at 0x105b83c10>"
      ]
     },
     "metadata": {},
     "output_type": "display_data"
    },
    {
     "data": {
      "image/png": "[encoded data removed]",
      "text/plain": [
       "<matplotlib.figure.Figure at 0x105b0da90>"
      ]
     },
     "metadata": {},
     "output_type": "display_data"
    },
    {
     "data": {
      "image/png": "[encoded data removed]",
      "text/plain": [
       "<matplotlib.figure.Figure at 0x1063375d0>"
      ]
     },
     "metadata": {},
     "output_type": "display_data"
    },
    {
     "name": "stdout",
     "output_type": "stream",
     "text": [
      "CPU times: user 14 s, sys: 474 ms, total: 14.4 s\n",
      "Wall time: 1min 23s\n"
     ]
    }
   ],
   "source": [
    "%%time\n",
    "\n",
    "params = {\"ntrees\": randint(30,40),\n",
    "          \"max_depth\": randint(4,10),\n",
    "          \"mtries\": randint(4,10),}\n",
    "\n",
    "custom_cv = H2OKFold(fr, n_folds=5, seed=42)           # In small datasets, the fold size can have a big\n",
    "                                                       # impact on the std of the resulting scores. More\n",
    "random_search = RandomizedSearchCV(model, params,      # folds --> Less examples per fold --> higher \n",
    "                                   n_iter=10,          # variation per sample\n",
    "                                   scoring=scorer, \n",
    "                                   cv=custom_cv, \n",
    "                                   random_state=43, \n",
    "                                   n_jobs=1)       \n",
    "\n",
    "random_search.fit(fr[x], fr[y])\n",
    "\n",
    "print \"Best R^2:\", random_search.best_score_, \"\\n\"\n",
    "print \"Best params:\", random_search.best_params_\n",
    "\n",
    "report_grid_score_detail(random_search)"
   ]
  },
  {
   "cell_type": "markdown",
   "metadata": {},
   "source": [
    "### Transformations"
   ]
  },
  {
   "cell_type": "markdown",
   "metadata": {},
   "source": [
    "Rule of machine learning: Don't use your testing data to inform your training data. Unfortunately, this happens all the time when preparing a dataset for the final model. But on smaller datasets, you must be especially careful."
   ]
  },
  {
   "cell_type": "markdown",
   "metadata": {},
   "source": [
    "At the moment, there are no classes for managing data transformations. On the one hand, this requires the user to tote around some extra state, but on the other, it allows the user to be more explicit about transforming H2OFrames.\n",
    "\n",
    "Basic steps:\n",
    "\n",
    "0. Remove the response variable from transformations.\n",
    "1. Import transformer\n",
    "2. Define transformer\n",
    "3. Fit train data to transformer\n",
    "4. Transform test and train data\n",
    "5. Re-attach the response variable."
   ]
  },
  {
   "cell_type": "markdown",
   "metadata": {},
   "source": [
    "First let's normalize the data using the means and standard deviations of the training data.\n",
    "Then let's perform a principal component analysis on the training data and select the top 5 components.\n",
    "Using these components, let's use them to reduce the train and test design matrices."
   ]
  },
  {
   "cell_type": "code",
   "execution_count": 270,
   "metadata": {
    "collapsed": true
   },
   "outputs": [],
   "source": [
    "from h2o.transforms.preprocessing import H2OScaler\n",
    "from h2o.transforms.decomposition import H2OPCA"
   ]
  },
  {
   "cell_type": "markdown",
   "metadata": {},
   "source": [
    "#### Normalize Data: Use the means and standard deviations from the training data."
   ]
  },
  {
   "cell_type": "code",
   "execution_count": 271,
   "metadata": {
    "collapsed": true
   },
   "outputs": [],
   "source": [
    "y_train = train.pop(\"Median_value\")\n",
    "y_test  = test.pop(\"Median_value\")"
   ]
  },
  {
   "cell_type": "code",
   "execution_count": 272,
   "metadata": {
    "collapsed": true
   },
   "outputs": [],
   "source": [
    "norm = H2OScaler()\n",
    "norm.fit(train)\n",
    "X_train_norm = norm.transform(train)\n",
    "X_test_norm  = norm.transform(test)"
   ]
  },
  {
   "cell_type": "code",
   "execution_count": 273,
   "metadata": {
    "collapsed": false
   },
   "outputs": [
    {
     "name": "stdout",
     "output_type": "stream",
     "text": [
      "(122, 13)\n"
     ]
    },
    {
     "data": {
      "text/html": [
       "<table>\n",
       "<tr><th style=\"text-align: right;\">    CRIM</th><th style=\"text-align: right;\">      ZN</th><th style=\"text-align: right;\">       B</th><th style=\"text-align: right;\">    LSTAT</th><th style=\"text-align: right;\">      AGE</th><th style=\"text-align: right;\">     TAX</th><th style=\"text-align: right;\">     RAD</th><th style=\"text-align: right;\">      CHAS</th><th style=\"text-align: right;\">        NOX</th><th style=\"text-align: right;\">       RM</th><th style=\"text-align: right;\">   INDUS</th><th style=\"text-align: right;\">  PTRATIO</th><th style=\"text-align: right;\">        DIS</th></tr>\n",
       "<tr><td style=\"text-align: right;\">-24.7362</td><td style=\"text-align: right;\">-246.063</td><td style=\"text-align: right;\"> 3478.06</td><td style=\"text-align: right;\">-52.4412 </td><td style=\"text-align: right;\"> -413.735</td><td style=\"text-align: right;\">-30080.2</td><td style=\"text-align: right;\">-51.9628</td><td style=\"text-align: right;\">-0.0148904</td><td style=\"text-align: right;\">-0.011189  </td><td style=\"text-align: right;\"> 0.630504</td><td style=\"text-align: right;\">-63.7738</td><td style=\"text-align: right;\"> 0.684709</td><td style=\"text-align: right;\"> 4.8237    </td></tr>\n",
       "<tr><td style=\"text-align: right;\">-23.6596</td><td style=\"text-align: right;\">  36.577</td><td style=\"text-align: right;\"> 2566.04</td><td style=\"text-align: right;\">126.336  </td><td style=\"text-align: right;\">  883.755</td><td style=\"text-align: right;\">-15288.4</td><td style=\"text-align: right;\">-34.9094</td><td style=\"text-align: right;\">-0.0148904</td><td style=\"text-align: right;\">-0.00359264</td><td style=\"text-align: right;\">-0.476113</td><td style=\"text-align: right;\">-23.6871</td><td style=\"text-align: right;\">-7.11246 </td><td style=\"text-align: right;\"> 4.86543   </td></tr>\n",
       "<tr><td style=\"text-align: right;\">-24.3696</td><td style=\"text-align: right;\">  36.577</td><td style=\"text-align: right;\"> 3478.06</td><td style=\"text-align: right;\">  5.2618 </td><td style=\"text-align: right;\">  399.321</td><td style=\"text-align: right;\">-15288.4</td><td style=\"text-align: right;\">-34.9094</td><td style=\"text-align: right;\">-0.0148904</td><td style=\"text-align: right;\">-0.00359264</td><td style=\"text-align: right;\">-0.200189</td><td style=\"text-align: right;\">-23.6871</td><td style=\"text-align: right;\">-7.11246 </td><td style=\"text-align: right;\"> 5.16867   </td></tr>\n",
       "<tr><td style=\"text-align: right;\">-24.549 </td><td style=\"text-align: right;\">  36.577</td><td style=\"text-align: right;\"> 2909.71</td><td style=\"text-align: right;\"> 22.9942 </td><td style=\"text-align: right;\"> -844.343</td><td style=\"text-align: right;\">-15288.4</td><td style=\"text-align: right;\">-34.9094</td><td style=\"text-align: right;\">-0.0148904</td><td style=\"text-align: right;\">-0.00359264</td><td style=\"text-align: right;\">-0.287784</td><td style=\"text-align: right;\">-23.6871</td><td style=\"text-align: right;\">-7.11246 </td><td style=\"text-align: right;\"> 3.54176   </td></tr>\n",
       "<tr><td style=\"text-align: right;\">-20.4906</td><td style=\"text-align: right;\">-246.063</td><td style=\"text-align: right;\"> 3478.06</td><td style=\"text-align: right;\">-31.1478 </td><td style=\"text-align: right;\"> -198.431</td><td style=\"text-align: right;\">-15953.2</td><td style=\"text-align: right;\">-43.4361</td><td style=\"text-align: right;\">-0.0148904</td><td style=\"text-align: right;\">-0.0019813 </td><td style=\"text-align: right;\">-0.243987</td><td style=\"text-align: right;\">-21.7849</td><td style=\"text-align: right;\"> 5.80856 </td><td style=\"text-align: right;\"> 1.98279   </td></tr>\n",
       "<tr><td style=\"text-align: right;\">-15.927 </td><td style=\"text-align: right;\">-246.063</td><td style=\"text-align: right;\"> 3478.06</td><td style=\"text-align: right;\"> 44.869  </td><td style=\"text-align: right;\">  648.62 </td><td style=\"text-align: right;\">-15953.2</td><td style=\"text-align: right;\">-43.4361</td><td style=\"text-align: right;\">-0.0148904</td><td style=\"text-align: right;\">-0.0019813 </td><td style=\"text-align: right;\">-0.103105</td><td style=\"text-align: right;\">-21.7849</td><td style=\"text-align: right;\"> 5.80856 </td><td style=\"text-align: right;\"> 0.450669  </td></tr>\n",
       "<tr><td style=\"text-align: right;\">-19.5782</td><td style=\"text-align: right;\">-246.063</td><td style=\"text-align: right;\"> 3249.84</td><td style=\"text-align: right;\"> 27.282  </td><td style=\"text-align: right;\">  716.611</td><td style=\"text-align: right;\">-15953.2</td><td style=\"text-align: right;\">-43.4361</td><td style=\"text-align: right;\">-0.0148904</td><td style=\"text-align: right;\">-0.0019813 </td><td style=\"text-align: right;\">-0.262235</td><td style=\"text-align: right;\">-21.7849</td><td style=\"text-align: right;\"> 5.80856 </td><td style=\"text-align: right;\"> 1.3371    </td></tr>\n",
       "<tr><td style=\"text-align: right;\">-19.4061</td><td style=\"text-align: right;\">-246.063</td><td style=\"text-align: right;\"> 2682.37</td><td style=\"text-align: right;\">  1.84613</td><td style=\"text-align: right;\">  725.11 </td><td style=\"text-align: right;\">-15953.2</td><td style=\"text-align: right;\">-43.4361</td><td style=\"text-align: right;\">-0.0148904</td><td style=\"text-align: right;\">-0.0019813 </td><td style=\"text-align: right;\"> 0.154571</td><td style=\"text-align: right;\">-21.7849</td><td style=\"text-align: right;\"> 5.80856 </td><td style=\"text-align: right;\"> 1.45265   </td></tr>\n",
       "<tr><td style=\"text-align: right;\">-13.047 </td><td style=\"text-align: right;\">-246.063</td><td style=\"text-align: right;\">-9717.44</td><td style=\"text-align: right;\"> 56.6422 </td><td style=\"text-align: right;\">  795.933</td><td style=\"text-align: right;\">-15953.2</td><td style=\"text-align: right;\">-43.4361</td><td style=\"text-align: right;\">-0.0148904</td><td style=\"text-align: right;\">-0.0019813 </td><td style=\"text-align: right;\">-0.136683</td><td style=\"text-align: right;\">-21.7849</td><td style=\"text-align: right;\"> 5.80856 </td><td style=\"text-align: right;\">-0.00460617</td></tr>\n",
       "<tr><td style=\"text-align: right;\">-23.9336</td><td style=\"text-align: right;\">-246.063</td><td style=\"text-align: right;\"> 3169.91</td><td style=\"text-align: right;\">-17.5578 </td><td style=\"text-align: right;\">-1093.64 </td><td style=\"text-align: right;\">-20606.8</td><td style=\"text-align: right;\">-34.9094</td><td style=\"text-align: right;\">-0.0148904</td><td style=\"text-align: right;\">-0.00647003</td><td style=\"text-align: right;\">-0.231577</td><td style=\"text-align: right;\">-37.1433</td><td style=\"text-align: right;\"> 1.79859 </td><td style=\"text-align: right;\"> 0.178888  </td></tr>\n",
       "</table>"
      ]
     },
     "metadata": {},
     "output_type": "display_data"
    },
    {
     "data": {
      "text/plain": []
     },
     "execution_count": 273,
     "metadata": {},
     "output_type": "execute_result"
    }
   ],
   "source": [
    "print X_test_norm.shape\n",
    "X_test_norm"
   ]
  },
  {
   "cell_type": "markdown",
   "metadata": {},
   "source": [
    "Then, we can apply PCA and keep the top 5 components."
   ]
  },
  {
   "cell_type": "code",
   "execution_count": 274,
   "metadata": {
    "collapsed": true
   },
   "outputs": [],
   "source": [
    "pca = H2OPCA(k=5)\n",
    "pca.fit(X_train_norm)\n",
    "X_train_norm_pca = pca.transform(X_train_norm)\n",
    "X_test_norm_pca  = pca.transform(X_test_norm)"
   ]
  },
  {
   "cell_type": "code",
   "execution_count": 275,
   "metadata": {
    "collapsed": true
   },
   "outputs": [],
   "source": [
    "# prop of variance explained by top 5 components?"
   ]
  },
  {
   "cell_type": "code",
   "execution_count": 276,
   "metadata": {
    "collapsed": false
   },
   "outputs": [
    {
     "name": "stdout",
     "output_type": "stream",
     "text": [
      "(122, 5)\n"
     ]
    },
    {
     "data": {
      "text/html": [
       "<table>\n",
       "<tr><th style=\"text-align: right;\">     PC1</th><th style=\"text-align: right;\">       PC2</th><th style=\"text-align: right;\">     PC3</th><th style=\"text-align: right;\">      PC4</th><th style=\"text-align: right;\">      PC5</th></tr>\n",
       "<tr><td style=\"text-align: right;\">-30275.3</td><td style=\"text-align: right;\">  -625.604</td><td style=\"text-align: right;\"> 190.44 </td><td style=\"text-align: right;\"> 369.211 </td><td style=\"text-align: right;\">12.3892  </td></tr>\n",
       "<tr><td style=\"text-align: right;\">-15481  </td><td style=\"text-align: right;\">   465.946</td><td style=\"text-align: right;\">1014.83 </td><td style=\"text-align: right;\">-446.059 </td><td style=\"text-align: right;\">38.3513  </td></tr>\n",
       "<tr><td style=\"text-align: right;\">-15611.4</td><td style=\"text-align: right;\">  1372.84 </td><td style=\"text-align: right;\"> 586.132</td><td style=\"text-align: right;\">-231.06  </td><td style=\"text-align: right;\">-0.387572</td></tr>\n",
       "<tr><td style=\"text-align: right;\">-15551.9</td><td style=\"text-align: right;\">   817.878</td><td style=\"text-align: right;\">-530.932</td><td style=\"text-align: right;\"> 323.576 </td><td style=\"text-align: right;\">21.2814  </td></tr>\n",
       "<tr><td style=\"text-align: right;\">-16276.8</td><td style=\"text-align: right;\">  1286.24 </td><td style=\"text-align: right;\"> 185.615</td><td style=\"text-align: right;\"> 287.705 </td><td style=\"text-align: right;\">-4.8135  </td></tr>\n",
       "<tr><td style=\"text-align: right;\">-16264.8</td><td style=\"text-align: right;\">  1280.6  </td><td style=\"text-align: right;\"> 945.465</td><td style=\"text-align: right;\"> -89.9208</td><td style=\"text-align: right;\">17.0235  </td></tr>\n",
       "<tr><td style=\"text-align: right;\">-16233  </td><td style=\"text-align: right;\">  1054.06 </td><td style=\"text-align: right;\">1003.81 </td><td style=\"text-align: right;\">-119.775 </td><td style=\"text-align: right;\"> 5.92804 </td></tr>\n",
       "<tr><td style=\"text-align: right;\">-16156.1</td><td style=\"text-align: right;\">   491.806</td><td style=\"text-align: right;\">1005.79 </td><td style=\"text-align: right;\">-122.634 </td><td style=\"text-align: right;\">-4.7376  </td></tr>\n",
       "<tr><td style=\"text-align: right;\">-14477.2</td><td style=\"text-align: right;\">-11794    </td><td style=\"text-align: right;\"> 962.697</td><td style=\"text-align: right;\">-136.698 </td><td style=\"text-align: right;\">-1.80573 </td></tr>\n",
       "<tr><td style=\"text-align: right;\">-20857.9</td><td style=\"text-align: right;\">   356.531</td><td style=\"text-align: right;\">-552.38 </td><td style=\"text-align: right;\"> 682.064 </td><td style=\"text-align: right;\">21.0776  </td></tr>\n",
       "</table>"
      ]
     },
     "metadata": {},
     "output_type": "display_data"
    },
    {
     "data": {
      "text/plain": []
     },
     "execution_count": 276,
     "metadata": {},
     "output_type": "execute_result"
    }
   ],
   "source": [
    "print X_test_norm_pca.shape\n",
    "X_test_norm_pca[:5]"
   ]
  },
  {
   "cell_type": "code",
   "execution_count": 277,
   "metadata": {
    "collapsed": false
   },
   "outputs": [
    {
     "name": "stderr",
     "output_type": "stream",
     "text": [
      "/Library/Python/2.7/site-packages/ipykernel/__main__.py:2: UserWarning: \n",
      "\n",
      "\t`fit` is not recommended outside of the sklearn framework. Use `train` instead.\n",
      "  from ipykernel import kernelapp as app\n"
     ]
    }
   ],
   "source": [
    "model = H2ORandomForestEstimator(seed=42)\n",
    "model.fit(X_train_norm_pca,y_train)\n",
    "y_hat  = model.predict(X_test_norm_pca)"
   ]
  },
  {
   "cell_type": "code",
   "execution_count": 278,
   "metadata": {
    "collapsed": false
   },
   "outputs": [
    {
     "data": {
      "text/plain": [
       "0.5344823408872756"
      ]
     },
     "execution_count": 278,
     "metadata": {},
     "output_type": "execute_result"
    }
   ],
   "source": [
    "h2o_r2_score(y_test,y_hat)"
   ]
  },
  {
   "cell_type": "markdown",
   "metadata": {},
   "source": [
    "Although this is MUCH simpler than keeping track of all of these transformations manually, it gets to be somewhat of a burden when you want to chain together multiple transformers."
   ]
  },
  {
   "cell_type": "markdown",
   "metadata": {},
   "source": [
    "### Pipelines"
   ]
  },
  {
   "cell_type": "markdown",
   "metadata": {},
   "source": [
    "\"Tranformers unite!\"\n",
    "\n",
    "If your raw data is a mess and you have to perform several transformations before using it, use a pipeline to keep things simple.\n",
    "\n",
    "Steps:\n",
    "\n",
    "1. Import Pipeline, transformers, and model\n",
    "2. Define pipeline. The first and only argument is a *list* of *tuples* where the first element of each tuple is a name you give the step and the second element is a defined transformer. The last step is optionally an estimator class (like a RandomForest).\n",
    "3. Fit the training data to pipeline\n",
    "4. Either transform or predict the testing data"
   ]
  },
  {
   "cell_type": "code",
   "execution_count": 279,
   "metadata": {
    "collapsed": true
   },
   "outputs": [],
   "source": [
    "from h2o.transforms.preprocessing import H2OScaler\n",
    "from h2o.transforms.decomposition import H2OPCA\n",
    "from h2o.estimators.random_forest import H2ORandomForestEstimator"
   ]
  },
  {
   "cell_type": "code",
   "execution_count": 280,
   "metadata": {
    "collapsed": false
   },
   "outputs": [
    {
     "data": {
      "text/plain": [
       "0.4977863701713895"
      ]
     },
     "execution_count": 280,
     "metadata": {},
     "output_type": "execute_result"
    }
   ],
   "source": [
    "from sklearn.pipeline import Pipeline                # Import Pipeline <other imports not shown>\n",
    "model = H2ORandomForestEstimator(seed=42)\n",
    "pipe = Pipeline([(\"standardize\", H2OScaler()),       # Define pipeline as a series of steps\n",
    "                 (\"pca\", H2OPCA(k=5)),\n",
    "                 (\"rf\", model)])                     # Notice the last step is an estimator\n",
    "\n",
    "pipe.fit(train, y_train)                             # Fit training data\n",
    "y_hat = pipe.predict(test)                           # Predict testing data (due to last step being an estimator)\n",
    "h2o_r2_score(y_test, y_hat)                          # Notice the final score is identical to before"
   ]
  },
  {
   "cell_type": "markdown",
   "metadata": {},
   "source": [
    "This is so much easier!!!"
   ]
  },
  {
   "cell_type": "markdown",
   "metadata": {},
   "source": [
    "But, wait a second, we did worse after applying these transformations! We might wonder how different hyperparameters for the transformations impact the final score."
   ]
  },
  {
   "cell_type": "markdown",
   "metadata": {},
   "source": [
    "### Combining randomized grid search and pipelines\n",
    "\"Yo dawg, I heard you like models, so I put models in your models to model models.\"\n",
    "\n",
    "Steps:\n",
    "\n",
    "1. Import Pipeline, grid search, transformers, and estimators <Not shown below>\n",
    "2. Define pipeline\n",
    "3. Define parameters to test in the form: \"(Step name)__(argument name)\" A double underscore separates the two words.\n",
    "4. Define grid search\n",
    "5. Fit to grid search"
   ]
  },
  {
   "cell_type": "code",
   "execution_count": 281,
   "metadata": {
    "collapsed": false
   },
   "outputs": [
    {
     "data": {
      "image/png": "[encoded data removed]",
      "text/plain": [
       "<matplotlib.figure.Figure at 0x1063bd7d0>"
      ]
     },
     "metadata": {},
     "output_type": "display_data"
    },
    {
     "data": {
      "image/png": "[encoded data removed]",
      "text/plain": [
       "<matplotlib.figure.Figure at 0x1064c3e10>"
      ]
     },
     "metadata": {},
     "output_type": "display_data"
    },
    {
     "data": {
      "image/png": "[encoded data removed]",
      "text/plain": [
       "<matplotlib.figure.Figure at 0x106689cd0>"
      ]
     },
     "metadata": {},
     "output_type": "display_data"
    },
    {
     "data": {
      "image/png": "[encoded data removed]",
      "text/plain": [
       "<matplotlib.figure.Figure at 0x105ad3a50>"
      ]
     },
     "metadata": {},
     "output_type": "display_data"
    },
    {
     "data": {
      "image/png": "[encoded data removed]",
      "text/plain": [
       "<matplotlib.figure.Figure at 0x1063bd7d0>"
      ]
     },
     "metadata": {},
     "output_type": "display_data"
    },
    {
     "data": {
      "image/png": "[encoded data removed]",
      "text/plain": [
       "<matplotlib.figure.Figure at 0x1064eb650>"
      ]
     },
     "metadata": {},
     "output_type": "display_data"
    },
    {
     "data": {
      "text/html": [
       "<div>\n",
       "<table border=\"1\" class=\"dataframe\">\n",
       "  <thead>\n",
       "    <tr style=\"text-align: right;\">\n",
       "      <th></th>\n",
       "      <th>pca__k</th>\n",
       "      <th>rf__max_depth</th>\n",
       "      <th>rf__min_rows</th>\n",
       "      <th>rf__ntrees</th>\n",
       "      <th>score</th>\n",
       "      <th>standardize__center</th>\n",
       "      <th>standardize__scale</th>\n",
       "      <th>std</th>\n",
       "    </tr>\n",
       "  </thead>\n",
       "  <tbody>\n",
       "    <tr>\n",
       "      <th>12</th>\n",
       "      <td>5</td>\n",
       "      <td>8</td>\n",
       "      <td>6</td>\n",
       "      <td>59</td>\n",
       "      <td>0.380034</td>\n",
       "      <td>False</td>\n",
       "      <td>False</td>\n",
       "      <td>0.105237</td>\n",
       "    </tr>\n",
       "    <tr>\n",
       "      <th>19</th>\n",
       "      <td>5</td>\n",
       "      <td>9</td>\n",
       "      <td>7</td>\n",
       "      <td>60</td>\n",
       "      <td>0.349154</td>\n",
       "      <td>True</td>\n",
       "      <td>True</td>\n",
       "      <td>0.106064</td>\n",
       "    </tr>\n",
       "    <tr>\n",
       "      <th>18</th>\n",
       "      <td>5</td>\n",
       "      <td>8</td>\n",
       "      <td>9</td>\n",
       "      <td>77</td>\n",
       "      <td>0.346162</td>\n",
       "      <td>False</td>\n",
       "      <td>True</td>\n",
       "      <td>0.110538</td>\n",
       "    </tr>\n",
       "    <tr>\n",
       "      <th>14</th>\n",
       "      <td>5</td>\n",
       "      <td>5</td>\n",
       "      <td>7</td>\n",
       "      <td>63</td>\n",
       "      <td>0.343851</td>\n",
       "      <td>False</td>\n",
       "      <td>False</td>\n",
       "      <td>0.100343</td>\n",
       "    </tr>\n",
       "    <tr>\n",
       "      <th>8</th>\n",
       "      <td>3</td>\n",
       "      <td>7</td>\n",
       "      <td>5</td>\n",
       "      <td>70</td>\n",
       "      <td>0.343392</td>\n",
       "      <td>False</td>\n",
       "      <td>False</td>\n",
       "      <td>0.120655</td>\n",
       "    </tr>\n",
       "  </tbody>\n",
       "</table>\n",
       "</div>"
      ],
      "text/plain": [
       "    pca__k  rf__max_depth  rf__min_rows  rf__ntrees     score  \\\n",
       "12       5              8             6          59  0.380034   \n",
       "19       5              9             7          60  0.349154   \n",
       "18       5              8             9          77  0.346162   \n",
       "14       5              5             7          63  0.343851   \n",
       "8        3              7             5          70  0.343392   \n",
       "\n",
       "   standardize__center standardize__scale       std  \n",
       "12               False              False  0.105237  \n",
       "19                True               True  0.106064  \n",
       "18               False               True  0.110538  \n",
       "14               False              False  0.100343  \n",
       "8                False              False  0.120655  "
      ]
     },
     "execution_count": 281,
     "metadata": {},
     "output_type": "execute_result"
    }
   ],
   "source": [
    "pipe = Pipeline([(\"standardize\", H2OScaler()),\n",
    "                 (\"pca\", H2OPCA()),\n",
    "                 (\"rf\", H2ORandomForestEstimator(seed=42))])\n",
    "\n",
    "params = {\"standardize__center\":    [True, False],           # Parameters to test\n",
    "          \"standardize__scale\":     [True, False],\n",
    "          \"pca__k\":                 randint(2, 6),\n",
    "          \"rf__ntrees\":             randint(50,80),\n",
    "          \"rf__max_depth\":          randint(4,10),\n",
    "          \"rf__min_rows\":           randint(5,10), }\n",
    "#           \"rf__mtries\":             randint(1,4),}           # gridding over mtries is \n",
    "                                                               # problematic with pca grid over \n",
    "                                                               # k above \n",
    "\n",
    "from sklearn.grid_search import RandomizedSearchCV\n",
    "from h2o.cross_validation import H2OKFold\n",
    "from h2o.model.regression import h2o_r2_score\n",
    "from sklearn.metrics.scorer import make_scorer\n",
    "\n",
    "custom_cv = H2OKFold(fr, n_folds=5, seed=42)\n",
    "random_search = RandomizedSearchCV(pipe, params,\n",
    "                                   n_iter=30,\n",
    "                                   scoring=make_scorer(h2o_r2_score),\n",
    "                                   cv=custom_cv,\n",
    "                                   random_state=42,\n",
    "                                   n_jobs=1)\n",
    "\n",
    "\n",
    "random_search.fit(fr[x],fr[y])\n",
    "results = report_grid_score_detail(random_search)\n",
    "results.head()"
   ]
  },
  {
   "cell_type": "markdown",
   "metadata": {},
   "source": [
    "Currently Under Development (drop-in scikit-learn pieces):\n",
    "    * Richer set of transforms (only PCA and Scale are implemented)\n",
    "    * Richer set of estimators (only RandomForest is available)\n",
    "    * Full H2O Grid Search"
   ]
  },
  {
   "cell_type": "markdown",
   "metadata": {},
   "source": [
    "### Other Tips: Model Save/Load"
   ]
  },
  {
   "cell_type": "markdown",
   "metadata": {},
   "source": [
    "It is useful to save constructed models to disk and reload them between H2O sessions. Here's how:"
   ]
  },
  {
   "cell_type": "code",
   "execution_count": 282,
   "metadata": {
    "collapsed": true
   },
   "outputs": [],
   "source": [
    "best_estimator = random_search.best_estimator_                        # fetch the pipeline from the grid search\n",
    "h2o_model      = h2o.get_model(best_estimator._final_estimator._id)    # fetch the model from the pipeline"
   ]
  },
  {
   "cell_type": "code",
   "execution_count": 283,
   "metadata": {
    "collapsed": false
   },
   "outputs": [
    {
     "name": "stdout",
     "output_type": "stream",
     "text": [
      "/Users/ludirehak/h2o-3/DRF_model_python_1446227466951_5020\n"
     ]
    }
   ],
   "source": [
    "save_path = h2o.save_model(h2o_model, path=\".\", force=True)\n",
    "print save_path"
   ]
  },
  {
   "cell_type": "code",
   "execution_count": 284,
   "metadata": {
    "collapsed": true
   },
   "outputs": [],
   "source": [
    "# assumes new session\n",
    "my_model = h2o.load_model(path=save_path)"
   ]
  },
  {
   "cell_type": "code",
   "execution_count": 285,
   "metadata": {
    "collapsed": false
   },
   "outputs": [
    {
     "data": {
      "text/html": [
       "<table>\n",
       "<tr><th style=\"text-align: right;\">  predict</th></tr>\n",
       "<tr><td style=\"text-align: right;\">  15.7989</td></tr>\n",
       "<tr><td style=\"text-align: right;\">  23.8164</td></tr>\n",
       "<tr><td style=\"text-align: right;\">  30.0512</td></tr>\n",
       "<tr><td style=\"text-align: right;\">  24.7617</td></tr>\n",
       "<tr><td style=\"text-align: right;\">  25.8151</td></tr>\n",
       "<tr><td style=\"text-align: right;\">  23.8744</td></tr>\n",
       "<tr><td style=\"text-align: right;\">  24.1909</td></tr>\n",
       "<tr><td style=\"text-align: right;\">  29.2313</td></tr>\n",
       "<tr><td style=\"text-align: right;\">  20.0501</td></tr>\n",
       "<tr><td style=\"text-align: right;\">  24.7617</td></tr>\n",
       "</table>"
      ]
     },
     "metadata": {},
     "output_type": "display_data"
    },
    {
     "data": {
      "text/plain": []
     },
     "execution_count": 285,
     "metadata": {},
     "output_type": "execute_result"
    }
   ],
   "source": [
    "my_model.predict(X_test_norm_pca)"
   ]
  }
 ],
 "metadata": {
  "kernelspec": {
   "display_name": "Python 2",
   "language": "python",
   "name": "python2"
  },
  "language_info": {
   "codemirror_mode": {
    "name": "ipython",
    "version": 2
   },
   "file_extension": ".py",
   "mimetype": "text/x-python",
   "name": "python",
   "nbconvert_exporter": "python",
   "pygments_lexer": "ipython2",
   "version": "2.7.5"
  }
 },
 "nbformat": 4,
 "nbformat_minor": 0
}
