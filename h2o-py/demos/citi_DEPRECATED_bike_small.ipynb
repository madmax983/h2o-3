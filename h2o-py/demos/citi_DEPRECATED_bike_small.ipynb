{
 "metadata": {
  "kernelspec": {
   "display_name": "Python 2",
   "language": "python",
   "name": "python2"
  },
  "language_info": {
   "codemirror_mode": {
    "name": "ipython",
    "version": 2
   },
   "file_extension": ".py",
   "mimetype": "text/x-python",
   "name": "python",
   "nbconvert_exporter": "python",
   "pygments_lexer": "ipython2",
   "version": "2.7.9"
  },
  "name": "",
  "signature": "sha256:ec5ae717d5f7594ded2009eb501afd8ac560bd9af3a04c0cc4efbe71e3f3e9da"
 },
 "nbformat": 3,
 "nbformat_minor": 0,
 "worksheets": [
  {
   "cells": [
    {
     "cell_type": "code",
     "collapsed": false,
     "input": [
      "import h2o\n",
      "import time"
     ],
     "language": "python",
     "metadata": {
      "scrolled": true
     },
     "outputs": [],
     "prompt_number": 5
    },
    {
     "cell_type": "code",
     "collapsed": false,
     "input": [
      "# Explore a typical Data Science workflow with H2O and Python\n",
      "#\n",
      "# Goal: assist the manager of CitiBike of NYC to load-balance the bicycles\n",
      "# across the CitiBike network of stations, by predicting the number of bike\n",
      "# trips taken from the station every day.  Use 10 million rows of historical\n",
      "# data, and eventually add weather data.\n",
      "\n",
      "\n",
      "# Connect to a cluster\n",
      "h2o.init()"
     ],
     "language": "python",
     "metadata": {},
     "outputs": [
      {
       "html": [
        "<div style=\"overflow:auto\"><table style=\"width:50%\"><tr><td>H2O cluster uptime: </td>\n",
        "<td>47 seconds 97 milliseconds </td></tr>\n",
        "<tr><td>H2O cluster version: </td>\n",
        "<td>3.5.0.99999</td></tr>\n",
        "<tr><td>H2O cluster name: </td>\n",
        "<td>ece</td></tr>\n",
        "<tr><td>H2O cluster total nodes: </td>\n",
        "<td>1</td></tr>\n",
        "<tr><td>H2O cluster total memory: </td>\n",
        "<td>10.67 GB</td></tr>\n",
        "<tr><td>H2O cluster total cores: </td>\n",
        "<td>8</td></tr>\n",
        "<tr><td>H2O cluster allowed cores: </td>\n",
        "<td>8</td></tr>\n",
        "<tr><td>H2O cluster healthy: </td>\n",
        "<td>True</td></tr>\n",
        "<tr><td>H2O Connection ip: </td>\n",
        "<td>127.0.0.1</td></tr>\n",
        "<tr><td>H2O Connection port: </td>\n",
        "<td>54321</td></tr></table></div>"
       ],
       "metadata": {},
       "output_type": "display_data",
       "text": [
        "--------------------------  --------------------------\n",
        "H2O cluster uptime:         47 seconds 97 milliseconds\n",
        "H2O cluster version:        3.5.0.99999\n",
        "H2O cluster name:           ece\n",
        "H2O cluster total nodes:    1\n",
        "H2O cluster total memory:   10.67 GB\n",
        "H2O cluster total cores:    8\n",
        "H2O cluster allowed cores:  8\n",
        "H2O cluster healthy:        True\n",
        "H2O Connection ip:          127.0.0.1\n",
        "H2O Connection port:        54321\n",
        "--------------------------  --------------------------"
       ]
      }
     ],
     "prompt_number": 6
    },
    {
     "cell_type": "code",
     "collapsed": false,
     "input": [
      "from h2o.h2o import _locate # private function. used to find files within h2o git project directory.\n",
      "\n",
      "# Set this to True if you want to fetch the data directly from S3.\n",
      "# This is useful if your cluster is running in EC2.\n",
      "data_source_is_s3 = False\n",
      "\n",
      "def mylocate(s):\n",
      "    if data_source_is_s3:\n",
      "        return \"s3n://h2o-public-test-data/\" + s\n",
      "    else:\n",
      "        return _locate(s)"
     ],
     "language": "python",
     "metadata": {},
     "outputs": [],
     "prompt_number": 7
    },
    {
     "cell_type": "code",
     "collapsed": false,
     "input": [
      "# Pick either the big or the small demo.\n",
      "# Big data is 10M rows\n",
      "small_test = [mylocate(\"bigdata/laptop/citibike-nyc/2013-10.csv\")]\n",
      "big_test =   [mylocate(\"bigdata/laptop/citibike-nyc/2013-07.csv\"),\n",
      "              mylocate(\"bigdata/laptop/citibike-nyc/2013-08.csv\"),\n",
      "              mylocate(\"bigdata/laptop/citibike-nyc/2013-09.csv\"),\n",
      "              mylocate(\"bigdata/laptop/citibike-nyc/2013-10.csv\"),\n",
      "              mylocate(\"bigdata/laptop/citibike-nyc/2013-11.csv\"),\n",
      "              mylocate(\"bigdata/laptop/citibike-nyc/2013-12.csv\"),\n",
      "              mylocate(\"bigdata/laptop/citibike-nyc/2014-01.csv\"),\n",
      "              mylocate(\"bigdata/laptop/citibike-nyc/2014-02.csv\"),\n",
      "              mylocate(\"bigdata/laptop/citibike-nyc/2014-03.csv\"),\n",
      "              mylocate(\"bigdata/laptop/citibike-nyc/2014-04.csv\"),\n",
      "              mylocate(\"bigdata/laptop/citibike-nyc/2014-05.csv\"),\n",
      "              mylocate(\"bigdata/laptop/citibike-nyc/2014-06.csv\"),\n",
      "              mylocate(\"bigdata/laptop/citibike-nyc/2014-07.csv\"),\n",
      "              mylocate(\"bigdata/laptop/citibike-nyc/2014-08.csv\")]\n",
      "\n",
      "# ----------\n",
      "\n",
      "# 1- Load data - 1 row per bicycle trip.  Has columns showing the start and end\n",
      "# station, trip duration and trip start time and day.  The larger dataset\n",
      "# totals about 10 million rows\n",
      "print \"Import and Parse bike data\"\n",
      "data = h2o.import_file(path=small_test)"
     ],
     "language": "python",
     "metadata": {},
     "outputs": [
      {
       "output_type": "stream",
       "stream": "stdout",
       "text": [
        "Import and Parse bike data\n",
        "\n"
       ]
      },
      {
       "output_type": "stream",
       "stream": "stdout",
       "text": [
        "\r",
        "Parse Progress: [                                                  ] 00%"
       ]
      },
      {
       "output_type": "stream",
       "stream": "stdout",
       "text": [
        "\r",
        "Parse Progress: [                                                  ] 00%"
       ]
      },
      {
       "output_type": "stream",
       "stream": "stdout",
       "text": [
        "\r",
        "Parse Progress: [                                                  ] 00%"
       ]
      },
      {
       "output_type": "stream",
       "stream": "stdout",
       "text": [
        "\r",
        "Parse Progress: [                                                  ] 00%"
       ]
      },
      {
       "output_type": "stream",
       "stream": "stdout",
       "text": [
        "\r",
        "Parse Progress: [#######                                           ] 15%"
       ]
      },
      {
       "output_type": "stream",
       "stream": "stdout",
       "text": [
        "\r",
        "Parse Progress: [##############################                    ] 60%"
       ]
      },
      {
       "output_type": "stream",
       "stream": "stdout",
       "text": [
        "\r",
        "Parse Progress: [##################################################] 100%"
       ]
      },
      {
       "output_type": "stream",
       "stream": "stdout",
       "text": [
        "\n",
        "\n",
        "Parsed 1,037,712 rows and 15 cols:\n",
        "\n"
       ]
      },
      {
       "html": [
        "<div style=\"overflow:auto\"><table style=\"width:50%\"><tr><td>File1</td>\n",
        "<td>/Users/ece/0xdata/h2o-dev/bigdata/laptop/citibike-nyc/2013-10.csv</td></tr></table></div>"
       ],
       "metadata": {},
       "output_type": "display_data",
       "text": [
        "-----  -----------------------------------------------------------------\n",
        "File1  /Users/ece/0xdata/h2o-dev/bigdata/laptop/citibike-nyc/2013-10.csv\n",
        "-----  -----------------------------------------------------------------"
       ]
      }
     ],
     "prompt_number": 8
    },
    {
     "cell_type": "code",
     "collapsed": false,
     "input": [
      "# ----------\n",
      "\n",
      "# 2- light data munging: group the bike starts per-day, converting the 10M rows\n",
      "# of trips to about 140,000 station&day combos - predicting the number of trip\n",
      "# starts per-station-per-day.\n",
      "\n",
      "# Convert start time to: Day since the Epoch\n",
      "startime = data[\"starttime\"]\n",
      "secsPerDay=1000*60*60*24\n",
      "data[\"Days\"] = (startime/secsPerDay).floor()\n",
      "data.describe()"
     ],
     "language": "python",
     "metadata": {},
     "outputs": [
      {
       "output_type": "stream",
       "stream": "stdout",
       "text": [
        "Rows: 1,037,712 Cols: 16\n",
        "\n",
        "Chunk compression summary:\n"
       ]
      },
      {
       "html": [
        "<div style=\"overflow:auto\"><table style=\"width:50%\"><tr><td>chunk_type</td>\n",
        "<td>chunk_name</td>\n",
        "<td>count</td>\n",
        "<td>count_percentage</td>\n",
        "<td>size</td>\n",
        "<td>size_percentage</td></tr>\n",
        "<tr><td>C0L</td>\n",
        "<td>Constant Integers</td>\n",
        "<td>17</td>\n",
        "<td>2.2135415</td>\n",
        "<td>    1.3 KB</td>\n",
        "<td>0.0022871785</td></tr>\n",
        "<tr><td>C1</td>\n",
        "<td>1-Byte Integers</td>\n",
        "<td>48</td>\n",
        "<td>6.25</td>\n",
        "<td> 1016.6 KB</td>\n",
        "<td>1.7506603</td></tr>\n",
        "<tr><td>C1N</td>\n",
        "<td>1-Byte Integers (w/o NAs)</td>\n",
        "<td>48</td>\n",
        "<td>6.25</td>\n",
        "<td> 1016.6 KB</td>\n",
        "<td>1.7506603</td></tr>\n",
        "<tr><td>C1S</td>\n",
        "<td>1-Byte Fractions</td>\n",
        "<td>79</td>\n",
        "<td>10.286459</td>\n",
        "<td>    1.6 MB</td>\n",
        "<td>2.8878725</td></tr>\n",
        "<tr><td>C2</td>\n",
        "<td>2-Byte Integers</td>\n",
        "<td>243</td>\n",
        "<td>31.640625</td>\n",
        "<td>   10.0 MB</td>\n",
        "<td>17.696283</td></tr>\n",
        "<tr><td>C2S</td>\n",
        "<td>2-Byte Fractions</td>\n",
        "<td>49</td>\n",
        "<td>6.3802085</td>\n",
        "<td>    2.0 MB</td>\n",
        "<td>3.5701983</td></tr>\n",
        "<tr><td>C4</td>\n",
        "<td>4-Byte Integers</td>\n",
        "<td>32</td>\n",
        "<td>4.166667</td>\n",
        "<td>    2.6 MB</td>\n",
        "<td>4.6726856</td></tr>\n",
        "<tr><td>C4S</td>\n",
        "<td>4-Byte Fractions</td>\n",
        "<td>39</td>\n",
        "<td>5.078125</td>\n",
        "<td>    3.2 MB</td>\n",
        "<td>5.6373096</td></tr>\n",
        "<tr><td>C8</td>\n",
        "<td>64-bit Integers</td>\n",
        "<td>60</td>\n",
        "<td>7.8125</td>\n",
        "<td>    9.9 MB</td>\n",
        "<td>17.432673</td></tr>\n",
        "<tr><td>C8D</td>\n",
        "<td>64-bit Reals</td>\n",
        "<td>153</td>\n",
        "<td>19.921875</td>\n",
        "<td>   25.3 MB</td>\n",
        "<td>44.59937</td></tr></table></div>"
       ],
       "metadata": {},
       "output_type": "display_data",
       "text": [
        "chunk_type    chunk_name                 count    count_percentage    size       size_percentage\n",
        "------------  -------------------------  -------  ------------------  ---------  -----------------\n",
        "C0L           Constant Integers          17       2.21354             1.3 KB     0.00228718\n",
        "C1            1-Byte Integers            48       6.25                1016.6 KB  1.75066\n",
        "C1N           1-Byte Integers (w/o NAs)  48       6.25                1016.6 KB  1.75066\n",
        "C1S           1-Byte Fractions           79       10.2865             1.6 MB     2.88787\n",
        "C2            2-Byte Integers            243      31.6406             10.0 MB    17.6963\n",
        "C2S           2-Byte Fractions           49       6.38021             2.0 MB     3.5702\n",
        "C4            4-Byte Integers            32       4.16667             2.6 MB     4.67269\n",
        "C4S           4-Byte Fractions           39       5.07812             3.2 MB     5.63731\n",
        "C8            64-bit Integers            60       7.8125              9.9 MB     17.4327\n",
        "C8D           64-bit Reals               153      19.9219             25.3 MB    44.5994"
       ]
      },
      {
       "output_type": "stream",
       "stream": "stdout",
       "text": [
        "\n",
        "Frame distribution summary:\n"
       ]
      },
      {
       "html": [
        "<div style=\"overflow:auto\"><table style=\"width:50%\"><tr><td></td>\n",
        "<td>size</td>\n",
        "<td>number_of_rows</td>\n",
        "<td>number_of_chunks_per_column</td>\n",
        "<td>number_of_chunks</td></tr>\n",
        "<tr><td>10.0.0.24:54321</td>\n",
        "<td>   56.7 MB</td>\n",
        "<td>1037712.0</td>\n",
        "<td>48.0</td>\n",
        "<td>768.0</td></tr>\n",
        "<tr><td>mean</td>\n",
        "<td>   56.7 MB</td>\n",
        "<td>1037712.0</td>\n",
        "<td>48.0</td>\n",
        "<td>768.0</td></tr>\n",
        "<tr><td>min</td>\n",
        "<td>   56.7 MB</td>\n",
        "<td>1037712.0</td>\n",
        "<td>48.0</td>\n",
        "<td>768.0</td></tr>\n",
        "<tr><td>max</td>\n",
        "<td>   56.7 MB</td>\n",
        "<td>1037712.0</td>\n",
        "<td>48.0</td>\n",
        "<td>768.0</td></tr>\n",
        "<tr><td>stddev</td>\n",
        "<td>      0  B</td>\n",
        "<td>0.0</td>\n",
        "<td>0.0</td>\n",
        "<td>0.0</td></tr>\n",
        "<tr><td>total</td>\n",
        "<td>   56.7 MB</td>\n",
        "<td>1037712.0</td>\n",
        "<td>48.0</td>\n",
        "<td>768.0</td></tr></table></div>"
       ],
       "metadata": {},
       "output_type": "display_data",
       "text": [
        "                 size     number_of_rows    number_of_chunks_per_column    number_of_chunks\n",
        "---------------  -------  ----------------  -----------------------------  ------------------\n",
        "10.0.0.24:54321  56.7 MB  1.03771e+06       48                             768\n",
        "mean             56.7 MB  1.03771e+06       48                             768\n",
        "min              56.7 MB  1.03771e+06       48                             768\n",
        "max              56.7 MB  1.03771e+06       48                             768\n",
        "stddev           0  B     0                 0                              0\n",
        "total            56.7 MB  1.03771e+06       48                             768"
       ]
      },
      {
       "output_type": "stream",
       "stream": "stdout",
       "text": [
        "\n",
        "Column-by-Column Summary:\n",
        "\n"
       ]
      },
      {
       "html": [
        "<div style=\"overflow:auto\"><table style=\"width:50%\"><tr><td></td>\n",
        "<td>tripduration</td>\n",
        "<td>starttime</td>\n",
        "<td>stoptime</td>\n",
        "<td>start station id</td>\n",
        "<td>start station name</td>\n",
        "<td>start station latitude</td>\n",
        "<td>start station longitude</td>\n",
        "<td>end station id</td>\n",
        "<td>end station name</td>\n",
        "<td>end station latitude</td>\n",
        "<td>end station longitude</td>\n",
        "<td>bikeid</td>\n",
        "<td>usertype</td>\n",
        "<td>birth year</td>\n",
        "<td>gender</td>\n",
        "<td>Days</td></tr>\n",
        "<tr><td>type</td>\n",
        "<td>int</td>\n",
        "<td>time</td>\n",
        "<td>time</td>\n",
        "<td>int</td>\n",
        "<td>enum</td>\n",
        "<td>real</td>\n",
        "<td>real</td>\n",
        "<td>int</td>\n",
        "<td>enum</td>\n",
        "<td>real</td>\n",
        "<td>real</td>\n",
        "<td>int</td>\n",
        "<td>enum</td>\n",
        "<td>int</td>\n",
        "<td>int</td>\n",
        "<td>int</td></tr>\n",
        "<tr><td>mins</td>\n",
        "<td>60.0</td>\n",
        "<td>1.380610868e+12</td>\n",
        "<td>1.380611083e+12</td>\n",
        "<td>72.0</td>\n",
        "<td>0.0</td>\n",
        "<td>40.680342423</td>\n",
        "<td>-74.01713445</td>\n",
        "<td>72.0</td>\n",
        "<td>0.0</td>\n",
        "<td>40.680342423</td>\n",
        "<td>-74.01713445</td>\n",
        "<td>14529.0</td>\n",
        "<td>0.0</td>\n",
        "<td>1899.0</td>\n",
        "<td>0.0</td>\n",
        "<td>15979.0</td></tr>\n",
        "<tr><td>maxs</td>\n",
        "<td>1259480.0</td>\n",
        "<td>1.383289197e+12</td>\n",
        "<td>1.38341851e+12</td>\n",
        "<td>3002.0</td>\n",
        "<td>329.0</td>\n",
        "<td>40.770513</td>\n",
        "<td>-73.9500479759</td>\n",
        "<td>3002.0</td>\n",
        "<td>329.0</td>\n",
        "<td>40.770513</td>\n",
        "<td>-73.9500479759</td>\n",
        "<td>20757.0</td>\n",
        "<td>1.0</td>\n",
        "<td>1997.0</td>\n",
        "<td>2.0</td>\n",
        "<td>16010.0</td></tr>\n",
        "<tr><td>mean</td>\n",
        "<td>825.614754383</td>\n",
        "<td>1.38191371692e+12</td>\n",
        "<td>1.38191454253e+12</td>\n",
        "<td>443.714212614</td>\n",
        "<td>NaN</td>\n",
        "<td>40.7345188586</td>\n",
        "<td>-73.9911328848</td>\n",
        "<td>443.207421712</td>\n",
        "<td>NaN</td>\n",
        "<td>40.7342847885</td>\n",
        "<td>-73.9912702982</td>\n",
        "<td>17644.0716451</td>\n",
        "<td>0.906095332809</td>\n",
        "<td>1975.77839486</td>\n",
        "<td>1.12375591686</td>\n",
        "<td>15993.8523906</td></tr>\n",
        "<tr><td>sigma</td>\n",
        "<td>2000.3732323</td>\n",
        "<td>778871729.132</td>\n",
        "<td>778847387.503</td>\n",
        "<td>354.434325075</td>\n",
        "<td>NaN</td>\n",
        "<td>0.0195734073053</td>\n",
        "<td>0.0123161234106</td>\n",
        "<td>357.398217058</td>\n",
        "<td>NaN</td>\n",
        "<td>0.0195578458116</td>\n",
        "<td>0.0123855811965</td>\n",
        "<td>1717.68112134</td>\n",
        "<td>0.291696182123</td>\n",
        "<td>11.1314906238</td>\n",
        "<td>0.544380593291</td>\n",
        "<td>9.02215033588</td></tr>\n",
        "<tr><td>zero_count</td>\n",
        "<td>0</td>\n",
        "<td>0</td>\n",
        "<td>0</td>\n",
        "<td>0</td>\n",
        "<td>5239</td>\n",
        "<td>0</td>\n",
        "<td>0</td>\n",
        "<td>0</td>\n",
        "<td>5449</td>\n",
        "<td>0</td>\n",
        "<td>0</td>\n",
        "<td>0</td>\n",
        "<td>97446</td>\n",
        "<td>0</td>\n",
        "<td>97498</td>\n",
        "<td>0</td></tr>\n",
        "<tr><td>missing_count</td>\n",
        "<td>0</td>\n",
        "<td>0</td>\n",
        "<td>0</td>\n",
        "<td>0</td>\n",
        "<td>0</td>\n",
        "<td>0</td>\n",
        "<td>0</td>\n",
        "<td>0</td>\n",
        "<td>0</td>\n",
        "<td>0</td>\n",
        "<td>0</td>\n",
        "<td>0</td>\n",
        "<td>0</td>\n",
        "<td>97445</td>\n",
        "<td>0</td>\n",
        "<td>0</td></tr></table></div>"
       ],
       "metadata": {},
       "output_type": "display_data",
       "text": [
        "               tripduration    starttime          stoptime           start station id    start station name    start station latitude    start station longitude    end station id    end station name    end station latitude    end station longitude    bikeid         usertype        birth year     gender          Days\n",
        "-------------  --------------  -----------------  -----------------  ------------------  --------------------  ------------------------  -------------------------  ----------------  ------------------  ----------------------  -----------------------  -------------  --------------  -------------  --------------  -------------\n",
        "type           int             time               time               int                 enum                  real                      real                       int               enum                real                    real                     int            enum            int            int             int\n",
        "mins           60.0            1.380610868e+12    1.380611083e+12    72.0                0.0                   40.680342423              -74.01713445               72.0              0.0                 40.680342423            -74.01713445             14529.0        0.0             1899.0         0.0             15979.0\n",
        "maxs           1259480.0       1.383289197e+12    1.38341851e+12     3002.0              329.0                 40.770513                 -73.9500479759             3002.0            329.0               40.770513               -73.9500479759           20757.0        1.0             1997.0         2.0             16010.0\n",
        "mean           825.614754383   1.38191371692e+12  1.38191454253e+12  443.714212614       NaN                   40.7345188586             -73.9911328848             443.207421712     NaN                 40.7342847885           -73.9912702982           17644.0716451  0.906095332809  1975.77839486  1.12375591686   15993.8523906\n",
        "sigma          2000.3732323    778871729.132      778847387.503      354.434325075       NaN                   0.0195734073053           0.0123161234106            357.398217058     NaN                 0.0195578458116         0.0123855811965          1717.68112134  0.291696182123  11.1314906238  0.544380593291  9.02215033588\n",
        "zero_count     0               0                  0                  0                   5239                  0                         0                          0                 5449                0                       0                        0              97446           0              97498           0\n",
        "missing_count  0               0                  0                  0                   0                     0                         0                          0                 0                   0                       0                        0              0               97445          0               0"
       ]
      }
     ],
     "prompt_number": 9
    },
    {
     "cell_type": "code",
     "collapsed": false,
     "input": [
      "# Now do a monster Group-By.  Count bike starts per-station per-day.  Ends up\n",
      "# with about 340 stations times 400 days (140,000 rows).  This is what we want\n",
      "# to predict.\n",
      "grouped = data.group_by([\"Days\",\"start station name\"])\n",
      "bpd = grouped.count().get_frame() # Compute bikes-per-day\n",
      "bpd.set_name(2,\"bikes\")\n",
      "bpd.show()\n",
      "bpd.describe()\n",
      "bpd.dim"
     ],
     "language": "python",
     "metadata": {},
     "outputs": [
      {
       "output_type": "stream",
       "stream": "stdout",
       "text": [
        "H2OFrame with 10450 rows and 3 columns: \n"
       ]
      },
      {
       "html": [
        "<div style=\"max-width:1500px;overflow:auto;\">\n",
        "<table border=\"1\" class=\"dataframe\">\n",
        "  <thead>\n",
        "    <tr style=\"text-align: right;\">\n",
        "      <th></th>\n",
        "      <th>Days</th>\n",
        "      <th>start station name</th>\n",
        "      <th>bikes</th>\n",
        "    </tr>\n",
        "  </thead>\n",
        "  <tbody>\n",
        "    <tr>\n",
        "      <th>0</th>\n",
        "      <td>15980</td>\n",
        "      <td>9 Ave &amp; W 18 St</td>\n",
        "      <td>137</td>\n",
        "    </tr>\n",
        "    <tr>\n",
        "      <th>1</th>\n",
        "      <td>15989</td>\n",
        "      <td>Allen St &amp; Hester St</td>\n",
        "      <td>110</td>\n",
        "    </tr>\n",
        "    <tr>\n",
        "      <th>2</th>\n",
        "      <td>16003</td>\n",
        "      <td>Centre St &amp; Chambers St</td>\n",
        "      <td>142</td>\n",
        "    </tr>\n",
        "    <tr>\n",
        "      <th>3</th>\n",
        "      <td>15995</td>\n",
        "      <td>Concord St &amp; Bridge St</td>\n",
        "      <td>21</td>\n",
        "    </tr>\n",
        "    <tr>\n",
        "      <th>4</th>\n",
        "      <td>15987</td>\n",
        "      <td>E 14 St &amp; Avenue B</td>\n",
        "      <td>113</td>\n",
        "    </tr>\n",
        "    <tr>\n",
        "      <th>5</th>\n",
        "      <td>16005</td>\n",
        "      <td>8 Ave &amp; W 52 St</td>\n",
        "      <td>129</td>\n",
        "    </tr>\n",
        "    <tr>\n",
        "      <th>6</th>\n",
        "      <td>16009</td>\n",
        "      <td>South St &amp; Whitehall St</td>\n",
        "      <td>70</td>\n",
        "    </tr>\n",
        "    <tr>\n",
        "      <th>7</th>\n",
        "      <td>15989</td>\n",
        "      <td>Pike St &amp; E Broadway</td>\n",
        "      <td>55</td>\n",
        "    </tr>\n",
        "    <tr>\n",
        "      <th>8</th>\n",
        "      <td>15991</td>\n",
        "      <td>Watts St &amp; Greenwich St</td>\n",
        "      <td>101</td>\n",
        "    </tr>\n",
        "    <tr>\n",
        "      <th>9</th>\n",
        "      <td>15985</td>\n",
        "      <td>Monroe St &amp; Bedford Ave</td>\n",
        "      <td>15</td>\n",
        "    </tr>\n",
        "  </tbody>\n",
        "</table>\n",
        "</div>"
       ],
       "metadata": {},
       "output_type": "display_data",
       "text": [
        "    Days       start station name  bikes\n",
        "0  15980          9 Ave & W 18 St    137\n",
        "1  15989     Allen St & Hester St    110\n",
        "2  16003  Centre St & Chambers St    142\n",
        "3  15995   Concord St & Bridge St     21\n",
        "4  15987       E 14 St & Avenue B    113\n",
        "5  16005          8 Ave & W 52 St    129\n",
        "6  16009  South St & Whitehall St     70\n",
        "7  15989     Pike St & E Broadway     55\n",
        "8  15991  Watts St & Greenwich St    101\n",
        "9  15985  Monroe St & Bedford Ave     15"
       ]
      },
      {
       "output_type": "stream",
       "stream": "stdout",
       "text": [
        "Rows: 10,450 Cols: 3\n",
        "\n",
        "Chunk compression summary:\n"
       ]
      },
      {
       "html": [
        "<div style=\"overflow:auto\"><table style=\"width:50%\"><tr><td>chunk_type</td>\n",
        "<td>chunk_name</td>\n",
        "<td>count</td>\n",
        "<td>count_percentage</td>\n",
        "<td>size</td>\n",
        "<td>size_percentage</td></tr>\n",
        "<tr><td>C1S</td>\n",
        "<td>1-Byte Fractions</td>\n",
        "<td>32</td>\n",
        "<td>33.333336</td>\n",
        "<td>   12.8 KB</td>\n",
        "<td>22.15888</td></tr>\n",
        "<tr><td>C2</td>\n",
        "<td>2-Byte Integers</td>\n",
        "<td>64</td>\n",
        "<td>66.66667</td>\n",
        "<td>   45.1 KB</td>\n",
        "<td>77.84112</td></tr></table></div>"
       ],
       "metadata": {},
       "output_type": "display_data",
       "text": [
        "chunk_type    chunk_name        count    count_percentage    size     size_percentage\n",
        "------------  ----------------  -------  ------------------  -------  -----------------\n",
        "C1S           1-Byte Fractions  32       33.3333             12.8 KB  22.1589\n",
        "C2            2-Byte Integers   64       66.6667             45.1 KB  77.8411"
       ]
      },
      {
       "output_type": "stream",
       "stream": "stdout",
       "text": [
        "\n",
        "Frame distribution summary:\n"
       ]
      },
      {
       "html": [
        "<div style=\"overflow:auto\"><table style=\"width:50%\"><tr><td></td>\n",
        "<td>size</td>\n",
        "<td>number_of_rows</td>\n",
        "<td>number_of_chunks_per_column</td>\n",
        "<td>number_of_chunks</td></tr>\n",
        "<tr><td>10.0.0.24:54321</td>\n",
        "<td>   57.9 KB</td>\n",
        "<td>10450.0</td>\n",
        "<td>32.0</td>\n",
        "<td>96.0</td></tr>\n",
        "<tr><td>mean</td>\n",
        "<td>   57.9 KB</td>\n",
        "<td>10450.0</td>\n",
        "<td>32.0</td>\n",
        "<td>96.0</td></tr>\n",
        "<tr><td>min</td>\n",
        "<td>   57.9 KB</td>\n",
        "<td>10450.0</td>\n",
        "<td>32.0</td>\n",
        "<td>96.0</td></tr>\n",
        "<tr><td>max</td>\n",
        "<td>   57.9 KB</td>\n",
        "<td>10450.0</td>\n",
        "<td>32.0</td>\n",
        "<td>96.0</td></tr>\n",
        "<tr><td>stddev</td>\n",
        "<td>      0  B</td>\n",
        "<td>0.0</td>\n",
        "<td>0.0</td>\n",
        "<td>0.0</td></tr>\n",
        "<tr><td>total</td>\n",
        "<td>   57.9 KB</td>\n",
        "<td>10450.0</td>\n",
        "<td>32.0</td>\n",
        "<td>96.0</td></tr></table></div>"
       ],
       "metadata": {},
       "output_type": "display_data",
       "text": [
        "                 size     number_of_rows    number_of_chunks_per_column    number_of_chunks\n",
        "---------------  -------  ----------------  -----------------------------  ------------------\n",
        "10.0.0.24:54321  57.9 KB  10450             32                             96\n",
        "mean             57.9 KB  10450             32                             96\n",
        "min              57.9 KB  10450             32                             96\n",
        "max              57.9 KB  10450             32                             96\n",
        "stddev           0  B     0                 0                              0\n",
        "total            57.9 KB  10450             32                             96"
       ]
      },
      {
       "output_type": "stream",
       "stream": "stdout",
       "text": [
        "\n",
        "Column-by-Column Summary:\n",
        "\n"
       ]
      },
      {
       "html": [
        "<div style=\"overflow:auto\"><table style=\"width:50%\"><tr><td></td>\n",
        "<td>Days</td>\n",
        "<td>start station name</td>\n",
        "<td>bikes</td></tr>\n",
        "<tr><td>type</td>\n",
        "<td>int</td>\n",
        "<td>enum</td>\n",
        "<td>int</td></tr>\n",
        "<tr><td>mins</td>\n",
        "<td>15979.0</td>\n",
        "<td>0.0</td>\n",
        "<td>1.0</td></tr>\n",
        "<tr><td>maxs</td>\n",
        "<td>16010.0</td>\n",
        "<td>329.0</td>\n",
        "<td>553.0</td></tr>\n",
        "<tr><td>mean</td>\n",
        "<td>15994.4415311</td>\n",
        "<td>NaN</td>\n",
        "<td>99.3025837321</td></tr>\n",
        "<tr><td>sigma</td>\n",
        "<td>9.23370172444</td>\n",
        "<td>NaN</td>\n",
        "<td>72.9721964301</td></tr>\n",
        "<tr><td>zero_count</td>\n",
        "<td>0</td>\n",
        "<td>32</td>\n",
        "<td>0</td></tr>\n",
        "<tr><td>missing_count</td>\n",
        "<td>0</td>\n",
        "<td>0</td>\n",
        "<td>0</td></tr></table></div>"
       ],
       "metadata": {},
       "output_type": "display_data",
       "text": [
        "               Days           start station name    bikes\n",
        "-------------  -------------  --------------------  -------------\n",
        "type           int            enum                  int\n",
        "mins           15979.0        0.0                   1.0\n",
        "maxs           16010.0        329.0                 553.0\n",
        "mean           15994.4415311  NaN                   99.3025837321\n",
        "sigma          9.23370172444  NaN                   72.9721964301\n",
        "zero_count     0              32                    0\n",
        "missing_count  0              0                     0"
       ]
      },
      {
       "metadata": {},
       "output_type": "pyout",
       "prompt_number": 10,
       "text": [
        "[10450, 3]"
       ]
      }
     ],
     "prompt_number": 10
    },
    {
     "cell_type": "code",
     "collapsed": false,
     "input": [
      "# Quantiles: the data is fairly unbalanced; some station/day combos are wildly\n",
      "# more popular than others.\n",
      "print \"Quantiles of bikes-per-day\"\n",
      "bpd[\"bikes\"].quantile().show()"
     ],
     "language": "python",
     "metadata": {},
     "outputs": [
      {
       "output_type": "stream",
       "stream": "stdout",
       "text": [
        "Quantiles of bikes-per-day\n",
        "H2OFrame with 9 rows and 2 columns: "
       ]
      },
      {
       "output_type": "stream",
       "stream": "stdout",
       "text": [
        "\n"
       ]
      },
      {
       "html": [
        "<div style=\"max-width:1500px;overflow:auto;\">\n",
        "<table border=\"1\" class=\"dataframe\">\n",
        "  <thead>\n",
        "    <tr style=\"text-align: right;\">\n",
        "      <th></th>\n",
        "      <th>Probs</th>\n",
        "      <th>bikesQuantiles</th>\n",
        "    </tr>\n",
        "  </thead>\n",
        "  <tbody>\n",
        "    <tr>\n",
        "      <th>0</th>\n",
        "      <td>0.010</td>\n",
        "      <td>4.49</td>\n",
        "    </tr>\n",
        "    <tr>\n",
        "      <th>1</th>\n",
        "      <td>0.100</td>\n",
        "      <td>19.00</td>\n",
        "    </tr>\n",
        "    <tr>\n",
        "      <th>2</th>\n",
        "      <td>0.250</td>\n",
        "      <td>43.00</td>\n",
        "    </tr>\n",
        "    <tr>\n",
        "      <th>3</th>\n",
        "      <td>0.333</td>\n",
        "      <td>57.00</td>\n",
        "    </tr>\n",
        "    <tr>\n",
        "      <th>4</th>\n",
        "      <td>0.500</td>\n",
        "      <td>87.00</td>\n",
        "    </tr>\n",
        "    <tr>\n",
        "      <th>5</th>\n",
        "      <td>0.667</td>\n",
        "      <td>118.00</td>\n",
        "    </tr>\n",
        "    <tr>\n",
        "      <th>6</th>\n",
        "      <td>0.750</td>\n",
        "      <td>137.00</td>\n",
        "    </tr>\n",
        "    <tr>\n",
        "      <th>7</th>\n",
        "      <td>0.900</td>\n",
        "      <td>192.00</td>\n",
        "    </tr>\n",
        "    <tr>\n",
        "      <th>8</th>\n",
        "      <td>0.990</td>\n",
        "      <td>334.51</td>\n",
        "    </tr>\n",
        "  </tbody>\n",
        "</table>\n",
        "</div>"
       ],
       "metadata": {},
       "output_type": "display_data",
       "text": [
        "   Probs  bikesQuantiles\n",
        "0  0.010            4.49\n",
        "1  0.100           19.00\n",
        "2  0.250           43.00\n",
        "3  0.333           57.00\n",
        "4  0.500           87.00\n",
        "5  0.667          118.00\n",
        "6  0.750          137.00\n",
        "7  0.900          192.00\n",
        "8  0.990          334.51"
       ]
      }
     ],
     "prompt_number": 11
    },
    {
     "cell_type": "code",
     "collapsed": false,
     "input": [
      "# A little feature engineering\n",
      "# Add in month-of-year (seasonality; fewer bike rides in winter than summer)\n",
      "secs = bpd[\"Days\"]*secsPerDay\n",
      "bpd[\"Month\"]     = secs.month().asfactor()\n",
      "# Add in day-of-week (work-week; more bike rides on Sunday than Monday)\n",
      "bpd[\"DayOfWeek\"] = secs.dayOfWeek()\n",
      "print \"Bikes-Per-Day\"\n",
      "bpd.describe()"
     ],
     "language": "python",
     "metadata": {},
     "outputs": [
      {
       "output_type": "stream",
       "stream": "stdout",
       "text": [
        "Bikes-Per-Day\n",
        "Rows: 10,450 Cols: 5\n",
        "\n",
        "Chunk compression summary:\n"
       ]
      },
      {
       "html": [
        "<div style=\"overflow:auto\"><table style=\"width:50%\"><tr><td>chunk_type</td>\n",
        "<td>chunk_name</td>\n",
        "<td>count</td>\n",
        "<td>count_percentage</td>\n",
        "<td>size</td>\n",
        "<td>size_percentage</td></tr>\n",
        "<tr><td>CBS</td>\n",
        "<td>Bits</td>\n",
        "<td>32</td>\n",
        "<td>20.0</td>\n",
        "<td>    3.5 KB</td>\n",
        "<td>4.709156</td></tr>\n",
        "<tr><td>C1N</td>\n",
        "<td>1-Byte Integers (w/o NAs)</td>\n",
        "<td>32</td>\n",
        "<td>20.0</td>\n",
        "<td>   12.3 KB</td>\n",
        "<td>16.729826</td></tr>\n",
        "<tr><td>C1S</td>\n",
        "<td>1-Byte Fractions</td>\n",
        "<td>32</td>\n",
        "<td>20.0</td>\n",
        "<td>   12.8 KB</td>\n",
        "<td>17.408241</td></tr>\n",
        "<tr><td>C2</td>\n",
        "<td>2-Byte Integers</td>\n",
        "<td>64</td>\n",
        "<td>40.0</td>\n",
        "<td>   45.1 KB</td>\n",
        "<td>61.152775</td></tr></table></div>"
       ],
       "metadata": {},
       "output_type": "display_data",
       "text": [
        "chunk_type    chunk_name                 count    count_percentage    size     size_percentage\n",
        "------------  -------------------------  -------  ------------------  -------  -----------------\n",
        "CBS           Bits                       32       20                  3.5 KB   4.70916\n",
        "C1N           1-Byte Integers (w/o NAs)  32       20                  12.3 KB  16.7298\n",
        "C1S           1-Byte Fractions           32       20                  12.8 KB  17.4082\n",
        "C2            2-Byte Integers            64       40                  45.1 KB  61.1528"
       ]
      },
      {
       "output_type": "stream",
       "stream": "stdout",
       "text": [
        "\n",
        "Frame distribution summary:\n"
       ]
      },
      {
       "html": [
        "<div style=\"overflow:auto\"><table style=\"width:50%\"><tr><td></td>\n",
        "<td>size</td>\n",
        "<td>number_of_rows</td>\n",
        "<td>number_of_chunks_per_column</td>\n",
        "<td>number_of_chunks</td></tr>\n",
        "<tr><td>10.0.0.24:54321</td>\n",
        "<td>   73.7 KB</td>\n",
        "<td>10450.0</td>\n",
        "<td>32.0</td>\n",
        "<td>160.0</td></tr>\n",
        "<tr><td>mean</td>\n",
        "<td>   73.7 KB</td>\n",
        "<td>10450.0</td>\n",
        "<td>32.0</td>\n",
        "<td>160.0</td></tr>\n",
        "<tr><td>min</td>\n",
        "<td>   73.7 KB</td>\n",
        "<td>10450.0</td>\n",
        "<td>32.0</td>\n",
        "<td>160.0</td></tr>\n",
        "<tr><td>max</td>\n",
        "<td>   73.7 KB</td>\n",
        "<td>10450.0</td>\n",
        "<td>32.0</td>\n",
        "<td>160.0</td></tr>\n",
        "<tr><td>stddev</td>\n",
        "<td>      0  B</td>\n",
        "<td>0.0</td>\n",
        "<td>0.0</td>\n",
        "<td>0.0</td></tr>\n",
        "<tr><td>total</td>\n",
        "<td>   73.7 KB</td>\n",
        "<td>10450.0</td>\n",
        "<td>32.0</td>\n",
        "<td>160.0</td></tr></table></div>"
       ],
       "metadata": {},
       "output_type": "display_data",
       "text": [
        "                 size     number_of_rows    number_of_chunks_per_column    number_of_chunks\n",
        "---------------  -------  ----------------  -----------------------------  ------------------\n",
        "10.0.0.24:54321  73.7 KB  10450             32                             160\n",
        "mean             73.7 KB  10450             32                             160\n",
        "min              73.7 KB  10450             32                             160\n",
        "max              73.7 KB  10450             32                             160\n",
        "stddev           0  B     0                 0                              0\n",
        "total            73.7 KB  10450             32                             160"
       ]
      },
      {
       "output_type": "stream",
       "stream": "stdout",
       "text": [
        "\n",
        "Column-by-Column Summary:\n",
        "\n"
       ]
      },
      {
       "html": [
        "<div style=\"overflow:auto\"><table style=\"width:50%\"><tr><td></td>\n",
        "<td>Days</td>\n",
        "<td>start station name</td>\n",
        "<td>bikes</td>\n",
        "<td>Month</td>\n",
        "<td>DayOfWeek</td></tr>\n",
        "<tr><td>type</td>\n",
        "<td>int</td>\n",
        "<td>enum</td>\n",
        "<td>int</td>\n",
        "<td>enum</td>\n",
        "<td>enum</td></tr>\n",
        "<tr><td>mins</td>\n",
        "<td>15979.0</td>\n",
        "<td>0.0</td>\n",
        "<td>1.0</td>\n",
        "<td>0.0</td>\n",
        "<td>0.0</td></tr>\n",
        "<tr><td>maxs</td>\n",
        "<td>16010.0</td>\n",
        "<td>329.0</td>\n",
        "<td>553.0</td>\n",
        "<td>1.0</td>\n",
        "<td>6.0</td></tr>\n",
        "<tr><td>mean</td>\n",
        "<td>15994.4415311</td>\n",
        "<td>NaN</td>\n",
        "<td>99.3025837321</td>\n",
        "<td>0.968612440191</td>\n",
        "<td>NaN</td></tr>\n",
        "<tr><td>sigma</td>\n",
        "<td>9.23370172444</td>\n",
        "<td>NaN</td>\n",
        "<td>72.9721964301</td>\n",
        "<td>0.174371128617</td>\n",
        "<td>NaN</td></tr>\n",
        "<tr><td>zero_count</td>\n",
        "<td>0</td>\n",
        "<td>32</td>\n",
        "<td>0</td>\n",
        "<td>328</td>\n",
        "<td>1635</td></tr>\n",
        "<tr><td>missing_count</td>\n",
        "<td>0</td>\n",
        "<td>0</td>\n",
        "<td>0</td>\n",
        "<td>0</td>\n",
        "<td>0</td></tr></table></div>"
       ],
       "metadata": {},
       "output_type": "display_data",
       "text": [
        "               Days           start station name    bikes          Month           DayOfWeek\n",
        "-------------  -------------  --------------------  -------------  --------------  -----------\n",
        "type           int            enum                  int            enum            enum\n",
        "mins           15979.0        0.0                   1.0            0.0             0.0\n",
        "maxs           16010.0        329.0                 553.0          1.0             6.0\n",
        "mean           15994.4415311  NaN                   99.3025837321  0.968612440191  NaN\n",
        "sigma          9.23370172444  NaN                   72.9721964301  0.174371128617  NaN\n",
        "zero_count     0              32                    0              328             1635\n",
        "missing_count  0              0                     0              0               0"
       ]
      }
     ],
     "prompt_number": 12
    },
    {
     "cell_type": "code",
     "collapsed": false,
     "input": [
      "# ----------\n",
      "# 3- Fit a model on train; using test as validation\n",
      "\n",
      "# Function for doing class test/train/holdout split\n",
      "def split_fit_predict(data):\n",
      "  global gbm0,drf0,glm0,dl0\n",
      "  # Classic Test/Train split\n",
      "  r = data['Days'].runif()   # Random UNIForm numbers, one per row\n",
      "  train = data[  r  < 0.6]\n",
      "  test  = data[(0.6 <= r) & (r < 0.9)]\n",
      "  hold  = data[ 0.9 <= r ]\n",
      "  print \"Training data has\",train.ncol,\"columns and\",train.nrow,\"rows, test has\",test.nrow,\"rows, holdout has\",hold.nrow\n",
      "  \n",
      "  # Run GBM\n",
      "  s = time.time()\n",
      "  gbm0 = h2o.gbm(x           =train.drop(\"bikes\"),\n",
      "                 y           =train     [\"bikes\"],\n",
      "                 validation_x=test .drop(\"bikes\"),\n",
      "                 validation_y=test      [\"bikes\"],\n",
      "                 ntrees=500, # 500 works well\n",
      "                 max_depth=6,\n",
      "                 learn_rate=0.1)\n",
      "  gbm_elapsed = time.time() - s\n",
      "\n",
      "  # Run DRF\n",
      "  s = time.time()\n",
      "  drf0 = h2o.random_forest(x =train.drop(\"bikes\"),\n",
      "                y           =train     [\"bikes\"],\n",
      "                validation_x=test .drop(\"bikes\"),\n",
      "                validation_y=test      [\"bikes\"],\n",
      "                ntrees=250,\n",
      "                max_depth=30)\n",
      "  drf_elapsed = time.time() - s \n",
      "    \n",
      "    \n",
      "  # Run GLM\n",
      "  train_glm = train.drop(\"WC1\") if \"WC1\" in train.names else train\n",
      "  test_glm  = test .drop(\"WC1\") if \"WC1\" in test .names else test\n",
      "  s = time.time()\n",
      "  glm0 = h2o.glm(x           =train_glm.drop(\"bikes\"),\n",
      "                 y           =train_glm     [\"bikes\"],\n",
      "                 validation_x=test_glm .drop(\"bikes\"),\n",
      "                 validation_y=test_glm      [\"bikes\"],\n",
      "                 Lambda=[1e-5],\n",
      "                 family=\"poisson\")\n",
      "  glm_elapsed = time.time() - s\n",
      "  \n",
      "  # Run DL\n",
      "  s = time.time()\n",
      "  dl0 = h2o.deeplearning(x  =train.drop(\"bikes\"),\n",
      "                y           =train     [\"bikes\"],\n",
      "                validation_x=test .drop(\"bikes\"),\n",
      "                validation_y=test      [\"bikes\"],\n",
      "                hidden=[50,50,50,50],\n",
      "                epochs=50)\n",
      "  dl_elapsed = time.time() - s\n",
      "  \n",
      "  # ----------\n",
      "  # 4- Score on holdout set & report\n",
      "  train_r2_gbm = gbm0.model_performance(train).r2()\n",
      "  test_r2_gbm  = gbm0.model_performance(test ).r2()\n",
      "  hold_r2_gbm  = gbm0.model_performance(hold ).r2()\n",
      "#   print \"GBM R2 TRAIN=\",train_r2_gbm,\", R2 TEST=\",test_r2_gbm,\", R2 HOLDOUT=\",hold_r2_gbm\n",
      "  \n",
      "  train_r2_drf = drf0.model_performance(train).r2()\n",
      "  test_r2_drf  = drf0.model_performance(test ).r2()\n",
      "  hold_r2_drf  = drf0.model_performance(hold ).r2()\n",
      "#   print \"DRF R2 TRAIN=\",train_r2_drf,\", R2 TEST=\",test_r2_drf,\", R2 HOLDOUT=\",hold_r2_drf\n",
      "  \n",
      "  train_r2_glm = glm0.model_performance(train).r2()\n",
      "  test_r2_glm  = glm0.model_performance(test ).r2()\n",
      "  hold_r2_glm  = glm0.model_performance(hold ).r2()\n",
      "#   print \"GLM R2 TRAIN=\",train_r2_glm,\", R2 TEST=\",test_r2_glm,\", R2 HOLDOUT=\",hold_r2_glm\n",
      "    \n",
      "  train_r2_dl = dl0.model_performance(train).r2()\n",
      "  test_r2_dl  = dl0.model_performance(test ).r2()\n",
      "  hold_r2_dl  = dl0.model_performance(hold ).r2()\n",
      "#   print \" DL R2 TRAIN=\",train_r2_dl,\", R2 TEST=\",test_r2_dl,\", R2 HOLDOUT=\",hold_r2_dl\n",
      "    \n",
      "  # make a pretty HTML table printout of the results\n",
      "\n",
      "  header = [\"Model\", \"R2 TRAIN\", \"R2 TEST\", \"R2 HOLDOUT\", \"Model Training Time (s)\"]\n",
      "  table  = [\n",
      "            [\"GBM\", train_r2_gbm, test_r2_gbm, hold_r2_gbm, round(gbm_elapsed,3)],\n",
      "            [\"DRF\", train_r2_drf, test_r2_drf, hold_r2_drf, round(drf_elapsed,3)],\n",
      "            [\"GLM\", train_r2_glm, test_r2_glm, hold_r2_glm, round(glm_elapsed,3)],\n",
      "            [\"DL \", train_r2_dl,  test_r2_dl,  hold_r2_dl , round(dl_elapsed,3) ],\n",
      "           ]\n",
      "  h2o.H2ODisplay(table,header)\n",
      "  # --------------"
     ],
     "language": "python",
     "metadata": {},
     "outputs": [],
     "prompt_number": 13
    },
    {
     "cell_type": "code",
     "collapsed": false,
     "input": [
      "# Split the data (into test & train), fit some models and predict on the holdout data\n",
      "split_fit_predict(bpd)\n",
      "# Here we see an r^2 of 0.91 for GBM, and 0.71 for GLM.  This means given just\n",
      "# the station, the month, and the day-of-week we can predict 90% of the\n",
      "# variance of the bike-trip-starts."
     ],
     "language": "python",
     "metadata": {},
     "outputs": [
      {
       "output_type": "stream",
       "stream": "stdout",
       "text": [
        "Training data has "
       ]
      },
      {
       "output_type": "stream",
       "stream": "stdout",
       "text": [
        "5 columns and 6265 rows, test has 3181 rows, holdout has "
       ]
      },
      {
       "output_type": "stream",
       "stream": "stdout",
       "text": [
        "1004\n",
        "\n"
       ]
      },
      {
       "output_type": "stream",
       "stream": "stdout",
       "text": [
        "\r",
        "gbm Model Build Progress: [                                                  ] 00%"
       ]
      },
      {
       "output_type": "stream",
       "stream": "stdout",
       "text": [
        "\r",
        "gbm Model Build Progress: [                                                  ] 00%"
       ]
      },
      {
       "output_type": "stream",
       "stream": "stdout",
       "text": [
        "\r",
        "gbm Model Build Progress: [                                                  ] 00%"
       ]
      },
      {
       "output_type": "stream",
       "stream": "stdout",
       "text": [
        "\r",
        "gbm Model Build Progress: [                                                  ] 01%"
       ]
      },
      {
       "output_type": "stream",
       "stream": "stdout",
       "text": [
        "\r",
        "gbm Model Build Progress: [##                                                ] 04%"
       ]
      },
      {
       "output_type": "stream",
       "stream": "stdout",
       "text": [
        "\r",
        "gbm Model Build Progress: [####                                              ] 09%"
       ]
      },
      {
       "output_type": "stream",
       "stream": "stdout",
       "text": [
        "\r",
        "gbm Model Build Progress: [#######                                           ] 14%"
       ]
      },
      {
       "output_type": "stream",
       "stream": "stdout",
       "text": [
        "\r",
        "gbm Model Build Progress: [#########                                         ] 19%"
       ]
      },
      {
       "output_type": "stream",
       "stream": "stdout",
       "text": [
        "\r",
        "gbm Model Build Progress: [############                                      ] 24%"
       ]
      },
      {
       "output_type": "stream",
       "stream": "stdout",
       "text": [
        "\r",
        "gbm Model Build Progress: [########################                          ] 48%"
       ]
      },
      {
       "output_type": "stream",
       "stream": "stdout",
       "text": [
        "\r",
        "gbm Model Build Progress: [#############################################     ] 90%"
       ]
      },
      {
       "output_type": "stream",
       "stream": "stdout",
       "text": [
        "\r",
        "gbm Model Build Progress: [##################################################] 100%"
       ]
      },
      {
       "output_type": "stream",
       "stream": "stdout",
       "text": [
        "\n",
        "\n"
       ]
      },
      {
       "output_type": "stream",
       "stream": "stdout",
       "text": [
        "\r",
        "drf Model Build Progress: [                                                  ] 00%"
       ]
      },
      {
       "output_type": "stream",
       "stream": "stdout",
       "text": [
        "\r",
        "drf Model Build Progress: [                                                  ] 00%"
       ]
      },
      {
       "output_type": "stream",
       "stream": "stdout",
       "text": [
        "\r",
        "drf Model Build Progress: [#                                                 ] 02%"
       ]
      },
      {
       "output_type": "stream",
       "stream": "stdout",
       "text": [
        "\r",
        "drf Model Build Progress: [##                                                ] 05%"
       ]
      },
      {
       "output_type": "stream",
       "stream": "stdout",
       "text": [
        "\r",
        "drf Model Build Progress: [######                                            ] 12%"
       ]
      },
      {
       "output_type": "stream",
       "stream": "stdout",
       "text": [
        "\r",
        "drf Model Build Progress: [##########                                        ] 20%"
       ]
      },
      {
       "output_type": "stream",
       "stream": "stdout",
       "text": [
        "\r",
        "drf Model Build Progress: [##############                                    ] 28%"
       ]
      },
      {
       "output_type": "stream",
       "stream": "stdout",
       "text": [
        "\r",
        "drf Model Build Progress: [##################                                ] 36%"
       ]
      },
      {
       "output_type": "stream",
       "stream": "stdout",
       "text": [
        "\r",
        "drf Model Build Progress: [#####################                             ] 43%"
       ]
      },
      {
       "output_type": "stream",
       "stream": "stdout",
       "text": [
        "\r",
        "drf Model Build Progress: [#################################                 ] 66%"
       ]
      },
      {
       "output_type": "stream",
       "stream": "stdout",
       "text": [
        "\r",
        "drf Model Build Progress: [##################################################] 100%"
       ]
      },
      {
       "output_type": "stream",
       "stream": "stdout",
       "text": [
        "\n",
        "\n"
       ]
      },
      {
       "output_type": "stream",
       "stream": "stdout",
       "text": [
        "\r",
        "glm Model Build Progress: [                                                  ] 00%"
       ]
      },
      {
       "output_type": "stream",
       "stream": "stdout",
       "text": [
        "\r",
        "glm Model Build Progress: [                                                  ] 00%"
       ]
      },
      {
       "output_type": "stream",
       "stream": "stdout",
       "text": [
        "\r",
        "glm Model Build Progress: [##################################################] 100%"
       ]
      },
      {
       "output_type": "stream",
       "stream": "stdout",
       "text": [
        "\n",
        "\n"
       ]
      },
      {
       "output_type": "stream",
       "stream": "stdout",
       "text": [
        "\r",
        "deeplearning Model Build Progress: [                                                  ] 00%"
       ]
      },
      {
       "output_type": "stream",
       "stream": "stdout",
       "text": [
        "\r",
        "deeplearning Model Build Progress: [                                                  ] 00%"
       ]
      },
      {
       "output_type": "stream",
       "stream": "stdout",
       "text": [
        "\r",
        "deeplearning Model Build Progress: [                                                  ] 00%"
       ]
      },
      {
       "output_type": "stream",
       "stream": "stdout",
       "text": [
        "\r",
        "deeplearning Model Build Progress: [                                                  ] 00%"
       ]
      },
      {
       "output_type": "stream",
       "stream": "stdout",
       "text": [
        "\r",
        "deeplearning Model Build Progress: [                                                  ] 00%"
       ]
      },
      {
       "output_type": "stream",
       "stream": "stdout",
       "text": [
        "\r",
        "deeplearning Model Build Progress: [                                                  ] 00%"
       ]
      },
      {
       "output_type": "stream",
       "stream": "stdout",
       "text": [
        "\r",
        "deeplearning Model Build Progress: [                                                  ] 00%"
       ]
      },
      {
       "output_type": "stream",
       "stream": "stdout",
       "text": [
        "\r",
        "deeplearning Model Build Progress: [#####                                             ] 10%"
       ]
      },
      {
       "output_type": "stream",
       "stream": "stdout",
       "text": [
        "\r",
        "deeplearning Model Build Progress: [##########                                        ] 20%"
       ]
      },
      {
       "output_type": "stream",
       "stream": "stdout",
       "text": [
        "\r",
        "deeplearning Model Build Progress: [####################                              ] 40%"
       ]
      },
      {
       "output_type": "stream",
       "stream": "stdout",
       "text": [
        "\r",
        "deeplearning Model Build Progress: [#########################                         ] 50%"
       ]
      },
      {
       "output_type": "stream",
       "stream": "stdout",
       "text": [
        "\r",
        "deeplearning Model Build Progress: [###################################               ] 70%"
       ]
      },
      {
       "output_type": "stream",
       "stream": "stdout",
       "text": [
        "\r",
        "deeplearning Model Build Progress: [#############################################     ] 90%"
       ]
      },
      {
       "output_type": "stream",
       "stream": "stdout",
       "text": [
        "\r",
        "deeplearning Model Build Progress: [##################################################] 100%"
       ]
      },
      {
       "output_type": "stream",
       "stream": "stdout",
       "text": [
        "\n"
       ]
      },
      {
       "html": [
        "<div style=\"overflow:auto\"><table style=\"width:50%\"><tr><td>Model</td>\n",
        "<td>R2 TRAIN</td>\n",
        "<td>R2 TEST</td>\n",
        "<td>R2 HOLDOUT</td>\n",
        "<td>Model Training Time (s)</td></tr>\n",
        "<tr><td>GBM</td>\n",
        "<td>0.99738119271</td>\n",
        "<td>0.926701329054</td>\n",
        "<td>0.927978896428</td>\n",
        "<td>6.906</td></tr>\n",
        "<tr><td>DRF</td>\n",
        "<td>0.825270872256</td>\n",
        "<td>0.780081738179</td>\n",
        "<td>0.753857344913</td>\n",
        "<td>5.705</td></tr>\n",
        "<tr><td>GLM</td>\n",
        "<td>0.861792582826</td>\n",
        "<td>0.839239291028</td>\n",
        "<td>0.85088385128</td>\n",
        "<td>0.449</td></tr>\n",
        "<tr><td>DL </td>\n",
        "<td>0.971201405926</td>\n",
        "<td>0.928077314087</td>\n",
        "<td>0.924638917246</td>\n",
        "<td>9.137</td></tr></table></div>"
       ],
       "metadata": {},
       "output_type": "display_data",
       "text": [
        "Model      R2 TRAIN    R2 TEST    R2 HOLDOUT    Model Training Time (s)\n",
        "-------  ----------  ---------  ------------  -------------------------\n",
        "GBM        0.997381   0.926701      0.927979                      6.906\n",
        "DRF        0.825271   0.780082      0.753857                      5.705\n",
        "GLM        0.861793   0.839239      0.850884                      0.449\n",
        "DL         0.971201   0.928077      0.924639                      9.137"
       ]
      }
     ],
     "prompt_number": 14
    },
    {
     "cell_type": "code",
     "collapsed": false,
     "input": [
      "# ----------\n",
      "# 5- Now lets add some weather\n",
      "# Load weather data\n",
      "wthr1 = h2o.import_file(path=[mylocate(\"bigdata/laptop/citibike-nyc/31081_New_York_City__Hourly_2013.csv\"),\n",
      "                               mylocate(\"bigdata/laptop/citibike-nyc/31081_New_York_City__Hourly_2014.csv\")])\n",
      "# Peek at the data\n",
      "wthr1.describe()"
     ],
     "language": "python",
     "metadata": {},
     "outputs": [
      {
       "output_type": "stream",
       "stream": "stdout",
       "text": [
        "\n",
        "\r",
        "Parse Progress: [                                                  ] 00%"
       ]
      },
      {
       "output_type": "stream",
       "stream": "stdout",
       "text": [
        "\r",
        "Parse Progress: [###############################                   ] 63%"
       ]
      },
      {
       "output_type": "stream",
       "stream": "stdout",
       "text": [
        "\r",
        "Parse Progress: [##################################################] 100%"
       ]
      },
      {
       "output_type": "stream",
       "stream": "stdout",
       "text": [
        "\n",
        "\n",
        "Parsed 17,520 rows and 50 cols:\n",
        "\n"
       ]
      },
      {
       "html": [
        "<div style=\"overflow:auto\"><table style=\"width:50%\"><tr><td>File1</td>\n",
        "<td>/Users/ece/0xdata/h2o-dev/bigdata/laptop/citibike-nyc/31081_New_York_City__Hourly_2013.csv</td></tr>\n",
        "<tr><td>File2</td>\n",
        "<td>/Users/ece/0xdata/h2o-dev/bigdata/laptop/citibike-nyc/31081_New_York_City__Hourly_2014.csv</td></tr></table></div>"
       ],
       "metadata": {},
       "output_type": "display_data",
       "text": [
        "-----  ------------------------------------------------------------------------------------------\n",
        "File1  /Users/ece/0xdata/h2o-dev/bigdata/laptop/citibike-nyc/31081_New_York_City__Hourly_2013.csv\n",
        "File2  /Users/ece/0xdata/h2o-dev/bigdata/laptop/citibike-nyc/31081_New_York_City__Hourly_2014.csv\n",
        "-----  ------------------------------------------------------------------------------------------"
       ]
      },
      {
       "output_type": "stream",
       "stream": "stdout",
       "text": [
        "Rows: 17,520 Cols: 50\n",
        "\n",
        "Chunk compression summary:\n"
       ]
      },
      {
       "html": [
        "<div style=\"overflow:auto\"><table style=\"width:50%\"><tr><td>chunk_type</td>\n",
        "<td>chunk_name</td>\n",
        "<td>count</td>\n",
        "<td>count_percentage</td>\n",
        "<td>size</td>\n",
        "<td>size_percentage</td></tr>\n",
        "<tr><td>C0L</td>\n",
        "<td>Constant Integers</td>\n",
        "<td>107</td>\n",
        "<td>6.294118</td>\n",
        "<td>    8.4 KB</td>\n",
        "<td>0.7889721</td></tr>\n",
        "<tr><td>C0D</td>\n",
        "<td>Constant Reals</td>\n",
        "<td>436</td>\n",
        "<td>25.647058</td>\n",
        "<td>   34.1 KB</td>\n",
        "<td>3.2148771</td></tr>\n",
        "<tr><td>CXI</td>\n",
        "<td>Sparse Integers</td>\n",
        "<td>17</td>\n",
        "<td>1.0</td>\n",
        "<td>    1.5 KB</td>\n",
        "<td>0.13991351</td></tr>\n",
        "<tr><td>C1</td>\n",
        "<td>1-Byte Integers</td>\n",
        "<td>346</td>\n",
        "<td>20.352942</td>\n",
        "<td>  197.4 KB</td>\n",
        "<td>18.634672</td></tr>\n",
        "<tr><td>C1N</td>\n",
        "<td>1-Byte Integers (w/o NAs)</td>\n",
        "<td>214</td>\n",
        "<td>12.588236</td>\n",
        "<td>  122.3 KB</td>\n",
        "<td>11.544063</td></tr>\n",
        "<tr><td>C1S</td>\n",
        "<td>1-Byte Fractions</td>\n",
        "<td>214</td>\n",
        "<td>12.588236</td>\n",
        "<td>  125.3 KB</td>\n",
        "<td>11.822968</td></tr>\n",
        "<tr><td>C2S</td>\n",
        "<td>2-Byte Fractions</td>\n",
        "<td>196</td>\n",
        "<td>11.529412</td>\n",
        "<td>  214.5 KB</td>\n",
        "<td>20.242111</td></tr>\n",
        "<tr><td>C4S</td>\n",
        "<td>4-Byte Fractions</td>\n",
        "<td>170</td>\n",
        "<td>10.0</td>\n",
        "<td>  356.1 KB</td>\n",
        "<td>33.612423</td></tr></table></div>"
       ],
       "metadata": {},
       "output_type": "display_data",
       "text": [
        "chunk_type    chunk_name                 count    count_percentage    size      size_percentage\n",
        "------------  -------------------------  -------  ------------------  --------  -----------------\n",
        "C0L           Constant Integers          107      6.29412             8.4 KB    0.788972\n",
        "C0D           Constant Reals             436      25.6471             34.1 KB   3.21488\n",
        "CXI           Sparse Integers            17       1                   1.5 KB    0.139914\n",
        "C1            1-Byte Integers            346      20.3529             197.4 KB  18.6347\n",
        "C1N           1-Byte Integers (w/o NAs)  214      12.5882             122.3 KB  11.5441\n",
        "C1S           1-Byte Fractions           214      12.5882             125.3 KB  11.823\n",
        "C2S           2-Byte Fractions           196      11.5294             214.5 KB  20.2421\n",
        "C4S           4-Byte Fractions           170      10                  356.1 KB  33.6124"
       ]
      },
      {
       "output_type": "stream",
       "stream": "stdout",
       "text": [
        "\n",
        "Frame distribution summary:\n"
       ]
      },
      {
       "html": [
        "<div style=\"overflow:auto\"><table style=\"width:50%\"><tr><td></td>\n",
        "<td>size</td>\n",
        "<td>number_of_rows</td>\n",
        "<td>number_of_chunks_per_column</td>\n",
        "<td>number_of_chunks</td></tr>\n",
        "<tr><td>10.0.0.24:54321</td>\n",
        "<td>    1.0 MB</td>\n",
        "<td>17520.0</td>\n",
        "<td>34.0</td>\n",
        "<td>1700.0</td></tr>\n",
        "<tr><td>mean</td>\n",
        "<td>    1.0 MB</td>\n",
        "<td>17520.0</td>\n",
        "<td>34.0</td>\n",
        "<td>1700.0</td></tr>\n",
        "<tr><td>min</td>\n",
        "<td>    1.0 MB</td>\n",
        "<td>17520.0</td>\n",
        "<td>34.0</td>\n",
        "<td>1700.0</td></tr>\n",
        "<tr><td>max</td>\n",
        "<td>    1.0 MB</td>\n",
        "<td>17520.0</td>\n",
        "<td>34.0</td>\n",
        "<td>1700.0</td></tr>\n",
        "<tr><td>stddev</td>\n",
        "<td>      0  B</td>\n",
        "<td>0.0</td>\n",
        "<td>0.0</td>\n",
        "<td>0.0</td></tr>\n",
        "<tr><td>total</td>\n",
        "<td>    1.0 MB</td>\n",
        "<td>17520.0</td>\n",
        "<td>34.0</td>\n",
        "<td>1700.0</td></tr></table></div>"
       ],
       "metadata": {},
       "output_type": "display_data",
       "text": [
        "                 size    number_of_rows    number_of_chunks_per_column    number_of_chunks\n",
        "---------------  ------  ----------------  -----------------------------  ------------------\n",
        "10.0.0.24:54321  1.0 MB  17520             34                             1700\n",
        "mean             1.0 MB  17520             34                             1700\n",
        "min              1.0 MB  17520             34                             1700\n",
        "max              1.0 MB  17520             34                             1700\n",
        "stddev           0  B    0                 0                              0\n",
        "total            1.0 MB  17520             34                             1700"
       ]
      },
      {
       "output_type": "stream",
       "stream": "stdout",
       "text": [
        "\n",
        "Column-by-Column Summary:\n",
        "\n"
       ]
      },
      {
       "html": [
        "<div style=\"overflow:auto\"><table style=\"width:50%\"><tr><td></td>\n",
        "<td>Year Local</td>\n",
        "<td>Month Local</td>\n",
        "<td>Day Local</td>\n",
        "<td>Hour Local</td>\n",
        "<td>Year UTC</td>\n",
        "<td>Month UTC</td>\n",
        "<td>Day UTC</td>\n",
        "<td>Hour UTC</td>\n",
        "<td>Cavok Reported</td>\n",
        "<td>Cloud Ceiling (m)</td>\n",
        "<td>Cloud Cover Fraction</td>\n",
        "<td>Cloud Cover Fraction 1</td>\n",
        "<td>Cloud Cover Fraction 2</td>\n",
        "<td>Cloud Cover Fraction 3</td>\n",
        "<td>Cloud Cover Fraction 4</td>\n",
        "<td>Cloud Cover Fraction 5</td>\n",
        "<td>Cloud Cover Fraction 6</td>\n",
        "<td>Cloud Height (m) 1</td>\n",
        "<td>Cloud Height (m) 2</td>\n",
        "<td>Cloud Height (m) 3</td>\n",
        "<td>Cloud Height (m) 4</td>\n",
        "<td>Cloud Height (m) 5</td>\n",
        "<td>Cloud Height (m) 6</td>\n",
        "<td>Dew Point (C)</td>\n",
        "<td>Humidity Fraction</td>\n",
        "<td>Precipitation One Hour (mm)</td>\n",
        "<td>Pressure Altimeter (mbar)</td>\n",
        "<td>Pressure Sea Level (mbar)</td>\n",
        "<td>Pressure Station (mbar)</td>\n",
        "<td>Snow Depth (cm)</td>\n",
        "<td>Temperature (C)</td>\n",
        "<td>Visibility (km)</td>\n",
        "<td>Weather Code 1</td>\n",
        "<td>Weather Code 1/ Description</td>\n",
        "<td>Weather Code 2</td>\n",
        "<td>Weather Code 2/ Description</td>\n",
        "<td>Weather Code 3</td>\n",
        "<td>Weather Code 3/ Description</td>\n",
        "<td>Weather Code 4</td>\n",
        "<td>Weather Code 4/ Description</td>\n",
        "<td>Weather Code 5</td>\n",
        "<td>Weather Code 5/ Description</td>\n",
        "<td>Weather Code 6</td>\n",
        "<td>Weather Code 6/ Description</td>\n",
        "<td>Weather Code Most Severe / Icon Code</td>\n",
        "<td>Weather Code Most Severe</td>\n",
        "<td>Weather Code Most Severe / Description</td>\n",
        "<td>Wind Direction (degrees)</td>\n",
        "<td>Wind Gust (m/s)</td>\n",
        "<td>Wind Speed (m/s)</td></tr>\n",
        "<tr><td>type</td>\n",
        "<td>int</td>\n",
        "<td>int</td>\n",
        "<td>int</td>\n",
        "<td>int</td>\n",
        "<td>int</td>\n",
        "<td>int</td>\n",
        "<td>int</td>\n",
        "<td>int</td>\n",
        "<td>int</td>\n",
        "<td>real</td>\n",
        "<td>real</td>\n",
        "<td>real</td>\n",
        "<td>real</td>\n",
        "<td>real</td>\n",
        "<td>int</td>\n",
        "<td>int</td>\n",
        "<td>int</td>\n",
        "<td>real</td>\n",
        "<td>real</td>\n",
        "<td>real</td>\n",
        "<td>int</td>\n",
        "<td>int</td>\n",
        "<td>int</td>\n",
        "<td>real</td>\n",
        "<td>real</td>\n",
        "<td>real</td>\n",
        "<td>real</td>\n",
        "<td>int</td>\n",
        "<td>int</td>\n",
        "<td>int</td>\n",
        "<td>real</td>\n",
        "<td>real</td>\n",
        "<td>int</td>\n",
        "<td>enum</td>\n",
        "<td>int</td>\n",
        "<td>enum</td>\n",
        "<td>int</td>\n",
        "<td>enum</td>\n",
        "<td>int</td>\n",
        "<td>enum</td>\n",
        "<td>int</td>\n",
        "<td>enum</td>\n",
        "<td>int</td>\n",
        "<td>enum</td>\n",
        "<td>int</td>\n",
        "<td>int</td>\n",
        "<td>enum</td>\n",
        "<td>int</td>\n",
        "<td>real</td>\n",
        "<td>real</td></tr>\n",
        "<tr><td>mins</td>\n",
        "<td>2013.0</td>\n",
        "<td>1.0</td>\n",
        "<td>1.0</td>\n",
        "<td>0.0</td>\n",
        "<td>2013.0</td>\n",
        "<td>1.0</td>\n",
        "<td>1.0</td>\n",
        "<td>0.0</td>\n",
        "<td>0.0</td>\n",
        "<td>61.0</td>\n",
        "<td>0.0</td>\n",
        "<td>0.0</td>\n",
        "<td>0.25</td>\n",
        "<td>0.5</td>\n",
        "<td>NaN</td>\n",
        "<td>NaN</td>\n",
        "<td>NaN</td>\n",
        "<td>60.96</td>\n",
        "<td>213.36</td>\n",
        "<td>365.76</td>\n",
        "<td>NaN</td>\n",
        "<td>NaN</td>\n",
        "<td>NaN</td>\n",
        "<td>-26.7</td>\n",
        "<td>0.1251</td>\n",
        "<td>0.0</td>\n",
        "<td>983.2949</td>\n",
        "<td>NaN</td>\n",
        "<td>NaN</td>\n",
        "<td>NaN</td>\n",
        "<td>-15.6</td>\n",
        "<td>0.001</td>\n",
        "<td>1.0</td>\n",
        "<td>0.0</td>\n",
        "<td>1.0</td>\n",
        "<td>0.0</td>\n",
        "<td>1.0</td>\n",
        "<td>0.0</td>\n",
        "<td>1.0</td>\n",
        "<td>0.0</td>\n",
        "<td>1.0</td>\n",
        "<td>0.0</td>\n",
        "<td>3.0</td>\n",
        "<td>0.0</td>\n",
        "<td>0.0</td>\n",
        "<td>1.0</td>\n",
        "<td>0.0</td>\n",
        "<td>10.0</td>\n",
        "<td>7.2</td>\n",
        "<td>0.0</td></tr>\n",
        "<tr><td>maxs</td>\n",
        "<td>2014.0</td>\n",
        "<td>12.0</td>\n",
        "<td>31.0</td>\n",
        "<td>23.0</td>\n",
        "<td>2015.0</td>\n",
        "<td>12.0</td>\n",
        "<td>31.0</td>\n",
        "<td>23.0</td>\n",
        "<td>0.0</td>\n",
        "<td>3657.6</td>\n",
        "<td>1.0</td>\n",
        "<td>1.0</td>\n",
        "<td>1.0</td>\n",
        "<td>1.0</td>\n",
        "<td>NaN</td>\n",
        "<td>NaN</td>\n",
        "<td>NaN</td>\n",
        "<td>3657.5999</td>\n",
        "<td>3657.5999</td>\n",
        "<td>3657.5999</td>\n",
        "<td>NaN</td>\n",
        "<td>NaN</td>\n",
        "<td>NaN</td>\n",
        "<td>24.4</td>\n",
        "<td>1.0</td>\n",
        "<td>26.924</td>\n",
        "<td>1042.2113</td>\n",
        "<td>NaN</td>\n",
        "<td>NaN</td>\n",
        "<td>NaN</td>\n",
        "<td>36.1</td>\n",
        "<td>16.0934</td>\n",
        "<td>60.0</td>\n",
        "<td>11.0</td>\n",
        "<td>60.0</td>\n",
        "<td>10.0</td>\n",
        "<td>36.0</td>\n",
        "<td>7.0</td>\n",
        "<td>27.0</td>\n",
        "<td>4.0</td>\n",
        "<td>27.0</td>\n",
        "<td>2.0</td>\n",
        "<td>3.0</td>\n",
        "<td>0.0</td>\n",
        "<td>16.0</td>\n",
        "<td>60.0</td>\n",
        "<td>11.0</td>\n",
        "<td>360.0</td>\n",
        "<td>20.58</td>\n",
        "<td>10.8</td></tr>\n",
        "<tr><td>mean</td>\n",
        "<td>2013.5</td>\n",
        "<td>6.52602739726</td>\n",
        "<td>15.7205479452</td>\n",
        "<td>11.5</td>\n",
        "<td>2013.50057078</td>\n",
        "<td>6.52511415525</td>\n",
        "<td>15.721347032</td>\n",
        "<td>11.5001141553</td>\n",
        "<td>0.0</td>\n",
        "<td>1306.31195846</td>\n",
        "<td>0.416742490522</td>\n",
        "<td>0.361207349081</td>\n",
        "<td>0.872445384073</td>\n",
        "<td>0.963045685279</td>\n",
        "<td>0.0</td>\n",
        "<td>0.0</td>\n",
        "<td>0.0</td>\n",
        "<td>1293.9822682</td>\n",
        "<td>1643.73900166</td>\n",
        "<td>2084.89386376</td>\n",
        "<td>0.0</td>\n",
        "<td>0.0</td>\n",
        "<td>0.0</td>\n",
        "<td>4.31304646766</td>\n",
        "<td>0.596736389159</td>\n",
        "<td>1.37993010753</td>\n",
        "<td>1017.82581441</td>\n",
        "<td>0.0</td>\n",
        "<td>0.0</td>\n",
        "<td>0.0</td>\n",
        "<td>12.5789090701</td>\n",
        "<td>14.3914429682</td>\n",
        "<td>4.84251968504</td>\n",
        "<td>NaN</td>\n",
        "<td>3.65867689358</td>\n",
        "<td>NaN</td>\n",
        "<td>2.84660766962</td>\n",
        "<td>NaN</td>\n",
        "<td>2.01149425287</td>\n",
        "<td>NaN</td>\n",
        "<td>4.125</td>\n",
        "<td>NaN</td>\n",
        "<td>3.0</td>\n",
        "<td>0.0</td>\n",
        "<td>1.37848173516</td>\n",
        "<td>4.84251968504</td>\n",
        "<td>NaN</td>\n",
        "<td>194.69525682</td>\n",
        "<td>9.42216948073</td>\n",
        "<td>2.41032887849</td></tr>\n",
        "<tr><td>sigma</td>\n",
        "<td>0.500014270017</td>\n",
        "<td>3.44794972385</td>\n",
        "<td>8.79649804852</td>\n",
        "<td>6.92238411188</td>\n",
        "<td>0.500584411716</td>\n",
        "<td>3.44782405458</td>\n",
        "<td>8.79561488868</td>\n",
        "<td>6.92230165203</td>\n",
        "<td>0.0</td>\n",
        "<td>995.339856966</td>\n",
        "<td>0.462720830993</td>\n",
        "<td>0.42770569708</td>\n",
        "<td>0.197155690367</td>\n",
        "<td>0.0861015598104</td>\n",
        "<td>-0.0</td>\n",
        "<td>-0.0</td>\n",
        "<td>-0.0</td>\n",
        "<td>962.743095854</td>\n",
        "<td>916.73861349</td>\n",
        "<td>887.215847511</td>\n",
        "<td>-0.0</td>\n",
        "<td>-0.0</td>\n",
        "<td>-0.0</td>\n",
        "<td>10.9731282097</td>\n",
        "<td>0.185792011866</td>\n",
        "<td>2.56215129179</td>\n",
        "<td>7.46451697179</td>\n",
        "<td>-0.0</td>\n",
        "<td>-0.0</td>\n",
        "<td>-0.0</td>\n",
        "<td>10.0396739531</td>\n",
        "<td>3.69893623033</td>\n",
        "<td>5.70486576983</td>\n",
        "<td>NaN</td>\n",
        "<td>6.13386253912</td>\n",
        "<td>NaN</td>\n",
        "<td>5.80553286364</td>\n",
        "<td>NaN</td>\n",
        "<td>3.12340844261</td>\n",
        "<td>NaN</td>\n",
        "<td>6.15223536611</td>\n",
        "<td>NaN</td>\n",
        "<td>0.0</td>\n",
        "<td>0.0</td>\n",
        "<td>4.07386062702</td>\n",
        "<td>5.70486576983</td>\n",
        "<td>NaN</td>\n",
        "<td>106.350000031</td>\n",
        "<td>1.81511871115</td>\n",
        "<td>1.61469790524</td></tr>\n",
        "<tr><td>zero_count</td>\n",
        "<td>0</td>\n",
        "<td>0</td>\n",
        "<td>0</td>\n",
        "<td>730</td>\n",
        "<td>0</td>\n",
        "<td>0</td>\n",
        "<td>0</td>\n",
        "<td>730</td>\n",
        "<td>17455</td>\n",
        "<td>0</td>\n",
        "<td>8758</td>\n",
        "<td>8758</td>\n",
        "<td>0</td>\n",
        "<td>0</td>\n",
        "<td>-17520</td>\n",
        "<td>-17520</td>\n",
        "<td>-17520</td>\n",
        "<td>0</td>\n",
        "<td>0</td>\n",
        "<td>0</td>\n",
        "<td>-17520</td>\n",
        "<td>-17520</td>\n",
        "<td>-17520</td>\n",
        "<td>268</td>\n",
        "<td>0</td>\n",
        "<td>501</td>\n",
        "<td>0</td>\n",
        "<td>-17520</td>\n",
        "<td>-17520</td>\n",
        "<td>-17520</td>\n",
        "<td>269</td>\n",
        "<td>0</td>\n",
        "<td>0</td>\n",
        "<td>17</td>\n",
        "<td>0</td>\n",
        "<td>30</td>\n",
        "<td>0</td>\n",
        "<td>13</td>\n",
        "<td>-5044</td>\n",
        "<td>-5024</td>\n",
        "<td>-11241</td>\n",
        "<td>-11229</td>\n",
        "<td>-17030</td>\n",
        "<td>-17028</td>\n",
        "<td>14980</td>\n",
        "<td>0</td>\n",
        "<td>17</td>\n",
        "<td>0</td>\n",
        "<td>0</td>\n",
        "<td>2768</td></tr>\n",
        "<tr><td>missing_count</td>\n",
        "<td>0</td>\n",
        "<td>0</td>\n",
        "<td>0</td>\n",
        "<td>0</td>\n",
        "<td>0</td>\n",
        "<td>0</td>\n",
        "<td>0</td>\n",
        "<td>0</td>\n",
        "<td>65</td>\n",
        "<td>10780</td>\n",
        "<td>375</td>\n",
        "<td>375</td>\n",
        "<td>14682</td>\n",
        "<td>16535</td>\n",
        "<td>17520</td>\n",
        "<td>17520</td>\n",
        "<td>17520</td>\n",
        "<td>9103</td>\n",
        "<td>14683</td>\n",
        "<td>16535</td>\n",
        "<td>17520</td>\n",
        "<td>17520</td>\n",
        "<td>17520</td>\n",
        "<td>67</td>\n",
        "<td>67</td>\n",
        "<td>15660</td>\n",
        "<td>360</td>\n",
        "<td>17520</td>\n",
        "<td>17520</td>\n",
        "<td>17520</td>\n",
        "<td>67</td>\n",
        "<td>412</td>\n",
        "<td>14980</td>\n",
        "<td>14980</td>\n",
        "<td>16477</td>\n",
        "<td>16477</td>\n",
        "<td>17181</td>\n",
        "<td>17181</td>\n",
        "<td>17433</td>\n",
        "<td>17433</td>\n",
        "<td>17504</td>\n",
        "<td>17504</td>\n",
        "<td>17518</td>\n",
        "<td>17518</td>\n",
        "<td>0</td>\n",
        "<td>14980</td>\n",
        "<td>14980</td>\n",
        "<td>9382</td>\n",
        "<td>14381</td>\n",
        "<td>1283</td></tr></table></div>"
       ],
       "metadata": {},
       "output_type": "display_data",
       "text": [
        "               Year Local      Month Local    Day Local      Hour Local     Year UTC        Month UTC      Day UTC        Hour UTC       Cavok Reported    Cloud Ceiling (m)    Cloud Cover Fraction    Cloud Cover Fraction 1    Cloud Cover Fraction 2    Cloud Cover Fraction 3    Cloud Cover Fraction 4    Cloud Cover Fraction 5    Cloud Cover Fraction 6    Cloud Height (m) 1    Cloud Height (m) 2    Cloud Height (m) 3    Cloud Height (m) 4    Cloud Height (m) 5    Cloud Height (m) 6    Dew Point (C)    Humidity Fraction    Precipitation One Hour (mm)    Pressure Altimeter (mbar)    Pressure Sea Level (mbar)    Pressure Station (mbar)    Snow Depth (cm)    Temperature (C)    Visibility (km)    Weather Code 1    Weather Code 1/ Description    Weather Code 2    Weather Code 2/ Description    Weather Code 3    Weather Code 3/ Description    Weather Code 4    Weather Code 4/ Description    Weather Code 5    Weather Code 5/ Description    Weather Code 6    Weather Code 6/ Description    Weather Code Most Severe / Icon Code    Weather Code Most Severe    Weather Code Most Severe / Description    Wind Direction (degrees)    Wind Gust (m/s)    Wind Speed (m/s)\n",
        "-------------  --------------  -------------  -------------  -------------  --------------  -------------  -------------  -------------  ----------------  -------------------  ----------------------  ------------------------  ------------------------  ------------------------  ------------------------  ------------------------  ------------------------  --------------------  --------------------  --------------------  --------------------  --------------------  --------------------  ---------------  -------------------  -----------------------------  ---------------------------  ---------------------------  -------------------------  -----------------  -----------------  -----------------  ----------------  -----------------------------  ----------------  -----------------------------  ----------------  -----------------------------  ----------------  -----------------------------  ----------------  -----------------------------  ----------------  -----------------------------  --------------------------------------  --------------------------  ----------------------------------------  --------------------------  -----------------  ------------------\n",
        "type           int             int            int            int            int             int            int            int            int               real                 real                    real                      real                      real                      int                       int                       int                       real                  real                  real                  int                   int                   int                   real             real                 real                           real                         int                          int                        int                real               real               int               enum                           int               enum                           int               enum                           int               enum                           int               enum                           int               enum                           int                                     int                         enum                                      int                         real               real\n",
        "mins           2013.0          1.0            1.0            0.0            2013.0          1.0            1.0            0.0            0.0               61.0                 0.0                     0.0                       0.25                      0.5                       NaN                       NaN                       NaN                       60.96                 213.36                365.76                NaN                   NaN                   NaN                   -26.7            0.1251               0.0                            983.2949                     NaN                          NaN                        NaN                -15.6              0.001              1.0               0.0                            1.0               0.0                            1.0               0.0                            1.0               0.0                            1.0               0.0                            3.0               0.0                            0.0                                     1.0                         0.0                                       10.0                        7.2                0.0\n",
        "maxs           2014.0          12.0           31.0           23.0           2015.0          12.0           31.0           23.0           0.0               3657.6               1.0                     1.0                       1.0                       1.0                       NaN                       NaN                       NaN                       3657.5999             3657.5999             3657.5999             NaN                   NaN                   NaN                   24.4             1.0                  26.924                         1042.2113                    NaN                          NaN                        NaN                36.1               16.0934            60.0              11.0                           60.0              10.0                           36.0              7.0                            27.0              4.0                            27.0              2.0                            3.0               0.0                            16.0                                    60.0                        11.0                                      360.0                       20.58              10.8\n",
        "mean           2013.5          6.52602739726  15.7205479452  11.5           2013.50057078   6.52511415525  15.721347032   11.5001141553  0.0               1306.31195846        0.416742490522          0.361207349081            0.872445384073            0.963045685279            0.0                       0.0                       0.0                       1293.9822682          1643.73900166         2084.89386376         0.0                   0.0                   0.0                   4.31304646766    0.596736389159       1.37993010753                  1017.82581441                0.0                          0.0                        0.0                12.5789090701      14.3914429682      4.84251968504     NaN                            3.65867689358     NaN                            2.84660766962     NaN                            2.01149425287     NaN                            4.125             NaN                            3.0               0.0                            1.37848173516                           4.84251968504               NaN                                       194.69525682                9.42216948073      2.41032887849\n",
        "sigma          0.500014270017  3.44794972385  8.79649804852  6.92238411188  0.500584411716  3.44782405458  8.79561488868  6.92230165203  0.0               995.339856966        0.462720830993          0.42770569708             0.197155690367            0.0861015598104           -0.0                      -0.0                      -0.0                      962.743095854         916.73861349          887.215847511         -0.0                  -0.0                  -0.0                  10.9731282097    0.185792011866       2.56215129179                  7.46451697179                -0.0                         -0.0                       -0.0               10.0396739531      3.69893623033      5.70486576983     NaN                            6.13386253912     NaN                            5.80553286364     NaN                            3.12340844261     NaN                            6.15223536611     NaN                            0.0               0.0                            4.07386062702                           5.70486576983               NaN                                       106.350000031               1.81511871115      1.61469790524\n",
        "zero_count     0               0              0              730            0               0              0              730            17455             0                    8758                    8758                      0                         0                         -17520                    -17520                    -17520                    0                     0                     0                     -17520                -17520                -17520                268              0                    501                            0                            -17520                       -17520                     -17520             269                0                  0                 17                             0                 30                             0                 13                             -5044             -5024                          -11241            -11229                         -17030            -17028                         14980                                   0                           17                                        0                           0                  2768\n",
        "missing_count  0               0              0              0              0               0              0              0              65                10780                375                     375                       14682                     16535                     17520                     17520                     17520                     9103                  14683                 16535                 17520                 17520                 17520                 67               67                   15660                          360                          17520                        17520                      17520              67                 412                14980             14980                          16477             16477                          17181             17181                          17433             17433                          17504             17504                          17518             17518                          0                                       14980                       14980                                     9382                        14381              1283"
       ]
      }
     ],
     "prompt_number": 15
    },
    {
     "cell_type": "code",
     "collapsed": false,
     "input": [
      "# Lots of columns in there!  Lets plan on converting to time-since-epoch to do\n",
      "# a 'join' with the bike data, plus gather weather info that might affect\n",
      "# cyclists - rain, snow, temperature.  Alas, drop the \"snow\" column since it's\n",
      "# all NA's.  Also add in dew point and humidity just in case.  Slice out just\n",
      "# the columns of interest and drop the rest.\n",
      "wthr2 = wthr1[[\"Year Local\",\"Month Local\",\"Day Local\",\"Hour Local\",\"Dew Point (C)\",\"Humidity Fraction\",\"Precipitation One Hour (mm)\",\"Temperature (C)\",\"Weather Code 1/ Description\"]]\n",
      "\n",
      "wthr2.set_name(wthr2.names.index(\"Precipitation One Hour (mm)\"), \"Rain (mm)\")\n",
      "wthr2.set_name(wthr2.names.index(\"Weather Code 1/ Description\"), \"WC1\")\n",
      "wthr2.describe()\n",
      "# Much better!  "
     ],
     "language": "python",
     "metadata": {},
     "outputs": [
      {
       "output_type": "stream",
       "stream": "stdout",
       "text": [
        "Rows: 17,520 Cols: 9\n",
        "\n",
        "Chunk compression summary:\n"
       ]
      },
      {
       "html": [
        "<div style=\"overflow:auto\"><table style=\"width:50%\"><tr><td>chunk_type</td>\n",
        "<td>chunk_name</td>\n",
        "<td>count</td>\n",
        "<td>count_percentage</td>\n",
        "<td>size</td>\n",
        "<td>size_percentage</td></tr>\n",
        "<tr><td>C0L</td>\n",
        "<td>Constant Integers</td>\n",
        "<td>46</td>\n",
        "<td>15.0326805</td>\n",
        "<td>    3.6 KB</td>\n",
        "<td>1.780005</td></tr>\n",
        "<tr><td>C1</td>\n",
        "<td>1-Byte Integers</td>\n",
        "<td>34</td>\n",
        "<td>11.111112</td>\n",
        "<td>   19.4 KB</td>\n",
        "<td>9.592678</td></tr>\n",
        "<tr><td>C1N</td>\n",
        "<td>1-Byte Integers (w/o NAs)</td>\n",
        "<td>90</td>\n",
        "<td>29.411766</td>\n",
        "<td>   51.5 KB</td>\n",
        "<td>25.494701</td></tr>\n",
        "<tr><td>C1S</td>\n",
        "<td>1-Byte Fractions</td>\n",
        "<td>42</td>\n",
        "<td>13.725491</td>\n",
        "<td>   24.0 KB</td>\n",
        "<td>11.894592</td></tr>\n",
        "<tr><td>C2S</td>\n",
        "<td>2-Byte Fractions</td>\n",
        "<td>94</td>\n",
        "<td>30.718956</td>\n",
        "<td>  103.4 KB</td>\n",
        "<td>51.238026</td></tr></table></div>"
       ],
       "metadata": {},
       "output_type": "display_data",
       "text": [
        "chunk_type    chunk_name                 count    count_percentage    size      size_percentage\n",
        "------------  -------------------------  -------  ------------------  --------  -----------------\n",
        "C0L           Constant Integers          46       15.0327             3.6 KB    1.78001\n",
        "C1            1-Byte Integers            34       11.1111             19.4 KB   9.59268\n",
        "C1N           1-Byte Integers (w/o NAs)  90       29.4118             51.5 KB   25.4947\n",
        "C1S           1-Byte Fractions           42       13.7255             24.0 KB   11.8946\n",
        "C2S           2-Byte Fractions           94       30.719              103.4 KB  51.238"
       ]
      },
      {
       "output_type": "stream",
       "stream": "stdout",
       "text": [
        "\n",
        "Frame distribution summary:\n"
       ]
      },
      {
       "html": [
        "<div style=\"overflow:auto\"><table style=\"width:50%\"><tr><td></td>\n",
        "<td>size</td>\n",
        "<td>number_of_rows</td>\n",
        "<td>number_of_chunks_per_column</td>\n",
        "<td>number_of_chunks</td></tr>\n",
        "<tr><td>10.0.0.24:54321</td>\n",
        "<td>  201.9 KB</td>\n",
        "<td>17520.0</td>\n",
        "<td>34.0</td>\n",
        "<td>306.0</td></tr>\n",
        "<tr><td>mean</td>\n",
        "<td>  201.9 KB</td>\n",
        "<td>17520.0</td>\n",
        "<td>34.0</td>\n",
        "<td>306.0</td></tr>\n",
        "<tr><td>min</td>\n",
        "<td>  201.9 KB</td>\n",
        "<td>17520.0</td>\n",
        "<td>34.0</td>\n",
        "<td>306.0</td></tr>\n",
        "<tr><td>max</td>\n",
        "<td>  201.9 KB</td>\n",
        "<td>17520.0</td>\n",
        "<td>34.0</td>\n",
        "<td>306.0</td></tr>\n",
        "<tr><td>stddev</td>\n",
        "<td>      0  B</td>\n",
        "<td>0.0</td>\n",
        "<td>0.0</td>\n",
        "<td>0.0</td></tr>\n",
        "<tr><td>total</td>\n",
        "<td>  201.9 KB</td>\n",
        "<td>17520.0</td>\n",
        "<td>34.0</td>\n",
        "<td>306.0</td></tr></table></div>"
       ],
       "metadata": {},
       "output_type": "display_data",
       "text": [
        "                 size      number_of_rows    number_of_chunks_per_column    number_of_chunks\n",
        "---------------  --------  ----------------  -----------------------------  ------------------\n",
        "10.0.0.24:54321  201.9 KB  17520             34                             306\n",
        "mean             201.9 KB  17520             34                             306\n",
        "min              201.9 KB  17520             34                             306\n",
        "max              201.9 KB  17520             34                             306\n",
        "stddev           0  B      0                 0                              0\n",
        "total            201.9 KB  17520             34                             306"
       ]
      },
      {
       "output_type": "stream",
       "stream": "stdout",
       "text": [
        "\n",
        "Column-by-Column Summary:\n",
        "\n"
       ]
      },
      {
       "html": [
        "<div style=\"overflow:auto\"><table style=\"width:50%\"><tr><td></td>\n",
        "<td>Year Local</td>\n",
        "<td>Month Local</td>\n",
        "<td>Day Local</td>\n",
        "<td>Hour Local</td>\n",
        "<td>Dew Point (C)</td>\n",
        "<td>Humidity Fraction</td>\n",
        "<td>Rain (mm)</td>\n",
        "<td>Temperature (C)</td>\n",
        "<td>WC1</td></tr>\n",
        "<tr><td>type</td>\n",
        "<td>int</td>\n",
        "<td>int</td>\n",
        "<td>int</td>\n",
        "<td>int</td>\n",
        "<td>real</td>\n",
        "<td>real</td>\n",
        "<td>real</td>\n",
        "<td>real</td>\n",
        "<td>enum</td></tr>\n",
        "<tr><td>mins</td>\n",
        "<td>2013.0</td>\n",
        "<td>1.0</td>\n",
        "<td>1.0</td>\n",
        "<td>0.0</td>\n",
        "<td>-26.7</td>\n",
        "<td>0.1251</td>\n",
        "<td>0.0</td>\n",
        "<td>-15.6</td>\n",
        "<td>0.0</td></tr>\n",
        "<tr><td>maxs</td>\n",
        "<td>2014.0</td>\n",
        "<td>12.0</td>\n",
        "<td>31.0</td>\n",
        "<td>23.0</td>\n",
        "<td>24.4</td>\n",
        "<td>1.0</td>\n",
        "<td>26.924</td>\n",
        "<td>36.1</td>\n",
        "<td>11.0</td></tr>\n",
        "<tr><td>mean</td>\n",
        "<td>2013.5</td>\n",
        "<td>6.52602739726</td>\n",
        "<td>15.7205479452</td>\n",
        "<td>11.5</td>\n",
        "<td>4.31304646766</td>\n",
        "<td>0.596736389159</td>\n",
        "<td>1.37993010753</td>\n",
        "<td>12.5789090701</td>\n",
        "<td>NaN</td></tr>\n",
        "<tr><td>sigma</td>\n",
        "<td>0.500014270017</td>\n",
        "<td>3.44794972385</td>\n",
        "<td>8.79649804852</td>\n",
        "<td>6.92238411188</td>\n",
        "<td>10.9731282097</td>\n",
        "<td>0.185792011866</td>\n",
        "<td>2.56215129179</td>\n",
        "<td>10.0396739531</td>\n",
        "<td>NaN</td></tr>\n",
        "<tr><td>zero_count</td>\n",
        "<td>0</td>\n",
        "<td>0</td>\n",
        "<td>0</td>\n",
        "<td>730</td>\n",
        "<td>268</td>\n",
        "<td>0</td>\n",
        "<td>501</td>\n",
        "<td>269</td>\n",
        "<td>17</td></tr>\n",
        "<tr><td>missing_count</td>\n",
        "<td>0</td>\n",
        "<td>0</td>\n",
        "<td>0</td>\n",
        "<td>0</td>\n",
        "<td>67</td>\n",
        "<td>67</td>\n",
        "<td>15660</td>\n",
        "<td>67</td>\n",
        "<td>14980</td></tr></table></div>"
       ],
       "metadata": {},
       "output_type": "display_data",
       "text": [
        "               Year Local      Month Local    Day Local      Hour Local     Dew Point (C)    Humidity Fraction    Rain (mm)      Temperature (C)    WC1\n",
        "-------------  --------------  -------------  -------------  -------------  ---------------  -------------------  -------------  -----------------  -----\n",
        "type           int             int            int            int            real             real                 real           real               enum\n",
        "mins           2013.0          1.0            1.0            0.0            -26.7            0.1251               0.0            -15.6              0.0\n",
        "maxs           2014.0          12.0           31.0           23.0           24.4             1.0                  26.924         36.1               11.0\n",
        "mean           2013.5          6.52602739726  15.7205479452  11.5           4.31304646766    0.596736389159       1.37993010753  12.5789090701      NaN\n",
        "sigma          0.500014270017  3.44794972385  8.79649804852  6.92238411188  10.9731282097    0.185792011866       2.56215129179  10.0396739531      NaN\n",
        "zero_count     0               0              0              730            268              0                    501            269                17\n",
        "missing_count  0               0              0              0              67               67                   15660          67                 14980"
       ]
      }
     ],
     "prompt_number": 16
    },
    {
     "cell_type": "code",
     "collapsed": false,
     "input": [
      "# Filter down to the weather at Noon\n",
      "wthr3 = wthr2[ wthr2[\"Hour Local\"]==12 ]"
     ],
     "language": "python",
     "metadata": {},
     "outputs": [],
     "prompt_number": 17
    },
    {
     "cell_type": "code",
     "collapsed": false,
     "input": [
      "# Lets now get Days since the epoch... we'll convert year/month/day into Epoch\n",
      "# time, and then back to Epoch days.  Need zero-based month and days, but have\n",
      "# 1-based.\n",
      "wthr3[\"msec\"] = h2o.H2OFrame.mktime(year=wthr3[\"Year Local\"], month=wthr3[\"Month Local\"]-1, day=wthr3[\"Day Local\"]-1, hour=wthr3[\"Hour Local\"])\n",
      "secsPerDay=1000*60*60*24\n",
      "wthr3[\"Days\"] = (wthr3[\"msec\"]/secsPerDay).floor()\n",
      "wthr3.describe()\n",
      "# msec looks sane (numbers like 1.3e12 are in the correct range for msec since\n",
      "# 1970).  Epoch Days matches closely with the epoch day numbers from the\n",
      "# CitiBike dataset.  "
     ],
     "language": "python",
     "metadata": {},
     "outputs": [
      {
       "output_type": "stream",
       "stream": "stdout",
       "text": [
        "Rows: 730 Cols: 11\n",
        "\n",
        "Chunk compression summary:\n"
       ]
      },
      {
       "html": [
        "<div style=\"overflow:auto\"><table style=\"width:50%\"><tr><td>chunk_type</td>\n",
        "<td>chunk_name</td>\n",
        "<td>count</td>\n",
        "<td>count_percentage</td>\n",
        "<td>size</td>\n",
        "<td>size_percentage</td></tr>\n",
        "<tr><td>C0L</td>\n",
        "<td>Constant Integers</td>\n",
        "<td>80</td>\n",
        "<td>21.390373</td>\n",
        "<td>    6.3 KB</td>\n",
        "<td>12.498779</td></tr>\n",
        "<tr><td>C0D</td>\n",
        "<td>Constant Reals</td>\n",
        "<td>13</td>\n",
        "<td>3.4759357</td>\n",
        "<td>    1.0 KB</td>\n",
        "<td>2.0310516</td></tr>\n",
        "<tr><td>C1</td>\n",
        "<td>1-Byte Integers</td>\n",
        "<td>30</td>\n",
        "<td>8.021391</td>\n",
        "<td>    2.6 KB</td>\n",
        "<td>5.2455816</td></tr>\n",
        "<tr><td>C1N</td>\n",
        "<td>1-Byte Integers (w/o NAs)</td>\n",
        "<td>56</td>\n",
        "<td>14.973262</td>\n",
        "<td>    4.9 KB</td>\n",
        "<td>9.801778</td></tr>\n",
        "<tr><td>C1S</td>\n",
        "<td>1-Byte Fractions</td>\n",
        "<td>34</td>\n",
        "<td>9.090909</td>\n",
        "<td>    3.5 KB</td>\n",
        "<td>7.0032225</td></tr>\n",
        "<tr><td>C2S</td>\n",
        "<td>2-Byte Fractions</td>\n",
        "<td>34</td>\n",
        "<td>9.090909</td>\n",
        "<td>    4.2 KB</td>\n",
        "<td>8.4288645</td></tr>\n",
        "<tr><td>CUD</td>\n",
        "<td>Unique Reals</td>\n",
        "<td>25</td>\n",
        "<td>6.6844916</td>\n",
        "<td>    3.6 KB</td>\n",
        "<td>7.2297626</td></tr>\n",
        "<tr><td>C8D</td>\n",
        "<td>64-bit Reals</td>\n",
        "<td>102</td>\n",
        "<td>27.272728</td>\n",
        "<td>   23.9 KB</td>\n",
        "<td>47.76096</td></tr></table></div>"
       ],
       "metadata": {},
       "output_type": "display_data",
       "text": [
        "chunk_type    chunk_name                 count    count_percentage    size     size_percentage\n",
        "------------  -------------------------  -------  ------------------  -------  -----------------\n",
        "C0L           Constant Integers          80       21.3904             6.3 KB   12.4988\n",
        "C0D           Constant Reals             13       3.47594             1.0 KB   2.03105\n",
        "C1            1-Byte Integers            30       8.02139             2.6 KB   5.24558\n",
        "C1N           1-Byte Integers (w/o NAs)  56       14.9733             4.9 KB   9.80178\n",
        "C1S           1-Byte Fractions           34       9.09091             3.5 KB   7.00322\n",
        "C2S           2-Byte Fractions           34       9.09091             4.2 KB   8.42886\n",
        "CUD           Unique Reals               25       6.68449             3.6 KB   7.22976\n",
        "C8D           64-bit Reals               102      27.2727             23.9 KB  47.761"
       ]
      },
      {
       "output_type": "stream",
       "stream": "stdout",
       "text": [
        "\n",
        "Frame distribution summary:\n"
       ]
      },
      {
       "html": [
        "<div style=\"overflow:auto\"><table style=\"width:50%\"><tr><td></td>\n",
        "<td>size</td>\n",
        "<td>number_of_rows</td>\n",
        "<td>number_of_chunks_per_column</td>\n",
        "<td>number_of_chunks</td></tr>\n",
        "<tr><td>10.0.0.24:54321</td>\n",
        "<td>   50.0 KB</td>\n",
        "<td>730.0</td>\n",
        "<td>34.0</td>\n",
        "<td>374.0</td></tr>\n",
        "<tr><td>mean</td>\n",
        "<td>   50.0 KB</td>\n",
        "<td>730.0</td>\n",
        "<td>34.0</td>\n",
        "<td>374.0</td></tr>\n",
        "<tr><td>min</td>\n",
        "<td>   50.0 KB</td>\n",
        "<td>730.0</td>\n",
        "<td>34.0</td>\n",
        "<td>374.0</td></tr>\n",
        "<tr><td>max</td>\n",
        "<td>   50.0 KB</td>\n",
        "<td>730.0</td>\n",
        "<td>34.0</td>\n",
        "<td>374.0</td></tr>\n",
        "<tr><td>stddev</td>\n",
        "<td>      0  B</td>\n",
        "<td>0.0</td>\n",
        "<td>0.0</td>\n",
        "<td>0.0</td></tr>\n",
        "<tr><td>total</td>\n",
        "<td>   50.0 KB</td>\n",
        "<td>730.0</td>\n",
        "<td>34.0</td>\n",
        "<td>374.0</td></tr></table></div>"
       ],
       "metadata": {},
       "output_type": "display_data",
       "text": [
        "                 size     number_of_rows    number_of_chunks_per_column    number_of_chunks\n",
        "---------------  -------  ----------------  -----------------------------  ------------------\n",
        "10.0.0.24:54321  50.0 KB  730               34                             374\n",
        "mean             50.0 KB  730               34                             374\n",
        "min              50.0 KB  730               34                             374\n",
        "max              50.0 KB  730               34                             374\n",
        "stddev           0  B     0                 0                              0\n",
        "total            50.0 KB  730               34                             374"
       ]
      },
      {
       "output_type": "stream",
       "stream": "stdout",
       "text": [
        "\n",
        "Column-by-Column Summary:\n",
        "\n"
       ]
      },
      {
       "html": [
        "<div style=\"overflow:auto\"><table style=\"width:50%\"><tr><td></td>\n",
        "<td>Year Local</td>\n",
        "<td>Month Local</td>\n",
        "<td>Day Local</td>\n",
        "<td>Hour Local</td>\n",
        "<td>Dew Point (C)</td>\n",
        "<td>Humidity Fraction</td>\n",
        "<td>Rain (mm)</td>\n",
        "<td>Temperature (C)</td>\n",
        "<td>WC1</td>\n",
        "<td>msec</td>\n",
        "<td>Days</td></tr>\n",
        "<tr><td>type</td>\n",
        "<td>int</td>\n",
        "<td>int</td>\n",
        "<td>int</td>\n",
        "<td>int</td>\n",
        "<td>real</td>\n",
        "<td>real</td>\n",
        "<td>real</td>\n",
        "<td>real</td>\n",
        "<td>enum</td>\n",
        "<td>int</td>\n",
        "<td>int</td></tr>\n",
        "<tr><td>mins</td>\n",
        "<td>2013.0</td>\n",
        "<td>1.0</td>\n",
        "<td>1.0</td>\n",
        "<td>12.0</td>\n",
        "<td>-26.7</td>\n",
        "<td>0.1723</td>\n",
        "<td>0.0</td>\n",
        "<td>-13.9</td>\n",
        "<td>0.0</td>\n",
        "<td>1.3570704e+12</td>\n",
        "<td>15706.0</td></tr>\n",
        "<tr><td>maxs</td>\n",
        "<td>2014.0</td>\n",
        "<td>12.0</td>\n",
        "<td>31.0</td>\n",
        "<td>12.0</td>\n",
        "<td>23.3</td>\n",
        "<td>1.0</td>\n",
        "<td>12.446</td>\n",
        "<td>34.4</td>\n",
        "<td>10.0</td>\n",
        "<td>1.420056e+12</td>\n",
        "<td>16435.0</td></tr>\n",
        "<tr><td>mean</td>\n",
        "<td>2013.5</td>\n",
        "<td>6.52602739726</td>\n",
        "<td>15.7205479452</td>\n",
        "<td>12.0</td>\n",
        "<td>4.23012379642</td>\n",
        "<td>0.539728198074</td>\n",
        "<td>1.53125714286</td>\n",
        "<td>14.0687757909</td>\n",
        "<td>NaN</td>\n",
        "<td>1.3885608526e+12</td>\n",
        "<td>16070.5</td></tr>\n",
        "<tr><td>sigma</td>\n",
        "<td>0.500342818004</td>\n",
        "<td>3.45021529307</td>\n",
        "<td>8.80227802701</td>\n",
        "<td>0.0</td>\n",
        "<td>11.1062964725</td>\n",
        "<td>0.179945027923</td>\n",
        "<td>2.36064248615</td>\n",
        "<td>10.3989855149</td>\n",
        "<td>NaN</td>\n",
        "<td>18219740080.4</td>\n",
        "<td>210.877136425</td></tr>\n",
        "<tr><td>zero_count</td>\n",
        "<td>0</td>\n",
        "<td>0</td>\n",
        "<td>0</td>\n",
        "<td>0</td>\n",
        "<td>14</td>\n",
        "<td>0</td>\n",
        "<td>-174</td>\n",
        "<td>7</td>\n",
        "<td>-83</td>\n",
        "<td>0</td>\n",
        "<td>0</td></tr>\n",
        "<tr><td>missing_count</td>\n",
        "<td>0</td>\n",
        "<td>0</td>\n",
        "<td>0</td>\n",
        "<td>0</td>\n",
        "<td>3</td>\n",
        "<td>3</td>\n",
        "<td>660</td>\n",
        "<td>3</td>\n",
        "<td>620</td>\n",
        "<td>0</td>\n",
        "<td>0</td></tr></table></div>"
       ],
       "metadata": {},
       "output_type": "display_data",
       "text": [
        "               Year Local      Month Local    Day Local      Hour Local    Dew Point (C)    Humidity Fraction    Rain (mm)      Temperature (C)    WC1    msec              Days\n",
        "-------------  --------------  -------------  -------------  ------------  ---------------  -------------------  -------------  -----------------  -----  ----------------  -------------\n",
        "type           int             int            int            int           real             real                 real           real               enum   int               int\n",
        "mins           2013.0          1.0            1.0            12.0          -26.7            0.1723               0.0            -13.9              0.0    1.3570704e+12     15706.0\n",
        "maxs           2014.0          12.0           31.0           12.0          23.3             1.0                  12.446         34.4               10.0   1.420056e+12      16435.0\n",
        "mean           2013.5          6.52602739726  15.7205479452  12.0          4.23012379642    0.539728198074       1.53125714286  14.0687757909      NaN    1.3885608526e+12  16070.5\n",
        "sigma          0.500342818004  3.45021529307  8.80227802701  0.0           11.1062964725    0.179945027923       2.36064248615  10.3989855149      NaN    18219740080.4     210.877136425\n",
        "zero_count     0               0              0              0             14               0                    -174           7                  -83    0                 0\n",
        "missing_count  0               0              0              0             3                3                    660            3                  620    0                 0"
       ]
      }
     ],
     "prompt_number": 18
    },
    {
     "cell_type": "code",
     "collapsed": false,
     "input": [
      "# Lets drop off the extra time columns to make a easy-to-handle dataset.\n",
      "wthr4 = wthr3.drop(\"Year Local\").drop(\"Month Local\").drop(\"Day Local\").drop(\"Hour Local\").drop(\"msec\")"
     ],
     "language": "python",
     "metadata": {},
     "outputs": [],
     "prompt_number": 19
    },
    {
     "cell_type": "code",
     "collapsed": false,
     "input": [
      "# Also, most rain numbers are missing - lets assume those are zero rain days\n",
      "rain = wthr4[\"Rain (mm)\"]\n",
      "rain[ rain.isna() ] = 0\n",
      "wthr4[\"Rain (mm)\"] = rain"
     ],
     "language": "python",
     "metadata": {},
     "outputs": [],
     "prompt_number": 20
    },
    {
     "cell_type": "code",
     "collapsed": false,
     "input": [
      "# ----------\n",
      "# 6 - Join the weather data-per-day to the bike-starts-per-day\n",
      "print \"Merge Daily Weather with Bikes-Per-Day\"\n",
      "bpd_with_weather = bpd.merge(wthr4,allLeft=True,allRite=False)\n",
      "bpd_with_weather.describe()\n",
      "bpd_with_weather.show()"
     ],
     "language": "python",
     "metadata": {},
     "outputs": [
      {
       "output_type": "stream",
       "stream": "stdout",
       "text": [
        "Merge Daily Weather with Bikes-Per-Day\n",
        "Rows:"
       ]
      },
      {
       "output_type": "stream",
       "stream": "stdout",
       "text": [
        " 10,450 Cols: 10\n",
        "\n",
        "Chunk compression summary:\n"
       ]
      },
      {
       "html": [
        "<div style=\"overflow:auto\"><table style=\"width:50%\"><tr><td>chunk_type</td>\n",
        "<td>chunk_name</td>\n",
        "<td>count</td>\n",
        "<td>count_percentage</td>\n",
        "<td>size</td>\n",
        "<td>size_percentage</td></tr>\n",
        "<tr><td>CBS</td>\n",
        "<td>Bits</td>\n",
        "<td>32</td>\n",
        "<td>10.0</td>\n",
        "<td>    3.5 KB</td>\n",
        "<td>1.8682255</td></tr>\n",
        "<tr><td>C1</td>\n",
        "<td>1-Byte Integers</td>\n",
        "<td>32</td>\n",
        "<td>10.0</td>\n",
        "<td>   12.3 KB</td>\n",
        "<td>6.637089</td></tr>\n",
        "<tr><td>C1N</td>\n",
        "<td>1-Byte Integers (w/o NAs)</td>\n",
        "<td>32</td>\n",
        "<td>10.0</td>\n",
        "<td>   12.3 KB</td>\n",
        "<td>6.637089</td></tr>\n",
        "<tr><td>C1S</td>\n",
        "<td>1-Byte Fractions</td>\n",
        "<td>32</td>\n",
        "<td>10.0</td>\n",
        "<td>   12.8 KB</td>\n",
        "<td>6.9062314</td></tr>\n",
        "<tr><td>C2</td>\n",
        "<td>2-Byte Integers</td>\n",
        "<td>64</td>\n",
        "<td>20.0</td>\n",
        "<td>   45.1 KB</td>\n",
        "<td>24.260647</td></tr>\n",
        "<tr><td>CXD</td>\n",
        "<td>Sparse Reals</td>\n",
        "<td>18</td>\n",
        "<td>5.625</td>\n",
        "<td>    2.9 KB</td>\n",
        "<td>1.5780565</td></tr>\n",
        "<tr><td>CUD</td>\n",
        "<td>Unique Reals</td>\n",
        "<td>110</td>\n",
        "<td>34.375</td>\n",
        "<td>   96.8 KB</td>\n",
        "<td>52.112663</td></tr></table></div>"
       ],
       "metadata": {},
       "output_type": "display_data",
       "text": [
        "chunk_type    chunk_name                 count    count_percentage    size     size_percentage\n",
        "------------  -------------------------  -------  ------------------  -------  -----------------\n",
        "CBS           Bits                       32       10                  3.5 KB   1.86823\n",
        "C1            1-Byte Integers            32       10                  12.3 KB  6.63709\n",
        "C1N           1-Byte Integers (w/o NAs)  32       10                  12.3 KB  6.63709\n",
        "C1S           1-Byte Fractions           32       10                  12.8 KB  6.90623\n",
        "C2            2-Byte Integers            64       20                  45.1 KB  24.2606\n",
        "CXD           Sparse Reals               18       5.625               2.9 KB   1.57806\n",
        "CUD           Unique Reals               110      34.375              96.8 KB  52.1127"
       ]
      },
      {
       "output_type": "stream",
       "stream": "stdout",
       "text": [
        "\n",
        "Frame distribution summary:\n"
       ]
      },
      {
       "html": [
        "<div style=\"overflow:auto\"><table style=\"width:50%\"><tr><td></td>\n",
        "<td>size</td>\n",
        "<td>number_of_rows</td>\n",
        "<td>number_of_chunks_per_column</td>\n",
        "<td>number_of_chunks</td></tr>\n",
        "<tr><td>10.0.0.24:54321</td>\n",
        "<td>  185.8 KB</td>\n",
        "<td>10450.0</td>\n",
        "<td>32.0</td>\n",
        "<td>320.0</td></tr>\n",
        "<tr><td>mean</td>\n",
        "<td>  185.8 KB</td>\n",
        "<td>10450.0</td>\n",
        "<td>32.0</td>\n",
        "<td>320.0</td></tr>\n",
        "<tr><td>min</td>\n",
        "<td>  185.8 KB</td>\n",
        "<td>10450.0</td>\n",
        "<td>32.0</td>\n",
        "<td>320.0</td></tr>\n",
        "<tr><td>max</td>\n",
        "<td>  185.8 KB</td>\n",
        "<td>10450.0</td>\n",
        "<td>32.0</td>\n",
        "<td>320.0</td></tr>\n",
        "<tr><td>stddev</td>\n",
        "<td>      0  B</td>\n",
        "<td>0.0</td>\n",
        "<td>0.0</td>\n",
        "<td>0.0</td></tr>\n",
        "<tr><td>total</td>\n",
        "<td>  185.8 KB</td>\n",
        "<td>10450.0</td>\n",
        "<td>32.0</td>\n",
        "<td>320.0</td></tr></table></div>"
       ],
       "metadata": {},
       "output_type": "display_data",
       "text": [
        "                 size      number_of_rows    number_of_chunks_per_column    number_of_chunks\n",
        "---------------  --------  ----------------  -----------------------------  ------------------\n",
        "10.0.0.24:54321  185.8 KB  10450             32                             320\n",
        "mean             185.8 KB  10450             32                             320\n",
        "min              185.8 KB  10450             32                             320\n",
        "max              185.8 KB  10450             32                             320\n",
        "stddev           0  B      0                 0                              0\n",
        "total            185.8 KB  10450             32                             320"
       ]
      },
      {
       "output_type": "stream",
       "stream": "stdout",
       "text": [
        "\n",
        "Column-by-Column Summary:\n",
        "\n"
       ]
      },
      {
       "html": [
        "<div style=\"overflow:auto\"><table style=\"width:50%\"><tr><td></td>\n",
        "<td>Days</td>\n",
        "<td>start station name</td>\n",
        "<td>bikes</td>\n",
        "<td>Month</td>\n",
        "<td>DayOfWeek</td>\n",
        "<td>Humidity Fraction</td>\n",
        "<td>Rain (mm)</td>\n",
        "<td>Temperature (C)</td>\n",
        "<td>WC1</td>\n",
        "<td>Dew Point (C)</td></tr>\n",
        "<tr><td>type</td>\n",
        "<td>int</td>\n",
        "<td>enum</td>\n",
        "<td>int</td>\n",
        "<td>enum</td>\n",
        "<td>enum</td>\n",
        "<td>real</td>\n",
        "<td>real</td>\n",
        "<td>real</td>\n",
        "<td>enum</td>\n",
        "<td>real</td></tr>\n",
        "<tr><td>mins</td>\n",
        "<td>15979.0</td>\n",
        "<td>0.0</td>\n",
        "<td>1.0</td>\n",
        "<td>0.0</td>\n",
        "<td>0.0</td>\n",
        "<td>0.3485</td>\n",
        "<td>0.0</td>\n",
        "<td>9.4</td>\n",
        "<td>2.0</td>\n",
        "<td>-2.2</td></tr>\n",
        "<tr><td>maxs</td>\n",
        "<td>16010.0</td>\n",
        "<td>329.0</td>\n",
        "<td>553.0</td>\n",
        "<td>1.0</td>\n",
        "<td>6.0</td>\n",
        "<td>0.8718</td>\n",
        "<td>0.254</td>\n",
        "<td>26.1</td>\n",
        "<td>8.0</td>\n",
        "<td>19.4</td></tr>\n",
        "<tr><td>mean</td>\n",
        "<td>15994.4415311</td>\n",
        "<td>NaN</td>\n",
        "<td>99.3025837321</td>\n",
        "<td>0.968612440191</td>\n",
        "<td>NaN</td>\n",
        "<td>0.562374191388</td>\n",
        "<td>0.00794813397129</td>\n",
        "<td>16.9630717703</td>\n",
        "<td>NaN</td>\n",
        "<td>7.77999043062</td></tr>\n",
        "<tr><td>sigma</td>\n",
        "<td>9.23370172444</td>\n",
        "<td>NaN</td>\n",
        "<td>72.9721964301</td>\n",
        "<td>0.174371128617</td>\n",
        "<td>NaN</td>\n",
        "<td>0.149631413472</td>\n",
        "<td>0.0442248839098</td>\n",
        "<td>4.29746634617</td>\n",
        "<td>NaN</td>\n",
        "<td>6.49151146664</td></tr>\n",
        "<tr><td>zero_count</td>\n",
        "<td>0</td>\n",
        "<td>32</td>\n",
        "<td>0</td>\n",
        "<td>328</td>\n",
        "<td>1635</td>\n",
        "<td>0</td>\n",
        "<td>10123</td>\n",
        "<td>0</td>\n",
        "<td>0</td>\n",
        "<td>0</td></tr>\n",
        "<tr><td>missing_count</td>\n",
        "<td>0</td>\n",
        "<td>0</td>\n",
        "<td>0</td>\n",
        "<td>0</td>\n",
        "<td>0</td>\n",
        "<td>0</td>\n",
        "<td>0</td>\n",
        "<td>0</td>\n",
        "<td>9134</td>\n",
        "<td>0</td></tr></table></div>"
       ],
       "metadata": {},
       "output_type": "display_data",
       "text": [
        "               Days           start station name    bikes          Month           DayOfWeek    Humidity Fraction    Rain (mm)         Temperature (C)    WC1    Dew Point (C)\n",
        "-------------  -------------  --------------------  -------------  --------------  -----------  -------------------  ----------------  -----------------  -----  ---------------\n",
        "type           int            enum                  int            enum            enum         real                 real              real               enum   real\n",
        "mins           15979.0        0.0                   1.0            0.0             0.0          0.3485               0.0               9.4                2.0    -2.2\n",
        "maxs           16010.0        329.0                 553.0          1.0             6.0          0.8718               0.254             26.1               8.0    19.4\n",
        "mean           15994.4415311  NaN                   99.3025837321  0.968612440191  NaN          0.562374191388       0.00794813397129  16.9630717703      NaN    7.77999043062\n",
        "sigma          9.23370172444  NaN                   72.9721964301  0.174371128617  NaN          0.149631413472       0.0442248839098   4.29746634617      NaN    6.49151146664\n",
        "zero_count     0              32                    0              328             1635         0                    10123             0                  0      0\n",
        "missing_count  0              0                     0              0               0            0                    0                 0                  9134   0"
       ]
      },
      {
       "output_type": "stream",
       "stream": "stdout",
       "text": [
        "H2OFrame with 10450 rows and 10 columns: \n"
       ]
      },
      {
       "html": [
        "<div style=\"max-width:1500px;overflow:auto;\">\n",
        "<table border=\"1\" class=\"dataframe\">\n",
        "  <thead>\n",
        "    <tr style=\"text-align: right;\">\n",
        "      <th></th>\n",
        "      <th>Days</th>\n",
        "      <th>start station name</th>\n",
        "      <th>bikes</th>\n",
        "      <th>Month</th>\n",
        "      <th>DayOfWeek</th>\n",
        "      <th>Humidity Fraction</th>\n",
        "      <th>Rain (mm)</th>\n",
        "      <th>Temperature (C)</th>\n",
        "      <th>WC1</th>\n",
        "      <th>Dew Point (C)</th>\n",
        "    </tr>\n",
        "  </thead>\n",
        "  <tbody>\n",
        "    <tr>\n",
        "      <th>0</th>\n",
        "      <td>15980</td>\n",
        "      <td>9 Ave &amp; W 18 St</td>\n",
        "      <td>137</td>\n",
        "      <td>10</td>\n",
        "      <td>Tue</td>\n",
        "      <td>0.5019</td>\n",
        "      <td>0.000</td>\n",
        "      <td>25.0</td>\n",
        "      <td>NaN</td>\n",
        "      <td>13.9</td>\n",
        "    </tr>\n",
        "    <tr>\n",
        "      <th>1</th>\n",
        "      <td>15989</td>\n",
        "      <td>Allen St &amp; Hester St</td>\n",
        "      <td>110</td>\n",
        "      <td>10</td>\n",
        "      <td>Thu</td>\n",
        "      <td>0.8631</td>\n",
        "      <td>0.254</td>\n",
        "      <td>16.7</td>\n",
        "      <td>light rain</td>\n",
        "      <td>14.4</td>\n",
        "    </tr>\n",
        "    <tr>\n",
        "      <th>2</th>\n",
        "      <td>16003</td>\n",
        "      <td>Centre St &amp; Chambers St</td>\n",
        "      <td>142</td>\n",
        "      <td>10</td>\n",
        "      <td>Thu</td>\n",
        "      <td>0.4578</td>\n",
        "      <td>0.000</td>\n",
        "      <td>9.4</td>\n",
        "      <td>NaN</td>\n",
        "      <td>-1.7</td>\n",
        "    </tr>\n",
        "    <tr>\n",
        "      <th>3</th>\n",
        "      <td>15995</td>\n",
        "      <td>Concord St &amp; Bridge St</td>\n",
        "      <td>21</td>\n",
        "      <td>10</td>\n",
        "      <td>Wed</td>\n",
        "      <td>0.6765</td>\n",
        "      <td>0.000</td>\n",
        "      <td>20.6</td>\n",
        "      <td>NaN</td>\n",
        "      <td>14.4</td>\n",
        "    </tr>\n",
        "    <tr>\n",
        "      <th>4</th>\n",
        "      <td>15987</td>\n",
        "      <td>E 14 St &amp; Avenue B</td>\n",
        "      <td>113</td>\n",
        "      <td>10</td>\n",
        "      <td>Tue</td>\n",
        "      <td>0.6455</td>\n",
        "      <td>0.000</td>\n",
        "      <td>14.4</td>\n",
        "      <td>NaN</td>\n",
        "      <td>7.8</td>\n",
        "    </tr>\n",
        "    <tr>\n",
        "      <th>5</th>\n",
        "      <td>16005</td>\n",
        "      <td>8 Ave &amp; W 52 St</td>\n",
        "      <td>129</td>\n",
        "      <td>10</td>\n",
        "      <td>Sat</td>\n",
        "      <td>0.3818</td>\n",
        "      <td>0.000</td>\n",
        "      <td>12.8</td>\n",
        "      <td>NaN</td>\n",
        "      <td>-1.1</td>\n",
        "    </tr>\n",
        "    <tr>\n",
        "      <th>6</th>\n",
        "      <td>16009</td>\n",
        "      <td>South St &amp; Whitehall St</td>\n",
        "      <td>70</td>\n",
        "      <td>10</td>\n",
        "      <td>Wed</td>\n",
        "      <td>0.7265</td>\n",
        "      <td>0.000</td>\n",
        "      <td>18.3</td>\n",
        "      <td>NaN</td>\n",
        "      <td>13.3</td>\n",
        "    </tr>\n",
        "    <tr>\n",
        "      <th>7</th>\n",
        "      <td>15989</td>\n",
        "      <td>Pike St &amp; E Broadway</td>\n",
        "      <td>55</td>\n",
        "      <td>10</td>\n",
        "      <td>Thu</td>\n",
        "      <td>0.8631</td>\n",
        "      <td>0.254</td>\n",
        "      <td>16.7</td>\n",
        "      <td>light rain</td>\n",
        "      <td>14.4</td>\n",
        "    </tr>\n",
        "    <tr>\n",
        "      <th>8</th>\n",
        "      <td>15991</td>\n",
        "      <td>Watts St &amp; Greenwich St</td>\n",
        "      <td>101</td>\n",
        "      <td>10</td>\n",
        "      <td>Sat</td>\n",
        "      <td>0.6659</td>\n",
        "      <td>0.000</td>\n",
        "      <td>15.6</td>\n",
        "      <td>NaN</td>\n",
        "      <td>9.4</td>\n",
        "    </tr>\n",
        "    <tr>\n",
        "      <th>9</th>\n",
        "      <td>15985</td>\n",
        "      <td>Monroe St &amp; Bedford Ave</td>\n",
        "      <td>15</td>\n",
        "      <td>10</td>\n",
        "      <td>Sun</td>\n",
        "      <td>0.8420</td>\n",
        "      <td>0.000</td>\n",
        "      <td>22.2</td>\n",
        "      <td>NaN</td>\n",
        "      <td>19.4</td>\n",
        "    </tr>\n",
        "  </tbody>\n",
        "</table>\n",
        "</div>"
       ],
       "metadata": {},
       "output_type": "display_data",
       "text": [
        "    Days       start station name  bikes Month DayOfWeek  Humidity Fraction  \\\n",
        "0  15980          9 Ave & W 18 St    137    10       Tue             0.5019   \n",
        "1  15989     Allen St & Hester St    110    10       Thu             0.8631   \n",
        "2  16003  Centre St & Chambers St    142    10       Thu             0.4578   \n",
        "3  15995   Concord St & Bridge St     21    10       Wed             0.6765   \n",
        "4  15987       E 14 St & Avenue B    113    10       Tue             0.6455   \n",
        "5  16005          8 Ave & W 52 St    129    10       Sat             0.3818   \n",
        "6  16009  South St & Whitehall St     70    10       Wed             0.7265   \n",
        "7  15989     Pike St & E Broadway     55    10       Thu             0.8631   \n",
        "8  15991  Watts St & Greenwich St    101    10       Sat             0.6659   \n",
        "9  15985  Monroe St & Bedford Ave     15    10       Sun             0.8420   \n",
        "\n",
        "   Rain (mm)  Temperature (C)         WC1  Dew Point (C)  \n",
        "0      0.000             25.0         NaN           13.9  \n",
        "1      0.254             16.7  light rain           14.4  \n",
        "2      0.000              9.4         NaN           -1.7  \n",
        "3      0.000             20.6         NaN           14.4  \n",
        "4      0.000             14.4         NaN            7.8  \n",
        "5      0.000             12.8         NaN           -1.1  \n",
        "6      0.000             18.3         NaN           13.3  \n",
        "7      0.254             16.7  light rain           14.4  \n",
        "8      0.000             15.6         NaN            9.4  \n",
        "9      0.000             22.2         NaN           19.4  "
       ]
      }
     ],
     "prompt_number": 21
    },
    {
     "cell_type": "code",
     "collapsed": false,
     "input": [
      "# 7 - Test/Train split again, model build again, this time with weather\n",
      "split_fit_predict(bpd_with_weather)"
     ],
     "language": "python",
     "metadata": {},
     "outputs": [
      {
       "output_type": "stream",
       "stream": "stdout",
       "text": [
        "Training data has "
       ]
      },
      {
       "output_type": "stream",
       "stream": "stdout",
       "text": [
        "10 columns and 6347 rows, test has 3064 rows, holdout has "
       ]
      },
      {
       "output_type": "stream",
       "stream": "stdout",
       "text": [
        "1039\n",
        "\n"
       ]
      },
      {
       "output_type": "stream",
       "stream": "stdout",
       "text": [
        "\r",
        "gbm Model Build Progress: [                                                  ] 00%"
       ]
      },
      {
       "output_type": "stream",
       "stream": "stdout",
       "text": [
        "\r",
        "gbm Model Build Progress: [                                                  ] 01%"
       ]
      },
      {
       "output_type": "stream",
       "stream": "stdout",
       "text": [
        "\r",
        "gbm Model Build Progress: [#                                                 ] 03%"
       ]
      },
      {
       "output_type": "stream",
       "stream": "stdout",
       "text": [
        "\r",
        "gbm Model Build Progress: [###                                               ] 07%"
       ]
      },
      {
       "output_type": "stream",
       "stream": "stdout",
       "text": [
        "\r",
        "gbm Model Build Progress: [#####                                             ] 11%"
       ]
      },
      {
       "output_type": "stream",
       "stream": "stdout",
       "text": [
        "\r",
        "gbm Model Build Progress: [########                                          ] 16%"
       ]
      },
      {
       "output_type": "stream",
       "stream": "stdout",
       "text": [
        "\r",
        "gbm Model Build Progress: [##########                                        ] 20%"
       ]
      },
      {
       "output_type": "stream",
       "stream": "stdout",
       "text": [
        "\r",
        "gbm Model Build Progress: [############                                      ] 24%"
       ]
      },
      {
       "output_type": "stream",
       "stream": "stdout",
       "text": [
        "\r",
        "gbm Model Build Progress: [##############                                    ] 28%"
       ]
      },
      {
       "output_type": "stream",
       "stream": "stdout",
       "text": [
        "\r",
        "gbm Model Build Progress: [#######################                           ] 46%"
       ]
      },
      {
       "output_type": "stream",
       "stream": "stdout",
       "text": [
        "\r",
        "gbm Model Build Progress: [######################################            ] 77%"
       ]
      },
      {
       "output_type": "stream",
       "stream": "stdout",
       "text": [
        "\r",
        "gbm Model Build Progress: [##################################################] 100%"
       ]
      },
      {
       "output_type": "stream",
       "stream": "stdout",
       "text": [
        "\n",
        "\n"
       ]
      },
      {
       "output_type": "stream",
       "stream": "stdout",
       "text": [
        "\r",
        "drf Model Build Progress: [                                                  ] 00%"
       ]
      },
      {
       "output_type": "stream",
       "stream": "stdout",
       "text": [
        "\r",
        "drf Model Build Progress: [                                                  ] 00%"
       ]
      },
      {
       "output_type": "stream",
       "stream": "stdout",
       "text": [
        "\r",
        "drf Model Build Progress: [                                                  ] 01%"
       ]
      },
      {
       "output_type": "stream",
       "stream": "stdout",
       "text": [
        "\r",
        "drf Model Build Progress: [#                                                 ] 02%"
       ]
      },
      {
       "output_type": "stream",
       "stream": "stdout",
       "text": [
        "\r",
        "drf Model Build Progress: [##                                                ] 04%"
       ]
      },
      {
       "output_type": "stream",
       "stream": "stdout",
       "text": [
        "\r",
        "drf Model Build Progress: [###                                               ] 07%"
       ]
      },
      {
       "output_type": "stream",
       "stream": "stdout",
       "text": [
        "\r",
        "drf Model Build Progress: [#####                                             ] 10%"
       ]
      },
      {
       "output_type": "stream",
       "stream": "stdout",
       "text": [
        "\r",
        "drf Model Build Progress: [######                                            ] 13%"
       ]
      },
      {
       "output_type": "stream",
       "stream": "stdout",
       "text": [
        "\r",
        "drf Model Build Progress: [########                                          ] 16%"
       ]
      },
      {
       "output_type": "stream",
       "stream": "stdout",
       "text": [
        "\r",
        "drf Model Build Progress: [##########                                        ] 21%"
       ]
      },
      {
       "output_type": "stream",
       "stream": "stdout",
       "text": [
        "\r",
        "drf Model Build Progress: [##############                                    ] 28%"
       ]
      },
      {
       "output_type": "stream",
       "stream": "stdout",
       "text": [
        "\r",
        "drf Model Build Progress: [################                                  ] 33%"
       ]
      },
      {
       "output_type": "stream",
       "stream": "stdout",
       "text": [
        "\r",
        "drf Model Build Progress: [####################                              ] 40%"
       ]
      },
      {
       "output_type": "stream",
       "stream": "stdout",
       "text": [
        "\r",
        "drf Model Build Progress: [#######################                           ] 46%"
       ]
      },
      {
       "output_type": "stream",
       "stream": "stdout",
       "text": [
        "\r",
        "drf Model Build Progress: [##########################                        ] 52%"
       ]
      },
      {
       "output_type": "stream",
       "stream": "stdout",
       "text": [
        "\r",
        "drf Model Build Progress: [#############################                     ] 58%"
       ]
      },
      {
       "output_type": "stream",
       "stream": "stdout",
       "text": [
        "\r",
        "drf Model Build Progress: [#############################                     ] 59%"
       ]
      },
      {
       "output_type": "stream",
       "stream": "stdout",
       "text": [
        "\r",
        "drf Model Build Progress: [#############################                     ] 59%"
       ]
      },
      {
       "output_type": "stream",
       "stream": "stdout",
       "text": [
        "\r",
        "drf Model Build Progress: [################################                  ] 65%"
       ]
      },
      {
       "output_type": "stream",
       "stream": "stdout",
       "text": [
        "\r",
        "drf Model Build Progress: [###################################               ] 71%"
       ]
      },
      {
       "output_type": "stream",
       "stream": "stdout",
       "text": [
        "\r",
        "drf Model Build Progress: [######################################            ] 77%"
       ]
      },
      {
       "output_type": "stream",
       "stream": "stdout",
       "text": [
        "\r",
        "drf Model Build Progress: [#########################################         ] 83%"
       ]
      },
      {
       "output_type": "stream",
       "stream": "stdout",
       "text": [
        "\r",
        "drf Model Build Progress: [#############################################     ] 90%"
       ]
      },
      {
       "output_type": "stream",
       "stream": "stdout",
       "text": [
        "\r",
        "drf Model Build Progress: [################################################  ] 96%"
       ]
      },
      {
       "output_type": "stream",
       "stream": "stdout",
       "text": [
        "\r",
        "drf Model Build Progress: [##################################################] 100%"
       ]
      },
      {
       "output_type": "stream",
       "stream": "stdout",
       "text": [
        "\n",
        "\n"
       ]
      },
      {
       "output_type": "stream",
       "stream": "stdout",
       "text": [
        "\r",
        "glm Model Build Progress: [                                                  ] 00%"
       ]
      },
      {
       "output_type": "stream",
       "stream": "stdout",
       "text": [
        "\r",
        "glm Model Build Progress: [##################################################] 100%"
       ]
      },
      {
       "output_type": "stream",
       "stream": "stdout",
       "text": [
        "\n",
        "\n"
       ]
      },
      {
       "output_type": "stream",
       "stream": "stdout",
       "text": [
        "\r",
        "deeplearning Model Build Progress: [                                                  ] 00%"
       ]
      },
      {
       "output_type": "stream",
       "stream": "stdout",
       "text": [
        "\r",
        "deeplearning Model Build Progress: [                                                  ] 00%"
       ]
      },
      {
       "output_type": "stream",
       "stream": "stdout",
       "text": [
        "\r",
        "deeplearning Model Build Progress: [                                                  ] 00%"
       ]
      },
      {
       "output_type": "stream",
       "stream": "stdout",
       "text": [
        "\r",
        "deeplearning Model Build Progress: [                                                  ] 00%"
       ]
      },
      {
       "output_type": "stream",
       "stream": "stdout",
       "text": [
        "\r",
        "deeplearning Model Build Progress: [#####                                             ] 10%"
       ]
      },
      {
       "output_type": "stream",
       "stream": "stdout",
       "text": [
        "\r",
        "deeplearning Model Build Progress: [#####                                             ] 10%"
       ]
      },
      {
       "output_type": "stream",
       "stream": "stdout",
       "text": [
        "\r",
        "deeplearning Model Build Progress: [##########                                        ] 20%"
       ]
      },
      {
       "output_type": "stream",
       "stream": "stdout",
       "text": [
        "\r",
        "deeplearning Model Build Progress: [###############                                   ] 30%"
       ]
      },
      {
       "output_type": "stream",
       "stream": "stdout",
       "text": [
        "\r",
        "deeplearning Model Build Progress: [####################                              ] 40%"
       ]
      },
      {
       "output_type": "stream",
       "stream": "stdout",
       "text": [
        "\r",
        "deeplearning Model Build Progress: [##############################                    ] 60%"
       ]
      },
      {
       "output_type": "stream",
       "stream": "stdout",
       "text": [
        "\r",
        "deeplearning Model Build Progress: [###################################               ] 70%"
       ]
      },
      {
       "output_type": "stream",
       "stream": "stdout",
       "text": [
        "\r",
        "deeplearning Model Build Progress: [#############################################     ] 90%"
       ]
      },
      {
       "output_type": "stream",
       "stream": "stdout",
       "text": [
        "\r",
        "deeplearning Model Build Progress: [##################################################] 100%"
       ]
      },
      {
       "output_type": "stream",
       "stream": "stdout",
       "text": [
        "\n"
       ]
      },
      {
       "html": [
        "<div style=\"overflow:auto\"><table style=\"width:50%\"><tr><td>Model</td>\n",
        "<td>R2 TRAIN</td>\n",
        "<td>R2 TEST</td>\n",
        "<td>R2 HOLDOUT</td>\n",
        "<td>Model Training Time (s)</td></tr>\n",
        "<tr><td>GBM</td>\n",
        "<td>0.997600576645</td>\n",
        "<td>0.923323331155</td>\n",
        "<td>0.927325425041</td>\n",
        "<td>6.796</td></tr>\n",
        "<tr><td>DRF</td>\n",
        "<td>0.880329388252</td>\n",
        "<td>0.754833700541</td>\n",
        "<td>0.761183345305</td>\n",
        "<td>21.158</td></tr>\n",
        "<tr><td>GLM</td>\n",
        "<td>0.869662532295</td>\n",
        "<td>0.845416580489</td>\n",
        "<td>0.858765297511</td>\n",
        "<td>0.218</td></tr>\n",
        "<tr><td>DL </td>\n",
        "<td>0.969567038227</td>\n",
        "<td>0.913211993605</td>\n",
        "<td>0.929112249566</td>\n",
        "<td>7.922</td></tr></table></div>"
       ],
       "metadata": {},
       "output_type": "display_data",
       "text": [
        "Model      R2 TRAIN    R2 TEST    R2 HOLDOUT    Model Training Time (s)\n",
        "-------  ----------  ---------  ------------  -------------------------\n",
        "GBM        0.997601   0.923323      0.927325                      6.796\n",
        "DRF        0.880329   0.754834      0.761183                     21.158\n",
        "GLM        0.869663   0.845417      0.858765                      0.218\n",
        "DL         0.969567   0.913212      0.929112                      7.922"
       ]
      }
     ],
     "prompt_number": 22
    }
   ],
   "metadata": {}
  }
 ]
}