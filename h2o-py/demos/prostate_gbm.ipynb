{
 "cells": [
  {
   "cell_type": "code",
   "execution_count": 1,
   "metadata": {
    "collapsed": false
   },
   "outputs": [],
   "source": [
    "import h2o\n",
    "from h2o.estimators.gbm import H2OGradientBoostingEstimator"
   ]
  },
  {
   "cell_type": "code",
   "execution_count": 2,
   "metadata": {
    "collapsed": false
   },
   "outputs": [
    {
     "name": "stdout",
     "output_type": "stream",
     "text": [
      "Warning: Version mismatch. H2O is version 3.5.0.99999, but the python package is version UNKNOWN.\n"
     ]
    },
    {
     "data": {
      "text/html": [
       "<div style=\"overflow:auto\"><table style=\"width:50%\"><tr><td>H2O cluster uptime: </td>\n",
       "<td>41 minutes 8 seconds 566 milliseconds </td></tr>\n",
       "<tr><td>H2O cluster version: </td>\n",
       "<td>3.5.0.99999</td></tr>\n",
       "<tr><td>H2O cluster name: </td>\n",
       "<td>ludirehak</td></tr>\n",
       "<tr><td>H2O cluster total nodes: </td>\n",
       "<td>1</td></tr>\n",
       "<tr><td>H2O cluster total memory: </td>\n",
       "<td>3.56 GB</td></tr>\n",
       "<tr><td>H2O cluster total cores: </td>\n",
       "<td>8</td></tr>\n",
       "<tr><td>H2O cluster allowed cores: </td>\n",
       "<td>8</td></tr>\n",
       "<tr><td>H2O cluster healthy: </td>\n",
       "<td>True</td></tr>\n",
       "<tr><td>H2O Connection ip: </td>\n",
       "<td>127.0.0.1</td></tr>\n",
       "<tr><td>H2O Connection port: </td>\n",
       "<td>54321</td></tr></table></div>"
      ],
      "text/plain": [
       "--------------------------  -------------------------------------\n",
       "H2O cluster uptime:         41 minutes 8 seconds 566 milliseconds\n",
       "H2O cluster version:        3.5.0.99999\n",
       "H2O cluster name:           ludirehak\n",
       "H2O cluster total nodes:    1\n",
       "H2O cluster total memory:   3.56 GB\n",
       "H2O cluster total cores:    8\n",
       "H2O cluster allowed cores:  8\n",
       "H2O cluster healthy:        True\n",
       "H2O Connection ip:          127.0.0.1\n",
       "H2O Connection port:        54321\n",
       "--------------------------  -------------------------------------"
      ]
     },
     "metadata": {},
     "output_type": "display_data"
    }
   ],
   "source": [
    "# Connect to a pre-existing cluster\n",
    "h2o.init()"
   ]
  },
  {
   "cell_type": "code",
   "execution_count": 3,
   "metadata": {
    "collapsed": false
   },
   "outputs": [
    {
     "name": "stdout",
     "output_type": "stream",
     "text": [
      "\n",
      "Parse Progress: [##################################################] 100%\n",
      "Imported /Users/ludirehak/h2o-3/smalldata/logreg/prostate.csv. Parsed 380 rows and 9 cols\n"
     ]
    }
   ],
   "source": [
    "from h2o.h2o import _locate # private function. used to find files within h2o git project directory.\n",
    "\n",
    "df = h2o.import_file(path=_locate(\"smalldata/logreg/prostate.csv\"))"
   ]
  },
  {
   "cell_type": "code",
   "execution_count": 4,
   "metadata": {
    "collapsed": false
   },
   "outputs": [
    {
     "name": "stdout",
     "output_type": "stream",
     "text": [
      "Rows: 380 Cols: 9\n",
      "\n",
      "Chunk compression summary:\n"
     ]
    },
    {
     "data": {
      "text/html": [
       "<div style=\"overflow:auto\"><table style=\"width:50%\"><tr><td><b>chunk_type</b></td>\n",
       "<td><b>chunk_name</b></td>\n",
       "<td><b>count</b></td>\n",
       "<td><b>count_percentage</b></td>\n",
       "<td><b>size</b></td>\n",
       "<td><b>size_percentage</b></td></tr>\n",
       "<tr><td>CBS</td>\n",
       "<td>Bits</td>\n",
       "<td>1</td>\n",
       "<td>11.111112</td>\n",
       "<td>    118  B</td>\n",
       "<td>2.4210093</td></tr>\n",
       "<tr><td>C1N</td>\n",
       "<td>1-Byte Integers (w/o NAs)</td>\n",
       "<td>5</td>\n",
       "<td>55.555557</td>\n",
       "<td>    2.2 KB</td>\n",
       "<td>45.958145</td></tr>\n",
       "<tr><td>C2</td>\n",
       "<td>2-Byte Integers</td>\n",
       "<td>1</td>\n",
       "<td>11.111112</td>\n",
       "<td>    828  B</td>\n",
       "<td>16.9881</td></tr>\n",
       "<tr><td>C2S</td>\n",
       "<td>2-Byte Fractions</td>\n",
       "<td>2</td>\n",
       "<td>22.222223</td>\n",
       "<td>    1.6 KB</td>\n",
       "<td>34.632744</td></tr></table></div>"
      ],
      "text/plain": [
       "chunk_type    chunk_name                 count    count_percentage    size    size_percentage\n",
       "------------  -------------------------  -------  ------------------  ------  -----------------\n",
       "CBS           Bits                       1        11.1111             118  B  2.42101\n",
       "C1N           1-Byte Integers (w/o NAs)  5        55.5556             2.2 KB  45.9581\n",
       "C2            2-Byte Integers            1        11.1111             828  B  16.9881\n",
       "C2S           2-Byte Fractions           2        22.2222             1.6 KB  34.6327"
      ]
     },
     "metadata": {},
     "output_type": "display_data"
    },
    {
     "name": "stdout",
     "output_type": "stream",
     "text": [
      "\n",
      "Frame distribution summary:\n"
     ]
    },
    {
     "data": {
      "text/html": [
       "<div style=\"overflow:auto\"><table style=\"width:50%\"><tr><td><b></b></td>\n",
       "<td><b>size</b></td>\n",
       "<td><b>number_of_rows</b></td>\n",
       "<td><b>number_of_chunks_per_column</b></td>\n",
       "<td><b>number_of_chunks</b></td></tr>\n",
       "<tr><td>172.16.2.38:54321</td>\n",
       "<td>    4.8 KB</td>\n",
       "<td>380.0</td>\n",
       "<td>1.0</td>\n",
       "<td>9.0</td></tr>\n",
       "<tr><td>mean</td>\n",
       "<td>    4.8 KB</td>\n",
       "<td>380.0</td>\n",
       "<td>1.0</td>\n",
       "<td>9.0</td></tr>\n",
       "<tr><td>min</td>\n",
       "<td>    4.8 KB</td>\n",
       "<td>380.0</td>\n",
       "<td>1.0</td>\n",
       "<td>9.0</td></tr>\n",
       "<tr><td>max</td>\n",
       "<td>    4.8 KB</td>\n",
       "<td>380.0</td>\n",
       "<td>1.0</td>\n",
       "<td>9.0</td></tr>\n",
       "<tr><td>stddev</td>\n",
       "<td>      0  B</td>\n",
       "<td>0.0</td>\n",
       "<td>0.0</td>\n",
       "<td>0.0</td></tr>\n",
       "<tr><td>total</td>\n",
       "<td>    4.8 KB</td>\n",
       "<td>380.0</td>\n",
       "<td>1.0</td>\n",
       "<td>9.0</td></tr></table></div>"
      ],
      "text/plain": [
       "                   size    number_of_rows    number_of_chunks_per_column    number_of_chunks\n",
       "-----------------  ------  ----------------  -----------------------------  ------------------\n",
       "172.16.2.38:54321  4.8 KB  380               1                              9\n",
       "mean               4.8 KB  380               1                              9\n",
       "min                4.8 KB  380               1                              9\n",
       "max                4.8 KB  380               1                              9\n",
       "stddev             0  B    0                 0                              0\n",
       "total              4.8 KB  380               1                              9"
      ]
     },
     "metadata": {},
     "output_type": "display_data"
    },
    {
     "name": "stdout",
     "output_type": "stream",
     "text": [
      "\n",
      "Column-by-Column Summary:\n",
      "\n"
     ]
    },
    {
     "data": {
      "text/html": [
       "<div style=\"overflow:auto\"><table style=\"width:50%\"><tr><td><b></b></td>\n",
       "<td><b>ID</b></td>\n",
       "<td><b>CAPSULE</b></td>\n",
       "<td><b>AGE</b></td>\n",
       "<td><b>RACE</b></td>\n",
       "<td><b>DPROS</b></td>\n",
       "<td><b>DCAPS</b></td>\n",
       "<td><b>PSA</b></td>\n",
       "<td><b>VOL</b></td>\n",
       "<td><b>GLEASON</b></td></tr>\n",
       "<tr><td>type</td>\n",
       "<td>int</td>\n",
       "<td>int</td>\n",
       "<td>int</td>\n",
       "<td>int</td>\n",
       "<td>int</td>\n",
       "<td>int</td>\n",
       "<td>real</td>\n",
       "<td>real</td>\n",
       "<td>int</td></tr>\n",
       "<tr><td>mins</td>\n",
       "<td>1.0</td>\n",
       "<td>0.0</td>\n",
       "<td>43.0</td>\n",
       "<td>0.0</td>\n",
       "<td>1.0</td>\n",
       "<td>1.0</td>\n",
       "<td>0.3</td>\n",
       "<td>0.0</td>\n",
       "<td>0.0</td></tr>\n",
       "<tr><td>maxs</td>\n",
       "<td>380.0</td>\n",
       "<td>1.0</td>\n",
       "<td>79.0</td>\n",
       "<td>2.0</td>\n",
       "<td>4.0</td>\n",
       "<td>2.0</td>\n",
       "<td>139.7</td>\n",
       "<td>97.6</td>\n",
       "<td>9.0</td></tr>\n",
       "<tr><td>mean</td>\n",
       "<td>190.5</td>\n",
       "<td>0.4</td>\n",
       "<td>66.0</td>\n",
       "<td>1.1</td>\n",
       "<td>2.3</td>\n",
       "<td>1.1</td>\n",
       "<td>15.4</td>\n",
       "<td>15.8</td>\n",
       "<td>6.4</td></tr>\n",
       "<tr><td>sigma</td>\n",
       "<td>109.8</td>\n",
       "<td>0.5</td>\n",
       "<td>6.5</td>\n",
       "<td>0.3</td>\n",
       "<td>1.0</td>\n",
       "<td>0.3</td>\n",
       "<td>20.0</td>\n",
       "<td>18.3</td>\n",
       "<td>1.1</td></tr>\n",
       "<tr><td>zero_count</td>\n",
       "<td>0</td>\n",
       "<td>227</td>\n",
       "<td>0</td>\n",
       "<td>3</td>\n",
       "<td>0</td>\n",
       "<td>0</td>\n",
       "<td>0</td>\n",
       "<td>167</td>\n",
       "<td>2</td></tr>\n",
       "<tr><td>missing_count</td>\n",
       "<td>0</td>\n",
       "<td>0</td>\n",
       "<td>0</td>\n",
       "<td>0</td>\n",
       "<td>0</td>\n",
       "<td>0</td>\n",
       "<td>0</td>\n",
       "<td>0</td>\n",
       "<td>0</td></tr></table></div>"
      ],
      "text/plain": [
       "               ID             CAPSULE         AGE            RACE            DPROS          DCAPS           PSA            VOL            GLEASON\n",
       "-------------  -------------  --------------  -------------  --------------  -------------  --------------  -------------  -------------  -------------\n",
       "type           int            int             int            int             int            int             real           real           int\n",
       "mins           1.0            0.0             43.0           0.0             1.0            1.0             0.3            0.0            0.0\n",
       "maxs           380.0          1.0             79.0           2.0             4.0            2.0             139.7          97.6           9.0\n",
       "mean           190.5          0.402631578947  66.0394736842  1.08684210526   2.27105263158  1.10789473684   15.4086315789  15.8129210526  6.38421052632\n",
       "sigma          109.840793879  0.491074338963  6.52707126917  0.308773258025  1.00010761815  0.310656449351  19.9975726686  18.3476199673  1.09195337443\n",
       "zero_count     0              227             0              3               0              0               0              167            2\n",
       "missing_count  0              0               0              0               0              0               0              0              0"
      ]
     },
     "metadata": {},
     "output_type": "display_data"
    }
   ],
   "source": [
    "df.describe()"
   ]
  },
  {
   "cell_type": "code",
   "execution_count": 5,
   "metadata": {
    "collapsed": false
   },
   "outputs": [],
   "source": [
    "# Remove ID from training frame\n",
    "train = df.drop(\"ID\")"
   ]
  },
  {
   "cell_type": "code",
   "execution_count": 6,
   "metadata": {
    "collapsed": false
   },
   "outputs": [],
   "source": [
    "# For VOL & GLEASON, a zero really means \"missing\"\n",
    "vol = train['VOL']\n",
    "vol[vol == 0] = None\n",
    "gle = train['GLEASON']\n",
    "gle[gle == 0] = None"
   ]
  },
  {
   "cell_type": "code",
   "execution_count": 7,
   "metadata": {
    "collapsed": false
   },
   "outputs": [],
   "source": [
    "# Convert CAPSULE to a logical factor\n",
    "train['CAPSULE'] = train['CAPSULE'].asfactor()"
   ]
  },
  {
   "cell_type": "code",
   "execution_count": 8,
   "metadata": {
    "collapsed": false
   },
   "outputs": [
    {
     "name": "stdout",
     "output_type": "stream",
     "text": [
      "Rows: 380 Cols: 8\n",
      "\n",
      "Chunk compression summary:\n"
     ]
    },
    {
     "data": {
      "text/html": [
       "<div style=\"overflow:auto\"><table style=\"width:50%\"><tr><td><b>chunk_type</b></td>\n",
       "<td><b>chunk_name</b></td>\n",
       "<td><b>count</b></td>\n",
       "<td><b>count_percentage</b></td>\n",
       "<td><b>size</b></td>\n",
       "<td><b>size_percentage</b></td></tr>\n",
       "<tr><td>CBS</td>\n",
       "<td>Bits</td>\n",
       "<td>1</td>\n",
       "<td>12.5</td>\n",
       "<td>    118  B</td>\n",
       "<td>2.9164608</td></tr>\n",
       "<tr><td>C1N</td>\n",
       "<td>1-Byte Integers (w/o NAs)</td>\n",
       "<td>5</td>\n",
       "<td>62.5</td>\n",
       "<td>    2.2 KB</td>\n",
       "<td>55.363323</td></tr>\n",
       "<tr><td>C2S</td>\n",
       "<td>2-Byte Fractions</td>\n",
       "<td>2</td>\n",
       "<td>25.0</td>\n",
       "<td>    1.6 KB</td>\n",
       "<td>41.72022</td></tr></table></div>"
      ],
      "text/plain": [
       "chunk_type    chunk_name                 count    count_percentage    size    size_percentage\n",
       "------------  -------------------------  -------  ------------------  ------  -----------------\n",
       "CBS           Bits                       1        12.5                118  B  2.91646\n",
       "C1N           1-Byte Integers (w/o NAs)  5        62.5                2.2 KB  55.3633\n",
       "C2S           2-Byte Fractions           2        25                  1.6 KB  41.7202"
      ]
     },
     "metadata": {},
     "output_type": "display_data"
    },
    {
     "name": "stdout",
     "output_type": "stream",
     "text": [
      "\n",
      "Frame distribution summary:\n"
     ]
    },
    {
     "data": {
      "text/html": [
       "<div style=\"overflow:auto\"><table style=\"width:50%\"><tr><td><b></b></td>\n",
       "<td><b>size</b></td>\n",
       "<td><b>number_of_rows</b></td>\n",
       "<td><b>number_of_chunks_per_column</b></td>\n",
       "<td><b>number_of_chunks</b></td></tr>\n",
       "<tr><td>172.16.2.38:54321</td>\n",
       "<td>    4.0 KB</td>\n",
       "<td>380.0</td>\n",
       "<td>1.0</td>\n",
       "<td>8.0</td></tr>\n",
       "<tr><td>mean</td>\n",
       "<td>    4.0 KB</td>\n",
       "<td>380.0</td>\n",
       "<td>1.0</td>\n",
       "<td>8.0</td></tr>\n",
       "<tr><td>min</td>\n",
       "<td>    4.0 KB</td>\n",
       "<td>380.0</td>\n",
       "<td>1.0</td>\n",
       "<td>8.0</td></tr>\n",
       "<tr><td>max</td>\n",
       "<td>    4.0 KB</td>\n",
       "<td>380.0</td>\n",
       "<td>1.0</td>\n",
       "<td>8.0</td></tr>\n",
       "<tr><td>stddev</td>\n",
       "<td>      0  B</td>\n",
       "<td>0.0</td>\n",
       "<td>0.0</td>\n",
       "<td>0.0</td></tr>\n",
       "<tr><td>total</td>\n",
       "<td>    4.0 KB</td>\n",
       "<td>380.0</td>\n",
       "<td>1.0</td>\n",
       "<td>8.0</td></tr></table></div>"
      ],
      "text/plain": [
       "                   size    number_of_rows    number_of_chunks_per_column    number_of_chunks\n",
       "-----------------  ------  ----------------  -----------------------------  ------------------\n",
       "172.16.2.38:54321  4.0 KB  380               1                              8\n",
       "mean               4.0 KB  380               1                              8\n",
       "min                4.0 KB  380               1                              8\n",
       "max                4.0 KB  380               1                              8\n",
       "stddev             0  B    0                 0                              0\n",
       "total              4.0 KB  380               1                              8"
      ]
     },
     "metadata": {},
     "output_type": "display_data"
    },
    {
     "name": "stdout",
     "output_type": "stream",
     "text": [
      "\n",
      "Column-by-Column Summary:\n",
      "\n"
     ]
    },
    {
     "data": {
      "text/html": [
       "<div style=\"overflow:auto\"><table style=\"width:50%\"><tr><td><b></b></td>\n",
       "<td><b>CAPSULE</b></td>\n",
       "<td><b>AGE</b></td>\n",
       "<td><b>RACE</b></td>\n",
       "<td><b>DPROS</b></td>\n",
       "<td><b>DCAPS</b></td>\n",
       "<td><b>PSA</b></td>\n",
       "<td><b>VOL</b></td>\n",
       "<td><b>GLEASON</b></td></tr>\n",
       "<tr><td>type</td>\n",
       "<td>enum</td>\n",
       "<td>int</td>\n",
       "<td>int</td>\n",
       "<td>int</td>\n",
       "<td>int</td>\n",
       "<td>real</td>\n",
       "<td>real</td>\n",
       "<td>int</td></tr>\n",
       "<tr><td>mins</td>\n",
       "<td>0.0</td>\n",
       "<td>43.0</td>\n",
       "<td>0.0</td>\n",
       "<td>1.0</td>\n",
       "<td>1.0</td>\n",
       "<td>0.3</td>\n",
       "<td>0.0</td>\n",
       "<td>0.0</td></tr>\n",
       "<tr><td>maxs</td>\n",
       "<td>1.0</td>\n",
       "<td>79.0</td>\n",
       "<td>2.0</td>\n",
       "<td>4.0</td>\n",
       "<td>2.0</td>\n",
       "<td>139.7</td>\n",
       "<td>97.6</td>\n",
       "<td>9.0</td></tr>\n",
       "<tr><td>mean</td>\n",
       "<td>0.4</td>\n",
       "<td>66.0</td>\n",
       "<td>1.1</td>\n",
       "<td>2.3</td>\n",
       "<td>1.1</td>\n",
       "<td>15.4</td>\n",
       "<td>15.8</td>\n",
       "<td>6.4</td></tr>\n",
       "<tr><td>sigma</td>\n",
       "<td>0.5</td>\n",
       "<td>6.5</td>\n",
       "<td>0.3</td>\n",
       "<td>1.0</td>\n",
       "<td>0.3</td>\n",
       "<td>20.0</td>\n",
       "<td>18.3</td>\n",
       "<td>1.1</td></tr>\n",
       "<tr><td>zero_count</td>\n",
       "<td>227</td>\n",
       "<td>0</td>\n",
       "<td>3</td>\n",
       "<td>0</td>\n",
       "<td>0</td>\n",
       "<td>0</td>\n",
       "<td>167</td>\n",
       "<td>2</td></tr>\n",
       "<tr><td>missing_count</td>\n",
       "<td>0</td>\n",
       "<td>0</td>\n",
       "<td>0</td>\n",
       "<td>0</td>\n",
       "<td>0</td>\n",
       "<td>0</td>\n",
       "<td>0</td>\n",
       "<td>0</td></tr></table></div>"
      ],
      "text/plain": [
       "               CAPSULE         AGE            RACE            DPROS          DCAPS           PSA            VOL            GLEASON\n",
       "-------------  --------------  -------------  --------------  -------------  --------------  -------------  -------------  -------------\n",
       "type           enum            int            int             int            int             real           real           int\n",
       "mins           0.0             43.0           0.0             1.0            1.0             0.3            0.0            0.0\n",
       "maxs           1.0             79.0           2.0             4.0            2.0             139.7          97.6           9.0\n",
       "mean           0.402631578947  66.0394736842  1.08684210526   2.27105263158  1.10789473684   15.4086315789  15.8129210526  6.38421052632\n",
       "sigma          0.491074338963  6.52707126917  0.308773258025  1.00010761815  0.310656449351  19.9975726686  18.3476199673  1.09195337443\n",
       "zero_count     227             0              3               0              0               0              167            2\n",
       "missing_count  0               0              0               0              0               0              0              0"
      ]
     },
     "metadata": {},
     "output_type": "display_data"
    }
   ],
   "source": [
    "# See that the data is ready\n",
    "train.describe()"
   ]
  },
  {
   "cell_type": "code",
   "execution_count": 9,
   "metadata": {
    "collapsed": false
   },
   "outputs": [
    {
     "name": "stdout",
     "output_type": "stream",
     "text": [
      "\n",
      "gbm Model Build Progress: [##################################################] 100%\n"
     ]
    }
   ],
   "source": [
    "# Run GBM\n",
    "my_gbm = H2OGradientBoostingEstimator(distribution = \"bernoulli\", ntrees=50, learn_rate=0.1)\n",
    "\n",
    "my_gbm.train(x=range(1,train.ncol), y=\"CAPSULE\", training_frame=train, validation_frame=train)"
   ]
  },
  {
   "cell_type": "code",
   "execution_count": 10,
   "metadata": {
    "collapsed": false
   },
   "outputs": [
    {
     "name": "stdout",
     "output_type": "stream",
     "text": [
      "\n",
      "ModelMetricsBinomial: gbm\n",
      "** Reported on test data. **\n",
      "\n",
      "MSE: 0.0758414746751\n",
      "R^2: 0.684676256282\n",
      "LogLoss: 0.274466812848\n",
      "AUC: 0.978031153724\n",
      "Gini: 0.956062307449\n",
      "\n",
      "Confusion Matrix (Act/Pred) for max f1 @ threshold = 0.454949666805:\n"
     ]
    },
    {
     "data": {
      "text/html": [
       "<div style=\"overflow:auto\"><table style=\"width:50%\"><tr><td><b></b></td>\n",
       "<td><b>0</b></td>\n",
       "<td><b>1</b></td>\n",
       "<td><b>Error</b></td>\n",
       "<td><b>Rate</b></td></tr>\n",
       "<tr><td>0</td>\n",
       "<td>216.0</td>\n",
       "<td>11.0</td>\n",
       "<td>0.0485</td>\n",
       "<td> (11.0/227.0)</td></tr>\n",
       "<tr><td>1</td>\n",
       "<td>14.0</td>\n",
       "<td>139.0</td>\n",
       "<td>0.0915</td>\n",
       "<td> (14.0/153.0)</td></tr>\n",
       "<tr><td>Total</td>\n",
       "<td>230.0</td>\n",
       "<td>150.0</td>\n",
       "<td>0.0658</td>\n",
       "<td> (25.0/380.0)</td></tr></table></div>"
      ],
      "text/plain": [
       "       0    1    Error    Rate\n",
       "-----  ---  ---  -------  ------------\n",
       "0      216  11   0.0485   (11.0/227.0)\n",
       "1      14   139  0.0915   (14.0/153.0)\n",
       "Total  230  150  0.0658   (25.0/380.0)"
      ]
     },
     "metadata": {},
     "output_type": "display_data"
    },
    {
     "name": "stdout",
     "output_type": "stream",
     "text": [
      "\n",
      "Maximum Metrics: Maximum metrics at their respective thresholds\n",
      "\n"
     ]
    },
    {
     "data": {
      "text/html": [
       "<div style=\"overflow:auto\"><table style=\"width:50%\"><tr><td><b>metric</b></td>\n",
       "<td><b>threshold</b></td>\n",
       "<td><b>value</b></td>\n",
       "<td><b>idx</b></td></tr>\n",
       "<tr><td>max f1</td>\n",
       "<td>0.5</td>\n",
       "<td>0.9</td>\n",
       "<td>149.0</td></tr>\n",
       "<tr><td>max f2</td>\n",
       "<td>0.3</td>\n",
       "<td>0.9</td>\n",
       "<td>196.0</td></tr>\n",
       "<tr><td>max f0point5</td>\n",
       "<td>0.5</td>\n",
       "<td>0.9</td>\n",
       "<td>146.0</td></tr>\n",
       "<tr><td>max accuracy</td>\n",
       "<td>0.5</td>\n",
       "<td>0.9</td>\n",
       "<td>149.0</td></tr>\n",
       "<tr><td>max precision</td>\n",
       "<td>1.0</td>\n",
       "<td>1.0</td>\n",
       "<td>0.0</td></tr>\n",
       "<tr><td>max absolute_MCC</td>\n",
       "<td>0.5</td>\n",
       "<td>0.9</td>\n",
       "<td>149.0</td></tr>\n",
       "<tr><td>max min_per_class_accuracy</td>\n",
       "<td>0.4</td>\n",
       "<td>0.9</td>\n",
       "<td>156.0</td></tr></table></div>"
      ],
      "text/plain": [
       "metric                      threshold    value     idx\n",
       "--------------------------  -----------  --------  -----\n",
       "max f1                      0.45495      0.917492  149\n",
       "max f2                      0.303201     0.939431  196\n",
       "max f0point5                0.472831     0.924426  146\n",
       "max accuracy                0.45495      0.934211  149\n",
       "max precision               0.974794     1         0\n",
       "max absolute_MCC            0.45495      0.862913  149\n",
       "max min_per_class_accuracy  0.437399     0.921569  156"
      ]
     },
     "metadata": {},
     "output_type": "display_data"
    }
   ],
   "source": [
    "my_gbm_metrics = my_gbm.model_performance(train)\n",
    "my_gbm_metrics.show()"
   ]
  }
 ],
 "metadata": {
  "kernelspec": {
   "display_name": "Python 2",
   "language": "python",
   "name": "python2"
  },
  "language_info": {
   "codemirror_mode": {
    "name": "ipython",
    "version": 2
   },
   "file_extension": ".py",
   "mimetype": "text/x-python",
   "name": "python",
   "nbconvert_exporter": "python",
   "pygments_lexer": "ipython2",
   "version": "2.7.5"
  }
 },
 "nbformat": 4,
 "nbformat_minor": 0
}
