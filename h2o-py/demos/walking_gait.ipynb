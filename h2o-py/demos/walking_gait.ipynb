{
 "cells": [
  {
   "cell_type": "code",
   "execution_count": null,
   "metadata": {
    "collapsed": true
   },
   "outputs": [],
   "source": [
    "import h2o\n",
    "import numpy as np\n",
    "import matplotlib.patches as mpatches\n",
    "import matplotlib.pyplot as plt\n",
    "from h2o.estimators.glrm import H2OGeneralizedLowRankEstimator"
   ]
  },
  {
   "cell_type": "code",
   "execution_count": null,
   "metadata": {
    "collapsed": false
   },
   "outputs": [],
   "source": [
    "h2o.init()"
   ]
  },
  {
   "cell_type": "code",
   "execution_count": null,
   "metadata": {
    "collapsed": false
   },
   "outputs": [],
   "source": [
    "from h2o.h2o import _locate # private function. used to find files within h2o git project directory.\n",
    "\n",
    "# Import walking gait data\n",
    "gait = h2o.upload_file(path=_locate(\"smalldata/glrm_test/subject01_walk1.csv\"))\n",
    "gait.describe()"
   ]
  },
  {
   "cell_type": "code",
   "execution_count": null,
   "metadata": {
    "collapsed": false
   },
   "outputs": [],
   "source": [
    "# Basic GLRM using quadratic loss and no regularization (PCA)\n",
    "model = H2OGeneralizedLowRankEstimator(k=10, loss=\"Quadratic\", regularization_x=\"None\", regularization_y=\"None\", max_iterations=1000)\n",
    "model.train(x=range(1,gait.ncol), training_frame=gait)\n",
    "model.show()"
   ]
  },
  {
   "cell_type": "code",
   "execution_count": null,
   "metadata": {
    "collapsed": false
   },
   "outputs": [],
   "source": [
    "# Plot objective function value each iteration\n",
    "model_score = model.score_history()\n",
    "plt.xlabel(\"Iteration\")\n",
    "plt.ylabel(\"Objective\")\n",
    "plt.title(\"Objective Function Value per Iteration\")\n",
    "print model_score\n",
    "plt.plot(model_score[\"iteration\"], model_score[\"objective\"])\n",
    "plt.show()"
   ]
  },
  {
   "cell_type": "code",
   "execution_count": null,
   "metadata": {
    "collapsed": false
   },
   "outputs": [],
   "source": [
    "# Archetype to feature mapping (Y)\n",
    "gait_y = model._model_json[\"output\"][\"archetypes\"]\n",
    "print gait_y\n",
    "\n",
    "gait_y_np = np.array(model.archetypes())\n",
    "x_coords = range(0, gait_y_np.shape[1], 3)\n",
    "y_coords = range(1, gait_y_np.shape[1], 3)\n",
    "\n",
    "# Plot archetypes on x- vs. y-coordinate features\n",
    "for k in xrange(gait_y_np.shape[0]):\n",
    "    x_pts = gait_y_np[k, x_coords]\n",
    "    y_pts = gait_y_np[k, y_coords]\n",
    "    plt.plot(x_pts, y_pts, 'bo')\n",
    "\n",
    "    # Add feature labels to each point\n",
    "    feat_names = [nam[:-1] for nam in gait_y.col_header[1::3]]\n",
    "    for i in xrange(len(feat_names)):\n",
    "        plt.annotate(feat_names[i], xy = [x_pts[i], y_pts[i]])\n",
    "    plt.title(\"Feature Weights of Archetype \" + str(k+1))\n",
    "    plt.xlabel(\"X-Coordinate Weight\")\n",
    "    plt.ylabel(\"Y-Coordinate Weight\")\n",
    "    plt.show()"
   ]
  },
  {
   "cell_type": "code",
   "execution_count": null,
   "metadata": {
    "collapsed": false
   },
   "outputs": [],
   "source": [
    "# Projection into archetype space (X)\n",
    "x_key = model._model_json[\"output\"][\"representation_name\"]\n",
    "gait_x = h2o.get_frame(x_key)\n",
    "gait_x.show()\n",
    "\n",
    "time_np = np.array(h2o.as_list(gait[\"Time\"]))\n",
    "gait_x_np = np.array(h2o.as_list(gait_x))\n",
    "\n",
    "# Plot archetypes over time\n",
    "lines = []\n",
    "for i in xrange(gait_x_np.shape[1]):\n",
    "    lines += plt.plot(time_np, gait_x_np[:,i], '-')\n",
    "plt.title(\"Archetypes over Time\")\n",
    "plt.xlabel(\"Time\")\n",
    "plt.ylabel(\"Archetypal Projection\")\n",
    "plt.legend(lines, gait_x.col_names)\n",
    "plt.show()"
   ]
  },
  {
   "cell_type": "code",
   "execution_count": null,
   "metadata": {
    "collapsed": false
   },
   "outputs": [],
   "source": [
    "# Reconstruct data from X and Y\n",
    "pred = model.predict(gait)\n",
    "pred.head()"
   ]
  },
  {
   "cell_type": "code",
   "execution_count": null,
   "metadata": {
    "collapsed": false
   },
   "outputs": [],
   "source": [
    "# Plot original and reconstructed L.Acromium.X over time\n",
    "lacro_np = np.array(h2o.as_list(gait[\"L.Acromium.X\"]))\n",
    "lacro_pred_np = np.array(h2o.as_list(pred[\"reconstr_L.Acromium.X\"]))\n",
    "line_orig = plt.plot(time_np, lacro_np, '-')\n",
    "line_imp = plt.plot(time_np, lacro_pred_np, '-')\n",
    "\n",
    "plt.title(\"Position of Left Acromium over Time\")\n",
    "plt.xlabel(\"Time\")\n",
    "plt.ylabel(\"X-Coordinate of Left Acromium\")\n",
    "blue_patch = mpatches.Patch(color = 'blue', label = 'Original')\n",
    "green_patch = mpatches.Patch(color = 'green', label='Imputed')\n",
    "plt.legend([blue_patch, green_patch], [\"Original\", \"Imputed\"])\n",
    "plt.show()"
   ]
  },
  {
   "cell_type": "code",
   "execution_count": null,
   "metadata": {
    "collapsed": false
   },
   "outputs": [],
   "source": [
    "# Import walking gait data with missing values\n",
    "gait_miss = h2o.upload_file(_locate(\"smalldata/glrm_test/subject01_walk1_miss15.csv\"))\n",
    "gait_miss.describe()"
   ]
  },
  {
   "cell_type": "code",
   "execution_count": null,
   "metadata": {
    "collapsed": false
   },
   "outputs": [],
   "source": [
    "# Basic GLRM using quadratic loss and no regularization\n",
    "\n",
    "model2 = H2OGeneralizedLowRankEstimator(k=10, init=\"SVD\", svd_method = \"GramSVD\", loss=\"Quadratic\", regularization_x=\"None\", regularization_y=\"None\", max_iterations=2000, min_step_size=1e-6)\n",
    "model2.train(x=range(1,gait_miss.ncol), training_frame=gait_miss, validation_frame=gait)\n",
    "model2.show()"
   ]
  },
  {
   "cell_type": "code",
   "execution_count": null,
   "metadata": {
    "collapsed": true
   },
   "outputs": [],
   "source": [
    "# Plot objective function value each iteration\n",
    "model2_score = model2.score_history()\n",
    "plt.xlabel(\"Iteration\")\n",
    "plt.ylabel(\"Objective\")\n",
    "plt.title(\"Objective Function Value per Iteration\")\n",
    "plt.plot(model2_score[\"iteration\"], model2_score[\"objective\"])\n",
    "plt.show()"
   ]
  },
  {
   "cell_type": "code",
   "execution_count": null,
   "metadata": {
    "collapsed": false
   },
   "outputs": [],
   "source": [
    "# Impute missing data from X and Y\n",
    "pred2 = model2.predict(gait_miss)\n",
    "pred2.head()"
   ]
  },
  {
   "cell_type": "code",
   "execution_count": null,
   "metadata": {
    "collapsed": false
   },
   "outputs": [],
   "source": [
    "# Plot original and imputed L.Acromium.X over time\n",
    "lacro_pred_np2 = np.array(h2o.as_list(pred2[\"reconstr_L.Acromium.X\"]))\n",
    "plt.plot(time_np, lacro_np, 'b-')\n",
    "plt.plot(time_np, lacro_pred_np2, 'g-')\n",
    "\n",
    "# Mark points where training data contains missing values\n",
    "idx_miss = zip(*gait_miss[\"L.Acromium.X\"].isna().which().as_data_frame(True).values.tolist())\n",
    "plt.plot(time_np[idx_miss], lacro_np[idx_miss], \"o\", marker = \"x\", ms = 8, mew = 1.5, mec = \"r\")\n",
    "\n",
    "plt.title(\"Position of Left Acromium over Time\")\n",
    "plt.xlabel(\"Time\")\n",
    "plt.ylabel(\"X-Coordinate of Left Acromium\")\n",
    "blue_patch = mpatches.Patch(color = 'blue', label = 'Original')\n",
    "green_patch = mpatches.Patch(color = 'green', label = 'Imputed')\n",
    "red_patch = mpatches.Patch(color = 'red', label = \"Missing\")\n",
    "plt.legend([blue_patch, green_patch, red_patch], [\"Original\", \"Imputed\", \"Missing\"])\n",
    "plt.show()"
   ]
  },
  {
   "cell_type": "code",
   "execution_count": null,
   "metadata": {
    "collapsed": true
   },
   "outputs": [],
   "source": []
  }
 ],
 "metadata": {
  "kernelspec": {
   "display_name": "Python 2",
   "language": "python",
   "name": "python2"
  },
  "language_info": {
   "codemirror_mode": {
    "name": "ipython",
    "version": 2
   },
   "file_extension": ".py",
   "mimetype": "text/x-python",
   "name": "python",
   "nbconvert_exporter": "python",
   "pygments_lexer": "ipython2",
   "version": "2.7.10"
  }
 },
 "nbformat": 4,
 "nbformat_minor": 0
}
